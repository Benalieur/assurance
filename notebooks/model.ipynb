{
 "cells": [
  {
   "attachments": {},
   "cell_type": "markdown",
   "metadata": {},
   "source": [
    "# Machine Learning"
   ]
  },
  {
   "attachments": {},
   "cell_type": "markdown",
   "metadata": {},
   "source": [
    "## Imports"
   ]
  },
  {
   "cell_type": "code",
   "execution_count": 1,
   "metadata": {},
   "outputs": [],
   "source": [
    "import numpy as np\n",
    "import pandas as pd\n",
    "import matplotlib.pyplot as plt\n",
    "\n",
    "from sklearn.dummy import DummyRegressor\n",
    "from sklearn.model_selection import train_test_split, cross_val_score, GridSearchCV, RandomizedSearchCV, learning_curve\n",
    "from sklearn.linear_model import LinearRegression, Lasso, Ridge, ElasticNet, LassoCV, RidgeCV, ElasticNetCV, LassoLars, OrthogonalMatchingPursuit, BayesianRidge, ARDRegression, PassiveAggressiveRegressor, RANSACRegressor, TheilSenRegressor, HuberRegressor\n",
    "from sklearn.pipeline import make_pipeline, Pipeline\n",
    "from sklearn.compose import make_column_transformer, ColumnTransformer\n",
    "from sklearn.metrics import mean_squared_error, r2_score\n",
    "from sklearn.feature_selection import SelectKBest, chi2, f_classif\n",
    "from sklearn.preprocessing import LabelEncoder, LabelBinarizer, OneHotEncoder, StandardScaler, RobustScaler, PolynomialFeatures\n",
    "from sklearn.tree import DecisionTreeRegressor, ExtraTreeRegressor\n",
    "from sklearn.neural_network import MLPRegressor\n",
    "from sklearn.ensemble import RandomForestRegressor, ExtraTreesRegressor, GradientBoostingRegressor, AdaBoostRegressor, GradientBoostingRegressor, BaggingRegressor, StackingRegressor\n",
    "\n",
    "from joblib import dump\n",
    "\n",
    "import math"
   ]
  },
  {
   "attachments": {},
   "cell_type": "markdown",
   "metadata": {},
   "source": [
    "## Découpage du dataset"
   ]
  },
  {
   "cell_type": "code",
   "execution_count": 2,
   "metadata": {},
   "outputs": [],
   "source": [
    "df = pd.read_csv('../csv/donnees_clean.csv')"
   ]
  },
  {
   "cell_type": "code",
   "execution_count": 3,
   "metadata": {},
   "outputs": [],
   "source": [
    "X = df.drop('charges', axis=1)\n",
    "y = df['charges']"
   ]
  },
  {
   "cell_type": "code",
   "execution_count": 4,
   "metadata": {},
   "outputs": [
    {
     "data": {
      "text/html": [
       "<div>\n",
       "<style scoped>\n",
       "    .dataframe tbody tr th:only-of-type {\n",
       "        vertical-align: middle;\n",
       "    }\n",
       "\n",
       "    .dataframe tbody tr th {\n",
       "        vertical-align: top;\n",
       "    }\n",
       "\n",
       "    .dataframe thead th {\n",
       "        text-align: right;\n",
       "    }\n",
       "</style>\n",
       "<table border=\"1\" class=\"dataframe\">\n",
       "  <thead>\n",
       "    <tr style=\"text-align: right;\">\n",
       "      <th></th>\n",
       "      <th>age</th>\n",
       "      <th>sex</th>\n",
       "      <th>bmi</th>\n",
       "      <th>children</th>\n",
       "      <th>smoker</th>\n",
       "      <th>region</th>\n",
       "      <th>charges</th>\n",
       "    </tr>\n",
       "  </thead>\n",
       "  <tbody>\n",
       "    <tr>\n",
       "      <th>0</th>\n",
       "      <td>19</td>\n",
       "      <td>female</td>\n",
       "      <td>27.9</td>\n",
       "      <td>0</td>\n",
       "      <td>Oui</td>\n",
       "      <td>southwest</td>\n",
       "      <td>16884.92</td>\n",
       "    </tr>\n",
       "    <tr>\n",
       "      <th>1</th>\n",
       "      <td>18</td>\n",
       "      <td>male</td>\n",
       "      <td>33.8</td>\n",
       "      <td>1</td>\n",
       "      <td>Non</td>\n",
       "      <td>southeast</td>\n",
       "      <td>1725.55</td>\n",
       "    </tr>\n",
       "    <tr>\n",
       "      <th>2</th>\n",
       "      <td>28</td>\n",
       "      <td>male</td>\n",
       "      <td>33.0</td>\n",
       "      <td>3</td>\n",
       "      <td>Non</td>\n",
       "      <td>southeast</td>\n",
       "      <td>4449.46</td>\n",
       "    </tr>\n",
       "    <tr>\n",
       "      <th>3</th>\n",
       "      <td>33</td>\n",
       "      <td>male</td>\n",
       "      <td>22.7</td>\n",
       "      <td>0</td>\n",
       "      <td>Non</td>\n",
       "      <td>northwest</td>\n",
       "      <td>21984.47</td>\n",
       "    </tr>\n",
       "    <tr>\n",
       "      <th>4</th>\n",
       "      <td>32</td>\n",
       "      <td>male</td>\n",
       "      <td>28.9</td>\n",
       "      <td>0</td>\n",
       "      <td>Non</td>\n",
       "      <td>northwest</td>\n",
       "      <td>3866.86</td>\n",
       "    </tr>\n",
       "    <tr>\n",
       "      <th>...</th>\n",
       "      <td>...</td>\n",
       "      <td>...</td>\n",
       "      <td>...</td>\n",
       "      <td>...</td>\n",
       "      <td>...</td>\n",
       "      <td>...</td>\n",
       "      <td>...</td>\n",
       "    </tr>\n",
       "    <tr>\n",
       "      <th>1332</th>\n",
       "      <td>50</td>\n",
       "      <td>male</td>\n",
       "      <td>31.0</td>\n",
       "      <td>3</td>\n",
       "      <td>Non</td>\n",
       "      <td>northwest</td>\n",
       "      <td>10600.55</td>\n",
       "    </tr>\n",
       "    <tr>\n",
       "      <th>1333</th>\n",
       "      <td>18</td>\n",
       "      <td>female</td>\n",
       "      <td>31.9</td>\n",
       "      <td>0</td>\n",
       "      <td>Non</td>\n",
       "      <td>northeast</td>\n",
       "      <td>2205.98</td>\n",
       "    </tr>\n",
       "    <tr>\n",
       "      <th>1334</th>\n",
       "      <td>18</td>\n",
       "      <td>female</td>\n",
       "      <td>36.9</td>\n",
       "      <td>0</td>\n",
       "      <td>Non</td>\n",
       "      <td>southeast</td>\n",
       "      <td>1629.83</td>\n",
       "    </tr>\n",
       "    <tr>\n",
       "      <th>1335</th>\n",
       "      <td>21</td>\n",
       "      <td>female</td>\n",
       "      <td>25.8</td>\n",
       "      <td>0</td>\n",
       "      <td>Non</td>\n",
       "      <td>southwest</td>\n",
       "      <td>2007.94</td>\n",
       "    </tr>\n",
       "    <tr>\n",
       "      <th>1336</th>\n",
       "      <td>61</td>\n",
       "      <td>female</td>\n",
       "      <td>29.1</td>\n",
       "      <td>0</td>\n",
       "      <td>Oui</td>\n",
       "      <td>northwest</td>\n",
       "      <td>29141.36</td>\n",
       "    </tr>\n",
       "  </tbody>\n",
       "</table>\n",
       "<p>1337 rows × 7 columns</p>\n",
       "</div>"
      ],
      "text/plain": [
       "      age     sex   bmi  children smoker     region   charges\n",
       "0      19  female  27.9         0    Oui  southwest  16884.92\n",
       "1      18    male  33.8         1    Non  southeast   1725.55\n",
       "2      28    male  33.0         3    Non  southeast   4449.46\n",
       "3      33    male  22.7         0    Non  northwest  21984.47\n",
       "4      32    male  28.9         0    Non  northwest   3866.86\n",
       "...   ...     ...   ...       ...    ...        ...       ...\n",
       "1332   50    male  31.0         3    Non  northwest  10600.55\n",
       "1333   18  female  31.9         0    Non  northeast   2205.98\n",
       "1334   18  female  36.9         0    Non  southeast   1629.83\n",
       "1335   21  female  25.8         0    Non  southwest   2007.94\n",
       "1336   61  female  29.1         0    Oui  northwest  29141.36\n",
       "\n",
       "[1337 rows x 7 columns]"
      ]
     },
     "execution_count": 4,
     "metadata": {},
     "output_type": "execute_result"
    }
   ],
   "source": [
    "df"
   ]
  },
  {
   "attachments": {},
   "cell_type": "markdown",
   "metadata": {},
   "source": [
    "## Nettoyage des données"
   ]
  },
  {
   "cell_type": "code",
   "execution_count": 5,
   "metadata": {},
   "outputs": [],
   "source": [
    "def bmi(bmi):\n",
    "    if bmi < 18.5:\n",
    "        return \"maigreur\"\n",
    "    elif bmi < 25:\n",
    "        return \"normal\"\n",
    "    elif bmi < 30:\n",
    "        return \"surpoids\"\n",
    "    elif bmi < 35:\n",
    "        return \"obesite_moderee\"\n",
    "    elif bmi < 40:\n",
    "        return \"obesite_severe\"\n",
    "    else:\n",
    "        return \"obesite_morbide\""
   ]
  },
  {
   "cell_type": "code",
   "execution_count": 6,
   "metadata": {},
   "outputs": [],
   "source": [
    "# df.sort_values('bmi', ascending=False).head(50)"
   ]
  },
  {
   "cell_type": "code",
   "execution_count": 7,
   "metadata": {},
   "outputs": [],
   "source": [
    "# for i in df.index:\n",
    "#     if df['smoker'][i] == 'Non':\n",
    "#         df['bmi'][i] = df['bmi'][i] / 0.293656\n",
    "\n",
    "# # df.sort_values('bmi', ascending=False).head(50)"
   ]
  },
  {
   "cell_type": "code",
   "execution_count": 8,
   "metadata": {},
   "outputs": [
    {
     "data": {
      "text/html": [
       "<div>\n",
       "<style scoped>\n",
       "    .dataframe tbody tr th:only-of-type {\n",
       "        vertical-align: middle;\n",
       "    }\n",
       "\n",
       "    .dataframe tbody tr th {\n",
       "        vertical-align: top;\n",
       "    }\n",
       "\n",
       "    .dataframe thead th {\n",
       "        text-align: right;\n",
       "    }\n",
       "</style>\n",
       "<table border=\"1\" class=\"dataframe\">\n",
       "  <thead>\n",
       "    <tr style=\"text-align: right;\">\n",
       "      <th></th>\n",
       "      <th>age</th>\n",
       "      <th>sex</th>\n",
       "      <th>bmi</th>\n",
       "      <th>children</th>\n",
       "      <th>smoker</th>\n",
       "    </tr>\n",
       "  </thead>\n",
       "  <tbody>\n",
       "    <tr>\n",
       "      <th>0</th>\n",
       "      <td>19</td>\n",
       "      <td>female</td>\n",
       "      <td>surpoids</td>\n",
       "      <td>0</td>\n",
       "      <td>Oui</td>\n",
       "    </tr>\n",
       "    <tr>\n",
       "      <th>1</th>\n",
       "      <td>18</td>\n",
       "      <td>male</td>\n",
       "      <td>obesite_moderee</td>\n",
       "      <td>1</td>\n",
       "      <td>Non</td>\n",
       "    </tr>\n",
       "    <tr>\n",
       "      <th>2</th>\n",
       "      <td>28</td>\n",
       "      <td>male</td>\n",
       "      <td>obesite_moderee</td>\n",
       "      <td>3</td>\n",
       "      <td>Non</td>\n",
       "    </tr>\n",
       "    <tr>\n",
       "      <th>3</th>\n",
       "      <td>33</td>\n",
       "      <td>male</td>\n",
       "      <td>normal</td>\n",
       "      <td>0</td>\n",
       "      <td>Non</td>\n",
       "    </tr>\n",
       "    <tr>\n",
       "      <th>4</th>\n",
       "      <td>32</td>\n",
       "      <td>male</td>\n",
       "      <td>surpoids</td>\n",
       "      <td>0</td>\n",
       "      <td>Non</td>\n",
       "    </tr>\n",
       "    <tr>\n",
       "      <th>...</th>\n",
       "      <td>...</td>\n",
       "      <td>...</td>\n",
       "      <td>...</td>\n",
       "      <td>...</td>\n",
       "      <td>...</td>\n",
       "    </tr>\n",
       "    <tr>\n",
       "      <th>1332</th>\n",
       "      <td>50</td>\n",
       "      <td>male</td>\n",
       "      <td>obesite_moderee</td>\n",
       "      <td>3</td>\n",
       "      <td>Non</td>\n",
       "    </tr>\n",
       "    <tr>\n",
       "      <th>1333</th>\n",
       "      <td>18</td>\n",
       "      <td>female</td>\n",
       "      <td>obesite_moderee</td>\n",
       "      <td>0</td>\n",
       "      <td>Non</td>\n",
       "    </tr>\n",
       "    <tr>\n",
       "      <th>1334</th>\n",
       "      <td>18</td>\n",
       "      <td>female</td>\n",
       "      <td>obesite_severe</td>\n",
       "      <td>0</td>\n",
       "      <td>Non</td>\n",
       "    </tr>\n",
       "    <tr>\n",
       "      <th>1335</th>\n",
       "      <td>21</td>\n",
       "      <td>female</td>\n",
       "      <td>surpoids</td>\n",
       "      <td>0</td>\n",
       "      <td>Non</td>\n",
       "    </tr>\n",
       "    <tr>\n",
       "      <th>1336</th>\n",
       "      <td>61</td>\n",
       "      <td>female</td>\n",
       "      <td>surpoids</td>\n",
       "      <td>0</td>\n",
       "      <td>Oui</td>\n",
       "    </tr>\n",
       "  </tbody>\n",
       "</table>\n",
       "<p>1337 rows × 5 columns</p>\n",
       "</div>"
      ],
      "text/plain": [
       "      age     sex              bmi  children smoker\n",
       "0      19  female         surpoids         0    Oui\n",
       "1      18    male  obesite_moderee         1    Non\n",
       "2      28    male  obesite_moderee         3    Non\n",
       "3      33    male           normal         0    Non\n",
       "4      32    male         surpoids         0    Non\n",
       "...   ...     ...              ...       ...    ...\n",
       "1332   50    male  obesite_moderee         3    Non\n",
       "1333   18  female  obesite_moderee         0    Non\n",
       "1334   18  female   obesite_severe         0    Non\n",
       "1335   21  female         surpoids         0    Non\n",
       "1336   61  female         surpoids         0    Oui\n",
       "\n",
       "[1337 rows x 5 columns]"
      ]
     },
     "execution_count": 8,
     "metadata": {},
     "output_type": "execute_result"
    }
   ],
   "source": [
    "X['bmi'] = X['bmi'].apply(lambda x : bmi(x))\n",
    "\n",
    "del X['region']\n",
    "\n",
    "X"
   ]
  },
  {
   "attachments": {},
   "cell_type": "markdown",
   "metadata": {},
   "source": [
    "## Train_set & Test_set"
   ]
  },
  {
   "cell_type": "code",
   "execution_count": 9,
   "metadata": {},
   "outputs": [
    {
     "data": {
      "text/html": [
       "<div>\n",
       "<style scoped>\n",
       "    .dataframe tbody tr th:only-of-type {\n",
       "        vertical-align: middle;\n",
       "    }\n",
       "\n",
       "    .dataframe tbody tr th {\n",
       "        vertical-align: top;\n",
       "    }\n",
       "\n",
       "    .dataframe thead th {\n",
       "        text-align: right;\n",
       "    }\n",
       "</style>\n",
       "<table border=\"1\" class=\"dataframe\">\n",
       "  <thead>\n",
       "    <tr style=\"text-align: right;\">\n",
       "      <th></th>\n",
       "      <th>age</th>\n",
       "      <th>sex</th>\n",
       "      <th>bmi</th>\n",
       "      <th>children</th>\n",
       "      <th>smoker</th>\n",
       "    </tr>\n",
       "  </thead>\n",
       "  <tbody>\n",
       "    <tr>\n",
       "      <th>1302</th>\n",
       "      <td>43</td>\n",
       "      <td>male</td>\n",
       "      <td>surpoids</td>\n",
       "      <td>0</td>\n",
       "      <td>Oui</td>\n",
       "    </tr>\n",
       "    <tr>\n",
       "      <th>296</th>\n",
       "      <td>19</td>\n",
       "      <td>male</td>\n",
       "      <td>surpoids</td>\n",
       "      <td>0</td>\n",
       "      <td>Oui</td>\n",
       "    </tr>\n",
       "    <tr>\n",
       "      <th>573</th>\n",
       "      <td>62</td>\n",
       "      <td>female</td>\n",
       "      <td>obesite_severe</td>\n",
       "      <td>1</td>\n",
       "      <td>Non</td>\n",
       "    </tr>\n",
       "    <tr>\n",
       "      <th>1132</th>\n",
       "      <td>52</td>\n",
       "      <td>female</td>\n",
       "      <td>maigreur</td>\n",
       "      <td>0</td>\n",
       "      <td>Non</td>\n",
       "    </tr>\n",
       "    <tr>\n",
       "      <th>471</th>\n",
       "      <td>18</td>\n",
       "      <td>female</td>\n",
       "      <td>obesite_moderee</td>\n",
       "      <td>0</td>\n",
       "      <td>Non</td>\n",
       "    </tr>\n",
       "  </tbody>\n",
       "</table>\n",
       "</div>"
      ],
      "text/plain": [
       "      age     sex              bmi  children smoker\n",
       "1302   43    male         surpoids         0    Oui\n",
       "296    19    male         surpoids         0    Oui\n",
       "573    62  female   obesite_severe         1    Non\n",
       "1132   52  female         maigreur         0    Non\n",
       "471    18  female  obesite_moderee         0    Non"
      ]
     },
     "execution_count": 9,
     "metadata": {},
     "output_type": "execute_result"
    }
   ],
   "source": [
    "X_train, X_test, y_train, y_test = train_test_split(X, y, shuffle=True, train_size=0.95, random_state=42)\n",
    "X_train.head()"
   ]
  },
  {
   "attachments": {},
   "cell_type": "markdown",
   "metadata": {},
   "source": [
    "## Dummy Modèle"
   ]
  },
  {
   "cell_type": "code",
   "execution_count": 10,
   "metadata": {},
   "outputs": [],
   "source": [
    "dummy = DummyRegressor()"
   ]
  },
  {
   "cell_type": "code",
   "execution_count": 11,
   "metadata": {},
   "outputs": [
    {
     "data": {
      "text/plain": [
       "-0.004178723670794193"
      ]
     },
     "execution_count": 11,
     "metadata": {},
     "output_type": "execute_result"
    }
   ],
   "source": [
    "dummy.fit(X_train, y_train)\n",
    "dummy.score(X_test, y_test)"
   ]
  },
  {
   "attachments": {},
   "cell_type": "markdown",
   "metadata": {},
   "source": [
    "## Création des Modèles"
   ]
  },
  {
   "cell_type": "code",
   "execution_count": 12,
   "metadata": {},
   "outputs": [],
   "source": [
    "cat_var = ['smoker', 'sex', 'bmi']\n",
    "num_var = ['age', 'children']\n",
    "\n",
    "cat_transformer = OneHotEncoder(drop='if_binary')\n",
    "num_transformer = RobustScaler()\n",
    "\n",
    "encoder = ColumnTransformer(\n",
    "    transformers=[\n",
    "        ('cat', cat_transformer, cat_var),\n",
    "        ('num', num_transformer, num_var)\n",
    "    ], \n",
    "    remainder='passthrough'\n",
    ")"
   ]
  },
  {
   "cell_type": "code",
   "execution_count": 13,
   "metadata": {},
   "outputs": [
    {
     "data": {
      "text/plain": [
       "(1337, 10)"
      ]
     },
     "execution_count": 13,
     "metadata": {},
     "output_type": "execute_result"
    }
   ],
   "source": [
    "encoder.fit_transform(X).shape"
   ]
  },
  {
   "cell_type": "code",
   "execution_count": 14,
   "metadata": {},
   "outputs": [],
   "source": [
    "models = [LinearRegression(), Lasso(), Ridge(), ElasticNet(), OrthogonalMatchingPursuit(), BayesianRidge(), ARDRegression(), PassiveAggressiveRegressor(), AdaBoostRegressor(), BaggingRegressor(Lasso()), RandomForestRegressor(), ExtraTreesRegressor()]"
   ]
  },
  {
   "cell_type": "code",
   "execution_count": 15,
   "metadata": {},
   "outputs": [
    {
     "name": "stdout",
     "output_type": "stream",
     "text": [
      "Nom du modèle : LinearRegression(), R2 score : 90.85 %, RMSE score : 4355.83\n"
     ]
    },
    {
     "name": "stderr",
     "output_type": "stream",
     "text": [
      "/home/apprenant/.local/lib/python3.10/site-packages/sklearn/linear_model/_coordinate_descent.py:634: ConvergenceWarning: Objective did not converge. You might want to increase the number of iterations, check the scale of the features or consider increasing regularisation. Duality gap: 3.816e+07, tolerance: 1.820e+07\n",
      "  model = cd_fast.enet_coordinate_descent(\n"
     ]
    },
    {
     "name": "stdout",
     "output_type": "stream",
     "text": [
      "Nom du modèle : Lasso(), R2 score : 92.83 %, RMSE score : 3854.31\n",
      "Nom du modèle : Ridge(), R2 score : 92.55 %, RMSE score : 3929.39\n",
      "Nom du modèle : ElasticNet(), R2 score : 50.55 %, RMSE score : 10123.77\n",
      "Nom du modèle : OrthogonalMatchingPursuit(), R2 score : 91.84 %, RMSE score : 4112.37\n",
      "Nom du modèle : BayesianRidge(), R2 score : 92.61 %, RMSE score : 3914.89\n",
      "Nom du modèle : ARDRegression(), R2 score : 92.8 %, RMSE score : 3863.42\n",
      "Nom du modèle : PassiveAggressiveRegressor(), R2 score : 92.98 %, RMSE score : 3813.24\n",
      "Nom du modèle : AdaBoostRegressor(), R2 score : 66.53 %, RMSE score : 8329.5\n"
     ]
    },
    {
     "name": "stderr",
     "output_type": "stream",
     "text": [
      "/home/apprenant/.local/lib/python3.10/site-packages/sklearn/linear_model/_coordinate_descent.py:634: ConvergenceWarning: Objective did not converge. You might want to increase the number of iterations, check the scale of the features or consider increasing regularisation. Duality gap: 3.143e+07, tolerance: 1.864e+07\n",
      "  model = cd_fast.enet_coordinate_descent(\n",
      "/home/apprenant/.local/lib/python3.10/site-packages/sklearn/linear_model/_coordinate_descent.py:634: ConvergenceWarning: Objective did not converge. You might want to increase the number of iterations, check the scale of the features or consider increasing regularisation. Duality gap: 4.336e+08, tolerance: 1.644e+07\n",
      "  model = cd_fast.enet_coordinate_descent(\n",
      "/home/apprenant/.local/lib/python3.10/site-packages/sklearn/linear_model/_coordinate_descent.py:634: ConvergenceWarning: Objective did not converge. You might want to increase the number of iterations, check the scale of the features or consider increasing regularisation. Duality gap: 4.080e+07, tolerance: 1.848e+07\n",
      "  model = cd_fast.enet_coordinate_descent(\n",
      "/home/apprenant/.local/lib/python3.10/site-packages/sklearn/linear_model/_coordinate_descent.py:634: ConvergenceWarning: Objective did not converge. You might want to increase the number of iterations, check the scale of the features or consider increasing regularisation. Duality gap: 3.572e+07, tolerance: 1.905e+07\n",
      "  model = cd_fast.enet_coordinate_descent(\n",
      "/home/apprenant/.local/lib/python3.10/site-packages/sklearn/linear_model/_coordinate_descent.py:634: ConvergenceWarning: Objective did not converge. You might want to increase the number of iterations, check the scale of the features or consider increasing regularisation. Duality gap: 1.151e+09, tolerance: 1.760e+07\n",
      "  model = cd_fast.enet_coordinate_descent(\n",
      "/home/apprenant/.local/lib/python3.10/site-packages/sklearn/linear_model/_coordinate_descent.py:634: ConvergenceWarning: Objective did not converge. You might want to increase the number of iterations, check the scale of the features or consider increasing regularisation. Duality gap: 4.104e+07, tolerance: 1.958e+07\n",
      "  model = cd_fast.enet_coordinate_descent(\n",
      "/home/apprenant/.local/lib/python3.10/site-packages/sklearn/linear_model/_coordinate_descent.py:634: ConvergenceWarning: Objective did not converge. You might want to increase the number of iterations, check the scale of the features or consider increasing regularisation. Duality gap: 9.095e+07, tolerance: 1.837e+07\n",
      "  model = cd_fast.enet_coordinate_descent(\n",
      "/home/apprenant/.local/lib/python3.10/site-packages/sklearn/linear_model/_coordinate_descent.py:634: ConvergenceWarning: Objective did not converge. You might want to increase the number of iterations, check the scale of the features or consider increasing regularisation. Duality gap: 4.425e+07, tolerance: 1.875e+07\n",
      "  model = cd_fast.enet_coordinate_descent(\n",
      "/home/apprenant/.local/lib/python3.10/site-packages/sklearn/linear_model/_coordinate_descent.py:634: ConvergenceWarning: Objective did not converge. You might want to increase the number of iterations, check the scale of the features or consider increasing regularisation. Duality gap: 5.986e+07, tolerance: 1.863e+07\n",
      "  model = cd_fast.enet_coordinate_descent(\n",
      "/home/apprenant/.local/lib/python3.10/site-packages/sklearn/linear_model/_coordinate_descent.py:634: ConvergenceWarning: Objective did not converge. You might want to increase the number of iterations, check the scale of the features or consider increasing regularisation. Duality gap: 6.093e+07, tolerance: 1.743e+07\n",
      "  model = cd_fast.enet_coordinate_descent(\n"
     ]
    },
    {
     "name": "stdout",
     "output_type": "stream",
     "text": [
      "Nom du modèle : BaggingRegressor(estimator=Lasso()), R2 score : 92.87 %, RMSE score : 3844.41\n",
      "Nom du modèle : RandomForestRegressor(), R2 score : 87.79 %, RMSE score : 5031.21\n",
      "Nom du modèle : ExtraTreesRegressor(), R2 score : 83.99 %, RMSE score : 5760.61\n"
     ]
    }
   ],
   "source": [
    "for model in models:\n",
    "    pipe = Pipeline([\n",
    "        ('enc', encoder), \n",
    "        ('poly', PolynomialFeatures()), \n",
    "        ('model', model),\n",
    "    ])\n",
    "\n",
    "    pipe.fit(X_train, y_train)\n",
    "    score = pipe.score(X_test, y_test)\n",
    "    score = round(score,4)\n",
    "\n",
    "    prediction = pipe.predict(X_test)\n",
    "    score_rmse = math.sqrt(mean_squared_error(y_test, prediction))\n",
    "\n",
    "    \n",
    "    print(f\"Nom du modèle : {model}, R2 score : {round(score *100, 2)} %, RMSE score : {round(score_rmse,2)}\")"
   ]
  },
  {
   "attachments": {},
   "cell_type": "markdown",
   "metadata": {},
   "source": [
    "## Amélioration des Modèles"
   ]
  },
  {
   "attachments": {},
   "cell_type": "markdown",
   "metadata": {},
   "source": [
    "### RamdomizedSearchCV"
   ]
  },
  {
   "attachments": {},
   "cell_type": "markdown",
   "metadata": {},
   "source": [
    "Params Lasso :\n",
    "\n",
    "- alpha\n",
    "- copy_X\n",
    "- fit_intercept\n",
    "- max_iter\n",
    "- positive\n",
    "- precompute\n",
    "- random_state\n",
    "- selection\n",
    "- tol\n",
    "- warm_start\n",
    "\n",
    "Params Ridge :\n",
    "\n",
    "- alpha\n",
    "- copy_X \n",
    "- fit_intercept \n",
    "- max_iter \n",
    "- positive \n",
    "- random_state \n",
    "- solver \n",
    "- tol\n",
    "\n",
    "Params ElasticNet :\n",
    "\n",
    "- alpha\n",
    "- copy_X \n",
    "- fit_intercept \n",
    "- l1_ratio \n",
    "- max_iter \n",
    "- positive \n",
    "- precompute \n",
    "- random_state \n",
    "- selection \n",
    "- tol \n",
    "- warm_start\n",
    "\n",
    "Params ARDRegression :\n",
    "\n",
    "- alpha_1\n",
    "- alpha_2\n",
    "- compute_score\n",
    "- copy_X\n",
    "- fit_intercept\n",
    "- lambda_1\n",
    "- lambda_2\n",
    "- n_iter\n",
    "- threshold_lambda\n",
    "- tol\n",
    "- verbose"
   ]
  },
  {
   "cell_type": "code",
   "execution_count": 16,
   "metadata": {},
   "outputs": [],
   "source": [
    "# models = [Lasso(), Ridge(), ElasticNet(), ARDRegression()]\n",
    "\n",
    "# for model in models:\n",
    "#     pipe = Pipeline([\n",
    "#         ('enc', encoder), \n",
    "#         ('poly', PolynomialFeatures()), \n",
    "#         ('model', model),\n",
    "#     ])\n",
    "    \n",
    "#     string = str(model)\n",
    "\n",
    "\n",
    "\n",
    "#     param_grid = {\n",
    "#         'model__fit_intercept': [True, False],\n",
    "#         'model__copy_X': [True, False],\n",
    "#         'model__tol' : np.arange(1, 0.0001, -0.001)\n",
    "#     }\n",
    "\n",
    "#     if string == \"Lasso()\":\n",
    "#         param_grid['model__alpha'] = np.arange(0.1, 1, 0.1)\n",
    "#         param_grid['model__positive'] = [True, False]\n",
    "#         param_grid['model__precompute'] = [True, False]\n",
    "#         param_grid['model__selection'] = ['cyclic', 'random']\n",
    "#         param_grid['model__warm_start'] = [True, False]\n",
    "#         param_grid['model__max_iter'] = np.arange(100, 5000, 100)\n",
    "\n",
    "#     elif string == \"Ridge()\":\n",
    "#         param_grid['model__alpha'] = np.arange(0.1, 1, 0.1)\n",
    "#         param_grid['model__solver'] = ['auto', 'svd', 'cholesky', 'lsqr', 'sparse_cg', 'sag', 'saga', 'lbfgs']\n",
    "#         param_grid['model__positive'] = [True, False]\n",
    "#         param_grid['model__max_iter'] = np.arange(100, 5000, 100)\n",
    "\n",
    "#     elif string == \"ElasticNet()\":\n",
    "#         param_grid['model__alpha'] = np.arange(0.1, 1, 0.1)\n",
    "#         param_grid['model__positive'] = [True, False]\n",
    "#         param_grid['model__precompute'] = [True, False]\n",
    "#         param_grid['model__selection'] = ['cyclic', 'random']\n",
    "#         param_grid['model__warm_start'] = [True, False]\n",
    "#         param_grid['model__l1_ratio'] = np.arange(0.1, 1, 0.1)\n",
    "#         param_grid['model__max_iter'] = np.arange(100, 5000, 100)\n",
    "\n",
    "#     elif string == \"ARDRegression()\":\n",
    "#         param_grid = {\n",
    "#             'model__alpha_1': np.arange(0.000001, 0.0001, 0.00001),\n",
    "#             'model__alpha_2': np.arange(0.000001, 0.0001, 0.00001),\n",
    "#             'model__lambda_1': np.arange(0.000001, 0.0001, 0.00001),\n",
    "#             'model__lambda_2': np.arange(0.000001, 0.0001, 0.00001),\n",
    "#             'model__compute_score': [True, False],\n",
    "#             'model__threshold_lambda': np.arange(10000, 20000, 100),\n",
    "#             'model__fit_intercept': [True, False],\n",
    "#             'model__copy_X': [True, False],\n",
    "#         }\n",
    "\n",
    "#     grid = RandomizedSearchCV(pipe, param_grid, cv=5, random_state=0)\n",
    "\n",
    "#     grid.fit(X_train, y_train)\n",
    "\n",
    "#     score = grid.best_score_\n",
    "#     score = round(score,4)\n",
    "\n",
    "#     params = grid.best_params_\n",
    "\n",
    "#     print(f\"###### Modèle : {model}, Meilleur score : {round(score *100, 2)}%, Meilleurs paramètres : {params}\")"
   ]
  },
  {
   "attachments": {},
   "cell_type": "markdown",
   "metadata": {},
   "source": [
    "### GridSearchCV"
   ]
  },
  {
   "cell_type": "code",
   "execution_count": 17,
   "metadata": {},
   "outputs": [],
   "source": [
    "# models = [Lasso(), Ridge(), ElasticNet(), ARDRegression(), BaggingRegressor()]\n",
    "\n",
    "# for model in models:\n",
    "#     pipe = Pipeline([\n",
    "#         ('enc', encoder), \n",
    "#         ('poly', PolynomialFeatures()), \n",
    "#         ('model', model),\n",
    "#     ])\n",
    "    \n",
    "#     string = str(model)\n",
    "\n",
    "#     param_grid = {\n",
    "#         'model__fit_intercept': [True, False],\n",
    "#         'model__copy_X': [True, False],\n",
    "#         # 'model__tol' : np.arange(1, 0.01, -0.01),\n",
    "#     }\n",
    "\n",
    "#     if string == \"Lasso()\":\n",
    "#         param_grid['model__alpha'] = np.arange(0.1, 1, 0.1)\n",
    "#         param_grid['model__positive'] = [True, False]\n",
    "#         param_grid['model__precompute'] = [True, False]\n",
    "#         param_grid['model__selection'] = ['cyclic', 'random']\n",
    "#         param_grid['model__warm_start'] = [True, False]\n",
    "#         # param_grid['model__max_iter'] = np.arange(300, 600, 10)\n",
    "\n",
    "#     elif string == \"Ridge()\":\n",
    "#         param_grid['model__alpha'] = np.arange(0.1, 1, 0.1)\n",
    "#         param_grid['model__solver'] = ['auto', 'svd', 'cholesky', 'lsqr', 'sparse_cg', 'sag', 'saga', 'lbfgs']\n",
    "#         param_grid['model__positive'] = [True, False]\n",
    "#         # param_grid['model__max_iter'] = np.arange(300, 600, 10)\n",
    "\n",
    "#     elif string == \"ElasticNet()\":\n",
    "#         param_grid['model__alpha'] = np.arange(0.1, 1, 0.1)\n",
    "#         param_grid['model__positive'] = [True, False]\n",
    "#         param_grid['model__precompute'] = [True, False]\n",
    "#         param_grid['model__selection'] = ['cyclic', 'random']\n",
    "#         param_grid['model__warm_start'] = [True, False]\n",
    "#         param_grid['model__l1_ratio'] = np.arange(0.1, 1, 0.1)\n",
    "#         # param_grid['model__max_iter'] = np.arange(300, 600, 10)\n",
    "\n",
    "#     # elif string == \"ARDRegression()\":\n",
    "#     #     param_grid = {\n",
    "#     #         'model__alpha_1': np.arange(0.000001, 0.0001, 0.00001),\n",
    "#     #         'model__alpha_2': np.arange(0.000001, 0.0001, 0.00001),\n",
    "#     #         'model__lambda_1': np.arange(0.000001, 0.0001, 0.00001),\n",
    "#     #         'model__lambda_2': np.arange(0.000001, 0.0001, 0.00001),\n",
    "#     #         'model__compute_score': [True, False],\n",
    "#     #         'model__threshold_lambda': np.arange(10000, 20000, 100),\n",
    "#     #         'model__fit_intercept': [True, False],\n",
    "#     #         'model__copy_X': [True, False],\n",
    "#     #     }\n",
    "\n",
    "#     elif string == \"BaggingRegressor()\":\n",
    "#         param_grid = {\n",
    "#             'model__estimator': [Lasso(), Ridge(), ElasticNet()],\n",
    "#             'model__n_estimators': np.arange(1, 20, 1)\n",
    "#         }\n",
    "\n",
    "#     grid = GridSearchCV(pipe, param_grid, cv=5)\n",
    "\n",
    "#     grid.fit(X_train, y_train)\n",
    "\n",
    "#     score = grid.best_score_\n",
    "#     score = round(score,4)\n",
    "\n",
    "#     params = grid.best_params_\n",
    "\n",
    "#     print(f\"###### Modèle : {model.__class__.__name__}, Meilleur score : {round(score *100, 2)}%, Meilleurs paramètres : {params}\")"
   ]
  },
  {
   "attachments": {},
   "cell_type": "markdown",
   "metadata": {},
   "source": [
    "### Résultats avec hyperparamètres sélectionnés"
   ]
  },
  {
   "cell_type": "code",
   "execution_count": 18,
   "metadata": {},
   "outputs": [
    {
     "name": "stdout",
     "output_type": "stream",
     "text": [
      "Nom du modèle : Lasso, R2 score : 92.67%, RMSE score : 3899.02\n",
      "Nom du modèle : Ridge, R2 score : 92.76%, RMSE score : 3873.29\n",
      "Nom du modèle : ElasticNet, R2 score : 87.41%, RMSE score : 5108.99\n",
      "Nom du modèle : ARDRegression, R2 score : 92.68%, RMSE score : 3894.5\n",
      "Nom du modèle : BaggingRegressor, R2 score : 92.52%, RMSE score : 3936.73\n",
      "Nom du modèle : StackingRegressor, R2 score : 92.65%, RMSE score : 3903.06\n"
     ]
    }
   ],
   "source": [
    "models = [\n",
    "    Lasso(alpha=0.9, positive=True, precompute=True, warm_start=True, selection='cyclic'),\n",
    "    Ridge(alpha=0.3, solver='auto'),\n",
    "    ElasticNet(alpha=0.1, l1_ratio=0.9, positive=True, precompute=True, selection='random', warm_start=True),\n",
    "    ARDRegression(threshold_lambda=10000, lambda_2=1e-05, lambda_1=5e-05, fit_intercept=False, copy_X=True, compute_score=False, alpha_2=7e-05, alpha_1=2e-05),\n",
    "    BaggingRegressor(Lasso(alpha=0.9, positive=True, precompute=True, warm_start=True), n_estimators=14)\n",
    "    ]\n",
    "\n",
    "list_voting = []\n",
    "for model in models:\n",
    "    list_voting.append((f\"{model.__class__.__name__}\", model))\n",
    "\n",
    "voting = StackingRegressor(list_voting, models[0])\n",
    "\n",
    "models.append(voting)\n",
    "\n",
    "list_models = []\n",
    "\n",
    "for model in models:\n",
    "    pipe = Pipeline([\n",
    "        ('enc', encoder), \n",
    "        ('poly', PolynomialFeatures()), \n",
    "        ('model', model),\n",
    "    ])\n",
    "\n",
    "    pipe.fit(X_train, y_train)\n",
    "    score = pipe.score(X_test, y_test)\n",
    "    score = round(score,4)\n",
    "\n",
    "    prediction = pipe.predict(X_test)\n",
    "    score_rmse = math.sqrt(mean_squared_error(y_test, prediction))\n",
    "\n",
    "    list_models.append([f\"{model.__class__.__name__}\", f\"{round(score *100, 2)}%\", f\"{round(score_rmse,2)}\"])\n",
    "    \n",
    "    print(f\"Nom du modèle : {model.__class__.__name__}, R2 score : {round(score *100, 2)}%, RMSE score : {round(score_rmse,2)}\")"
   ]
  },
  {
   "cell_type": "code",
   "execution_count": 19,
   "metadata": {},
   "outputs": [
    {
     "data": {
      "text/html": [
       "<div>\n",
       "<style scoped>\n",
       "    .dataframe tbody tr th:only-of-type {\n",
       "        vertical-align: middle;\n",
       "    }\n",
       "\n",
       "    .dataframe tbody tr th {\n",
       "        vertical-align: top;\n",
       "    }\n",
       "\n",
       "    .dataframe thead th {\n",
       "        text-align: right;\n",
       "    }\n",
       "</style>\n",
       "<table border=\"1\" class=\"dataframe\">\n",
       "  <thead>\n",
       "    <tr style=\"text-align: right;\">\n",
       "      <th></th>\n",
       "      <th>modele</th>\n",
       "      <th>r2_score</th>\n",
       "      <th>score_rmse</th>\n",
       "    </tr>\n",
       "  </thead>\n",
       "  <tbody>\n",
       "    <tr>\n",
       "      <th>1</th>\n",
       "      <td>Ridge</td>\n",
       "      <td>92.76%</td>\n",
       "      <td>3873.29</td>\n",
       "    </tr>\n",
       "    <tr>\n",
       "      <th>3</th>\n",
       "      <td>ARDRegression</td>\n",
       "      <td>92.68%</td>\n",
       "      <td>3894.5</td>\n",
       "    </tr>\n",
       "    <tr>\n",
       "      <th>0</th>\n",
       "      <td>Lasso</td>\n",
       "      <td>92.67%</td>\n",
       "      <td>3899.02</td>\n",
       "    </tr>\n",
       "    <tr>\n",
       "      <th>5</th>\n",
       "      <td>StackingRegressor</td>\n",
       "      <td>92.65%</td>\n",
       "      <td>3903.06</td>\n",
       "    </tr>\n",
       "    <tr>\n",
       "      <th>4</th>\n",
       "      <td>BaggingRegressor</td>\n",
       "      <td>92.52%</td>\n",
       "      <td>3936.73</td>\n",
       "    </tr>\n",
       "    <tr>\n",
       "      <th>2</th>\n",
       "      <td>ElasticNet</td>\n",
       "      <td>87.41%</td>\n",
       "      <td>5108.99</td>\n",
       "    </tr>\n",
       "  </tbody>\n",
       "</table>\n",
       "</div>"
      ],
      "text/plain": [
       "              modele r2_score score_rmse\n",
       "1              Ridge   92.76%    3873.29\n",
       "3      ARDRegression   92.68%     3894.5\n",
       "0              Lasso   92.67%    3899.02\n",
       "5  StackingRegressor   92.65%    3903.06\n",
       "4   BaggingRegressor   92.52%    3936.73\n",
       "2         ElasticNet   87.41%    5108.99"
      ]
     },
     "execution_count": 19,
     "metadata": {},
     "output_type": "execute_result"
    }
   ],
   "source": [
    "df_list_models = pd.DataFrame(list_models,columns=['modele', \"r2_score\", \"score_rmse\"])\n",
    "\n",
    "df_list_models.sort_values('r2_score', ascending=False)"
   ]
  },
  {
   "attachments": {},
   "cell_type": "markdown",
   "metadata": {},
   "source": [
    "## Sélection et enregistrement du Modèle"
   ]
  },
  {
   "cell_type": "code",
   "execution_count": 20,
   "metadata": {},
   "outputs": [
    {
     "name": "stdout",
     "output_type": "stream",
     "text": [
      "Nom du modèle : Lasso, R2 score : 92.67%, RMSE score : 3899.02\n"
     ]
    },
    {
     "data": {
      "text/plain": [
       "['../models/Lasso.pkl']"
      ]
     },
     "execution_count": 20,
     "metadata": {},
     "output_type": "execute_result"
    }
   ],
   "source": [
    "model = Lasso(alpha=0.9, positive=True, precompute=True, warm_start=True)\n",
    "\n",
    "pipe = Pipeline([\n",
    "    ('enc', encoder), \n",
    "    ('poly', PolynomialFeatures()), \n",
    "    ('model', model)\n",
    "])\n",
    "\n",
    "pipe.fit(X_train, y_train)\n",
    "score = pipe.score(X_test, y_test)\n",
    "score = round(score,4)\n",
    "\n",
    "prediction = pipe.predict(X_test)\n",
    "score_rmse = math.sqrt(mean_squared_error(y_test, prediction))\n",
    "\n",
    "print(f\"Nom du modèle : {model.__class__.__name__}, R2 score : {round(score *100, 2)}%, RMSE score : {round(score_rmse,2)}\")\n",
    "\n",
    "dump(pipe, f\"../models/{model.__class__.__name__}.pkl\")"
   ]
  },
  {
   "cell_type": "code",
   "execution_count": 21,
   "metadata": {},
   "outputs": [
    {
     "name": "stdout",
     "output_type": "stream",
     "text": [
      "Nom du modèle : Ridge, R2 score : 92.76%, RMSE score : 3873.29\n"
     ]
    },
    {
     "data": {
      "text/plain": [
       "['../models/Ridge.pkl']"
      ]
     },
     "execution_count": 21,
     "metadata": {},
     "output_type": "execute_result"
    }
   ],
   "source": [
    "model = Ridge(alpha=0.3, solver='auto')\n",
    "\n",
    "pipe = Pipeline([\n",
    "    ('enc', encoder), \n",
    "    ('poly', PolynomialFeatures()), \n",
    "    ('model', model)\n",
    "])\n",
    "\n",
    "pipe.fit(X_train, y_train)\n",
    "score = pipe.score(X_test, y_test)\n",
    "score = round(score,4)\n",
    "\n",
    "prediction = pipe.predict(X_test)\n",
    "score_rmse = math.sqrt(mean_squared_error(y_test, prediction))\n",
    "\n",
    "print(f\"Nom du modèle : {model.__class__.__name__}, R2 score : {round(score *100, 2)}%, RMSE score : {round(score_rmse,2)}\")\n",
    "\n",
    "dump(pipe, f\"../models/{model.__class__.__name__}.pkl\")"
   ]
  },
  {
   "cell_type": "code",
   "execution_count": 22,
   "metadata": {},
   "outputs": [
    {
     "name": "stdout",
     "output_type": "stream",
     "text": [
      "Nom du modèle : StackingRegressor, R2 score : 92.65%, RMSE score : 3903.06\n"
     ]
    },
    {
     "data": {
      "text/plain": [
       "['../models/StackingRegressor.pkl']"
      ]
     },
     "execution_count": 22,
     "metadata": {},
     "output_type": "execute_result"
    }
   ],
   "source": [
    "pipe = Pipeline([\n",
    "    ('enc', encoder), \n",
    "    ('poly', PolynomialFeatures()), \n",
    "    ('model', voting),\n",
    "])\n",
    "\n",
    "pipe.fit(X_train, y_train)\n",
    "score = pipe.score(X_test, y_test)\n",
    "score = round(score,4)\n",
    "\n",
    "prediction = pipe.predict(X_test)\n",
    "score_rmse = math.sqrt(mean_squared_error(y_test, prediction))\n",
    "\n",
    "print(f\"Nom du modèle : {voting.__class__.__name__}, R2 score : {round(score *100, 2)}%, RMSE score : {round(score_rmse,2)}\")\n",
    "\n",
    "dump(pipe, f\"../models/{voting.__class__.__name__}.pkl\")"
   ]
  },
  {
   "attachments": {},
   "cell_type": "markdown",
   "metadata": {},
   "source": [
    "## Learning curves"
   ]
  },
  {
   "cell_type": "code",
   "execution_count": 23,
   "metadata": {},
   "outputs": [
    {
     "data": {
      "image/png": "[encoded data removed]",
      "text/plain": [
       "<Figure size 640x480 with 1 Axes>"
      ]
     },
     "metadata": {},
     "output_type": "display_data"
    },
    {
     "data": {
      "image/png": "[encoded data removed]",
      "text/plain": [
       "<Figure size 640x480 with 1 Axes>"
      ]
     },
     "metadata": {},
     "output_type": "display_data"
    },
    {
     "data": {
      "image/png": "[encoded data removed]",
      "text/plain": [
       "<Figure size 640x480 with 1 Axes>"
      ]
     },
     "metadata": {},
     "output_type": "display_data"
    },
    {
     "data": {
      "image/png": "[encoded data removed]",
      "text/plain": [
       "<Figure size 640x480 with 1 Axes>"
      ]
     },
     "metadata": {},
     "output_type": "display_data"
    },
    {
     "name": "stderr",
     "output_type": "stream",
     "text": [
      "/home/apprenant/.local/lib/python3.10/site-packages/sklearn/linear_model/_coordinate_descent.py:620: ConvergenceWarning: Objective did not converge. You might want to increase the number of iterations. Duality gap: 15657160.407683372, tolerance: 2953243.988870406\n",
      "  model = cd_fast.enet_coordinate_descent_gram(\n",
      "/home/apprenant/.local/lib/python3.10/site-packages/sklearn/linear_model/_coordinate_descent.py:620: ConvergenceWarning: Objective did not converge. You might want to increase the number of iterations. Duality gap: 9742438.55982685, tolerance: 6583178.7613972295\n",
      "  model = cd_fast.enet_coordinate_descent_gram(\n",
      "/home/apprenant/.local/lib/python3.10/site-packages/sklearn/linear_model/_coordinate_descent.py:620: ConvergenceWarning: Objective did not converge. You might want to increase the number of iterations. Duality gap: 37514351.048399925, tolerance: 1283543.207286018\n",
      "  model = cd_fast.enet_coordinate_descent_gram(\n",
      "/home/apprenant/.local/lib/python3.10/site-packages/sklearn/linear_model/_coordinate_descent.py:620: ConvergenceWarning: Objective did not converge. You might want to increase the number of iterations. Duality gap: 5568840.202497333, tolerance: 1321025.066768743\n",
      "  model = cd_fast.enet_coordinate_descent_gram(\n",
      "/home/apprenant/.local/lib/python3.10/site-packages/sklearn/linear_model/_coordinate_descent.py:620: ConvergenceWarning: Objective did not converge. You might want to increase the number of iterations. Duality gap: 5483166.527929783, tolerance: 1597003.025949268\n",
      "  model = cd_fast.enet_coordinate_descent_gram(\n"
     ]
    },
    {
     "data": {
      "image/png": "[encoded data removed]",
      "text/plain": [
       "<Figure size 640x480 with 1 Axes>"
      ]
     },
     "metadata": {},
     "output_type": "display_data"
    },
    {
     "name": "stderr",
     "output_type": "stream",
     "text": [
      "/home/apprenant/.local/lib/python3.10/site-packages/sklearn/linear_model/_coordinate_descent.py:620: ConvergenceWarning: Objective did not converge. You might want to increase the number of iterations. Duality gap: 4674674.099475384, tolerance: 621415.6685731685\n",
      "  model = cd_fast.enet_coordinate_descent_gram(\n",
      "/home/apprenant/.local/lib/python3.10/site-packages/sklearn/linear_model/_coordinate_descent.py:620: ConvergenceWarning: Objective did not converge. You might want to increase the number of iterations. Duality gap: 11618473.521674752, tolerance: 685781.5016663092\n",
      "  model = cd_fast.enet_coordinate_descent_gram(\n",
      "/home/apprenant/.local/lib/python3.10/site-packages/sklearn/linear_model/_coordinate_descent.py:620: ConvergenceWarning: Objective did not converge. You might want to increase the number of iterations. Duality gap: 10669225.036096096, tolerance: 1051348.7421205002\n",
      "  model = cd_fast.enet_coordinate_descent_gram(\n",
      "/home/apprenant/.local/lib/python3.10/site-packages/sklearn/linear_model/_coordinate_descent.py:620: ConvergenceWarning: Objective did not converge. You might want to increase the number of iterations. Duality gap: 5945446.109936714, tolerance: 2167338.215443503\n",
      "  model = cd_fast.enet_coordinate_descent_gram(\n",
      "/home/apprenant/.local/lib/python3.10/site-packages/sklearn/linear_model/_coordinate_descent.py:620: ConvergenceWarning: Objective did not converge. You might want to increase the number of iterations. Duality gap: 8428375.589030743, tolerance: 2225858.2640475715\n",
      "  model = cd_fast.enet_coordinate_descent_gram(\n",
      "/home/apprenant/.local/lib/python3.10/site-packages/sklearn/linear_model/_coordinate_descent.py:620: ConvergenceWarning: Objective did not converge. You might want to increase the number of iterations. Duality gap: 94063167.88632679, tolerance: 3425234.885991317\n",
      "  model = cd_fast.enet_coordinate_descent_gram(\n",
      "/home/apprenant/.local/lib/python3.10/site-packages/sklearn/linear_model/_coordinate_descent.py:620: ConvergenceWarning: Objective did not converge. You might want to increase the number of iterations. Duality gap: 8826543.548213959, tolerance: 3261610.906915439\n",
      "  model = cd_fast.enet_coordinate_descent_gram(\n",
      "/home/apprenant/.local/lib/python3.10/site-packages/sklearn/linear_model/_coordinate_descent.py:620: ConvergenceWarning: Objective did not converge. You might want to increase the number of iterations. Duality gap: 12403670.408565521, tolerance: 5342368.912320079\n",
      "  model = cd_fast.enet_coordinate_descent_gram(\n",
      "/home/apprenant/.local/lib/python3.10/site-packages/sklearn/linear_model/_coordinate_descent.py:620: ConvergenceWarning: Objective did not converge. You might want to increase the number of iterations. Duality gap: 5426631.367915869, tolerance: 1400622.627852627\n",
      "  model = cd_fast.enet_coordinate_descent_gram(\n",
      "/home/apprenant/.local/lib/python3.10/site-packages/sklearn/linear_model/_coordinate_descent.py:620: ConvergenceWarning: Objective did not converge. You might want to increase the number of iterations. Duality gap: 5903945.066688538, tolerance: 1385102.1066160959\n",
      "  model = cd_fast.enet_coordinate_descent_gram(\n",
      "/home/apprenant/.local/lib/python3.10/site-packages/sklearn/linear_model/_coordinate_descent.py:620: ConvergenceWarning: Objective did not converge. You might want to increase the number of iterations. Duality gap: 1609127.6237223148, tolerance: 979414.8119760948\n",
      "  model = cd_fast.enet_coordinate_descent_gram(\n",
      "/home/apprenant/.local/lib/python3.10/site-packages/sklearn/linear_model/_coordinate_descent.py:620: ConvergenceWarning: Objective did not converge. You might want to increase the number of iterations. Duality gap: 39126089.216766834, tolerance: 1501350.072991775\n",
      "  model = cd_fast.enet_coordinate_descent_gram(\n",
      "/home/apprenant/.local/lib/python3.10/site-packages/sklearn/linear_model/_coordinate_descent.py:620: ConvergenceWarning: Objective did not converge. You might want to increase the number of iterations. Duality gap: 15244189.437489986, tolerance: 1213096.5288827824\n",
      "  model = cd_fast.enet_coordinate_descent_gram(\n",
      "/home/apprenant/.local/lib/python3.10/site-packages/sklearn/linear_model/_coordinate_descent.py:620: ConvergenceWarning: Objective did not converge. You might want to increase the number of iterations. Duality gap: 34775025.840715885, tolerance: 1010651.0867011755\n",
      "  model = cd_fast.enet_coordinate_descent_gram(\n",
      "/home/apprenant/.local/lib/python3.10/site-packages/sklearn/linear_model/_coordinate_descent.py:620: ConvergenceWarning: Objective did not converge. You might want to increase the number of iterations. Duality gap: 17981140.966789246, tolerance: 846349.64320776\n",
      "  model = cd_fast.enet_coordinate_descent_gram(\n",
      "/home/apprenant/.local/lib/python3.10/site-packages/sklearn/linear_model/_coordinate_descent.py:620: ConvergenceWarning: Objective did not converge. You might want to increase the number of iterations. Duality gap: 2186068.9300174713, tolerance: 1317232.9924380763\n",
      "  model = cd_fast.enet_coordinate_descent_gram(\n",
      "/home/apprenant/.local/lib/python3.10/site-packages/sklearn/linear_model/_coordinate_descent.py:620: ConvergenceWarning: Objective did not converge. You might want to increase the number of iterations. Duality gap: 47084715.33951664, tolerance: 3199116.2464248873\n",
      "  model = cd_fast.enet_coordinate_descent_gram(\n",
      "/home/apprenant/.local/lib/python3.10/site-packages/sklearn/linear_model/_coordinate_descent.py:620: ConvergenceWarning: Objective did not converge. You might want to increase the number of iterations. Duality gap: 1500369923.8963103, tolerance: 5044945.976245601\n",
      "  model = cd_fast.enet_coordinate_descent_gram(\n",
      "/home/apprenant/.local/lib/python3.10/site-packages/sklearn/linear_model/_coordinate_descent.py:620: ConvergenceWarning: Objective did not converge. You might want to increase the number of iterations. Duality gap: 6101837.538439751, tolerance: 5470004.409823521\n",
      "  model = cd_fast.enet_coordinate_descent_gram(\n",
      "/home/apprenant/.local/lib/python3.10/site-packages/sklearn/linear_model/_coordinate_descent.py:620: ConvergenceWarning: Objective did not converge. You might want to increase the number of iterations. Duality gap: 3740535649.6429615, tolerance: 6565822.311056168\n",
      "  model = cd_fast.enet_coordinate_descent_gram(\n",
      "/home/apprenant/.local/lib/python3.10/site-packages/sklearn/linear_model/_coordinate_descent.py:620: ConvergenceWarning: Objective did not converge. You might want to increase the number of iterations. Duality gap: 8735730.294265747, tolerance: 7886569.1111721955\n",
      "  model = cd_fast.enet_coordinate_descent_gram(\n",
      "/home/apprenant/.local/lib/python3.10/site-packages/sklearn/linear_model/_coordinate_descent.py:620: ConvergenceWarning: Objective did not converge. You might want to increase the number of iterations. Duality gap: 20212299.025482178, tolerance: 11723757.457716305\n",
      "  model = cd_fast.enet_coordinate_descent_gram(\n",
      "/home/apprenant/.local/lib/python3.10/site-packages/sklearn/linear_model/_coordinate_descent.py:620: ConvergenceWarning: Objective did not converge. You might want to increase the number of iterations. Duality gap: 21682406.29626465, tolerance: 14684562.784554206\n",
      "  model = cd_fast.enet_coordinate_descent_gram(\n",
      "/home/apprenant/.local/lib/python3.10/site-packages/sklearn/linear_model/_coordinate_descent.py:620: ConvergenceWarning: Objective did not converge. You might want to increase the number of iterations. Duality gap: 26758034.374028683, tolerance: 2043705.6157232674\n",
      "  model = cd_fast.enet_coordinate_descent_gram(\n",
      "/home/apprenant/.local/lib/python3.10/site-packages/sklearn/linear_model/_coordinate_descent.py:620: ConvergenceWarning: Objective did not converge. You might want to increase the number of iterations. Duality gap: 5002661.6189237535, tolerance: 1446311.482736374\n",
      "  model = cd_fast.enet_coordinate_descent_gram(\n",
      "/home/apprenant/.local/lib/python3.10/site-packages/sklearn/linear_model/_coordinate_descent.py:620: ConvergenceWarning: Objective did not converge. You might want to increase the number of iterations. Duality gap: 2367438.2726028524, tolerance: 2037747.5810094345\n",
      "  model = cd_fast.enet_coordinate_descent_gram(\n",
      "/home/apprenant/.local/lib/python3.10/site-packages/sklearn/linear_model/_coordinate_descent.py:620: ConvergenceWarning: Objective did not converge. You might want to increase the number of iterations. Duality gap: 16582978.936768055, tolerance: 1426223.3668515522\n",
      "  model = cd_fast.enet_coordinate_descent_gram(\n",
      "/home/apprenant/.local/lib/python3.10/site-packages/sklearn/linear_model/_coordinate_descent.py:620: ConvergenceWarning: Objective did not converge. You might want to increase the number of iterations. Duality gap: 2925414.384649515, tolerance: 1427553.427161682\n",
      "  model = cd_fast.enet_coordinate_descent_gram(\n",
      "/home/apprenant/.local/lib/python3.10/site-packages/sklearn/linear_model/_coordinate_descent.py:620: ConvergenceWarning: Objective did not converge. You might want to increase the number of iterations. Duality gap: 3991814.173725605, tolerance: 2620485.9914713963\n",
      "  model = cd_fast.enet_coordinate_descent_gram(\n",
      "/home/apprenant/.local/lib/python3.10/site-packages/sklearn/linear_model/_coordinate_descent.py:620: ConvergenceWarning: Objective did not converge. You might want to increase the number of iterations. Duality gap: 23863859.307917595, tolerance: 4785090.045989934\n",
      "  model = cd_fast.enet_coordinate_descent_gram(\n",
      "/home/apprenant/.local/lib/python3.10/site-packages/sklearn/linear_model/_coordinate_descent.py:620: ConvergenceWarning: Objective did not converge. You might want to increase the number of iterations. Duality gap: 10990908.116972923, tolerance: 4605116.182428546\n",
      "  model = cd_fast.enet_coordinate_descent_gram(\n",
      "/home/apprenant/.local/lib/python3.10/site-packages/sklearn/linear_model/_coordinate_descent.py:620: ConvergenceWarning: Objective did not converge. You might want to increase the number of iterations. Duality gap: 28584520.599744797, tolerance: 5118896.516247936\n",
      "  model = cd_fast.enet_coordinate_descent_gram(\n",
      "/home/apprenant/.local/lib/python3.10/site-packages/sklearn/linear_model/_coordinate_descent.py:620: ConvergenceWarning: Objective did not converge. You might want to increase the number of iterations. Duality gap: 6448180.603987694, tolerance: 5839970.157447401\n",
      "  model = cd_fast.enet_coordinate_descent_gram(\n",
      "/home/apprenant/.local/lib/python3.10/site-packages/sklearn/linear_model/_coordinate_descent.py:620: ConvergenceWarning: Objective did not converge. You might want to increase the number of iterations. Duality gap: 11320664.606014252, tolerance: 5203593.06256529\n",
      "  model = cd_fast.enet_coordinate_descent_gram(\n",
      "/home/apprenant/.local/lib/python3.10/site-packages/sklearn/linear_model/_coordinate_descent.py:620: ConvergenceWarning: Objective did not converge. You might want to increase the number of iterations. Duality gap: 27312486.27913952, tolerance: 5581223.416200043\n",
      "  model = cd_fast.enet_coordinate_descent_gram(\n",
      "/home/apprenant/.local/lib/python3.10/site-packages/sklearn/linear_model/_coordinate_descent.py:620: ConvergenceWarning: Objective did not converge. You might want to increase the number of iterations. Duality gap: 5466427.990828514, tolerance: 5359425.3502661325\n",
      "  model = cd_fast.enet_coordinate_descent_gram(\n",
      "/home/apprenant/.local/lib/python3.10/site-packages/sklearn/linear_model/_coordinate_descent.py:620: ConvergenceWarning: Objective did not converge. You might want to increase the number of iterations. Duality gap: 25275910.526676178, tolerance: 7078864.625346238\n",
      "  model = cd_fast.enet_coordinate_descent_gram(\n",
      "/home/apprenant/.local/lib/python3.10/site-packages/sklearn/linear_model/_coordinate_descent.py:620: ConvergenceWarning: Objective did not converge. You might want to increase the number of iterations. Duality gap: 9303671.896209717, tolerance: 7867323.878758881\n",
      "  model = cd_fast.enet_coordinate_descent_gram(\n",
      "/home/apprenant/.local/lib/python3.10/site-packages/sklearn/linear_model/_coordinate_descent.py:620: ConvergenceWarning: Objective did not converge. You might want to increase the number of iterations. Duality gap: 53388431.61621857, tolerance: 7754786.129146172\n",
      "  model = cd_fast.enet_coordinate_descent_gram(\n",
      "/home/apprenant/.local/lib/python3.10/site-packages/sklearn/linear_model/_coordinate_descent.py:620: ConvergenceWarning: Objective did not converge. You might want to increase the number of iterations. Duality gap: 51870427.3033638, tolerance: 11107534.525947144\n",
      "  model = cd_fast.enet_coordinate_descent_gram(\n",
      "/home/apprenant/.local/lib/python3.10/site-packages/sklearn/linear_model/_coordinate_descent.py:620: ConvergenceWarning: Objective did not converge. You might want to increase the number of iterations. Duality gap: 13070349.745124817, tolerance: 13044360.494283082\n",
      "  model = cd_fast.enet_coordinate_descent_gram(\n",
      "/home/apprenant/.local/lib/python3.10/site-packages/sklearn/linear_model/_coordinate_descent.py:620: ConvergenceWarning: Objective did not converge. You might want to increase the number of iterations. Duality gap: 19576345.721072197, tolerance: 2133252.8902540533\n",
      "  model = cd_fast.enet_coordinate_descent_gram(\n",
      "/home/apprenant/.local/lib/python3.10/site-packages/sklearn/linear_model/_coordinate_descent.py:620: ConvergenceWarning: Objective did not converge. You might want to increase the number of iterations. Duality gap: 10023192.759005308, tolerance: 1258498.8030367545\n",
      "  model = cd_fast.enet_coordinate_descent_gram(\n",
      "/home/apprenant/.local/lib/python3.10/site-packages/sklearn/linear_model/_coordinate_descent.py:620: ConvergenceWarning: Objective did not converge. You might want to increase the number of iterations. Duality gap: 30329105.16453457, tolerance: 1414382.842111549\n",
      "  model = cd_fast.enet_coordinate_descent_gram(\n",
      "/home/apprenant/.local/lib/python3.10/site-packages/sklearn/linear_model/_coordinate_descent.py:620: ConvergenceWarning: Objective did not converge. You might want to increase the number of iterations. Duality gap: 4977764.463163853, tolerance: 1453078.778579729\n",
      "  model = cd_fast.enet_coordinate_descent_gram(\n",
      "/home/apprenant/.local/lib/python3.10/site-packages/sklearn/linear_model/_coordinate_descent.py:620: ConvergenceWarning: Objective did not converge. You might want to increase the number of iterations. Duality gap: 16830489.724624634, tolerance: 4047275.4427224807\n",
      "  model = cd_fast.enet_coordinate_descent_gram(\n",
      "/home/apprenant/.local/lib/python3.10/site-packages/sklearn/linear_model/_coordinate_descent.py:620: ConvergenceWarning: Objective did not converge. You might want to increase the number of iterations. Duality gap: 1736187172.2391434, tolerance: 5140751.8313355455\n",
      "  model = cd_fast.enet_coordinate_descent_gram(\n",
      "/home/apprenant/.local/lib/python3.10/site-packages/sklearn/linear_model/_coordinate_descent.py:620: ConvergenceWarning: Objective did not converge. You might want to increase the number of iterations. Duality gap: 28996139.27732563, tolerance: 5380177.61985072\n",
      "  model = cd_fast.enet_coordinate_descent_gram(\n",
      "/home/apprenant/.local/lib/python3.10/site-packages/sklearn/linear_model/_coordinate_descent.py:620: ConvergenceWarning: Objective did not converge. You might want to increase the number of iterations. Duality gap: 14628471.773036957, tolerance: 12089998.752687784\n",
      "  model = cd_fast.enet_coordinate_descent_gram(\n",
      "/home/apprenant/.local/lib/python3.10/site-packages/sklearn/linear_model/_coordinate_descent.py:620: ConvergenceWarning: Objective did not converge. You might want to increase the number of iterations. Duality gap: 3338065.140886843, tolerance: 1410977.3545604195\n",
      "  model = cd_fast.enet_coordinate_descent_gram(\n",
      "/home/apprenant/.local/lib/python3.10/site-packages/sklearn/linear_model/_coordinate_descent.py:620: ConvergenceWarning: Objective did not converge. You might want to increase the number of iterations. Duality gap: 12919762.55874157, tolerance: 1274747.2765544958\n",
      "  model = cd_fast.enet_coordinate_descent_gram(\n",
      "/home/apprenant/.local/lib/python3.10/site-packages/sklearn/linear_model/_coordinate_descent.py:620: ConvergenceWarning: Objective did not converge. You might want to increase the number of iterations. Duality gap: 11891086.631189585, tolerance: 1310036.6769252077\n",
      "  model = cd_fast.enet_coordinate_descent_gram(\n",
      "/home/apprenant/.local/lib/python3.10/site-packages/sklearn/linear_model/_coordinate_descent.py:620: ConvergenceWarning: Objective did not converge. You might want to increase the number of iterations. Duality gap: 20299331.62032461, tolerance: 1137131.4921036907\n",
      "  model = cd_fast.enet_coordinate_descent_gram(\n",
      "/home/apprenant/.local/lib/python3.10/site-packages/sklearn/linear_model/_coordinate_descent.py:620: ConvergenceWarning: Objective did not converge. You might want to increase the number of iterations. Duality gap: 30718738.876559258, tolerance: 1077680.9683877903\n",
      "  model = cd_fast.enet_coordinate_descent_gram(\n",
      "/home/apprenant/.local/lib/python3.10/site-packages/sklearn/linear_model/_coordinate_descent.py:620: ConvergenceWarning: Objective did not converge. You might want to increase the number of iterations. Duality gap: 24593774.086327553, tolerance: 2904627.1995878313\n",
      "  model = cd_fast.enet_coordinate_descent_gram(\n",
      "/home/apprenant/.local/lib/python3.10/site-packages/sklearn/linear_model/_coordinate_descent.py:620: ConvergenceWarning: Objective did not converge. You might want to increase the number of iterations. Duality gap: 38180947.50221801, tolerance: 2634325.932686105\n",
      "  model = cd_fast.enet_coordinate_descent_gram(\n",
      "/home/apprenant/.local/lib/python3.10/site-packages/sklearn/linear_model/_coordinate_descent.py:620: ConvergenceWarning: Objective did not converge. You might want to increase the number of iterations. Duality gap: 21270637.545093536, tolerance: 4240401.680256001\n",
      "  model = cd_fast.enet_coordinate_descent_gram(\n",
      "/home/apprenant/.local/lib/python3.10/site-packages/sklearn/linear_model/_coordinate_descent.py:620: ConvergenceWarning: Objective did not converge. You might want to increase the number of iterations. Duality gap: 4746279.26356411, tolerance: 3879437.112330369\n",
      "  model = cd_fast.enet_coordinate_descent_gram(\n",
      "/home/apprenant/.local/lib/python3.10/site-packages/sklearn/linear_model/_coordinate_descent.py:620: ConvergenceWarning: Objective did not converge. You might want to increase the number of iterations. Duality gap: 14282286.722682953, tolerance: 7867323.878758881\n",
      "  model = cd_fast.enet_coordinate_descent_gram(\n"
     ]
    },
    {
     "data": {
      "image/png": "[encoded data removed]",
      "text/plain": [
       "<Figure size 640x480 with 1 Axes>"
      ]
     },
     "metadata": {},
     "output_type": "display_data"
    }
   ],
   "source": [
    "for model in models:\n",
    "    pipe = Pipeline([\n",
    "        ('enc', encoder), \n",
    "        ('poly', PolynomialFeatures()), \n",
    "        ('model', model),\n",
    "    ])\n",
    "\n",
    "    N, train_score, val_score = learning_curve(pipe, X_train, y_train, train_sizes=np.linspace(0.1,1,10), cv=5)\n",
    "\n",
    "    # print(N)\n",
    "    # print(train_score)\n",
    "    # print(val_score)\n",
    "\n",
    "    plt.plot(N, train_score.mean(axis=1), label='Entraînement')\n",
    "    plt.plot(N, val_score.mean(axis=1), label='Validation')\n",
    "    plt.title(f\"Modèle : {model.__class__.__name__}\")\n",
    "    plt.xlabel('Courbes d\\'apprentissage')\n",
    "    plt.legend()\n",
    "    plt.show()"
   ]
  }
 ],
 "metadata": {
  "kernelspec": {
   "display_name": "Python 3",
   "language": "python",
   "name": "python3"
  },
  "language_info": {
   "codemirror_mode": {
    "name": "ipython",
    "version": 3
   },
   "file_extension": ".py",
   "mimetype": "text/x-python",
   "name": "python",
   "nbconvert_exporter": "python",
   "pygments_lexer": "ipython3",
   "version": "3.10.6"
  },
  "orig_nbformat": 4,
  "vscode": {
   "interpreter": {
    "hash": "916dbcbb3f70747c44a77c7bcd40155683ae19c65e1c03b4aa3499c5328201f1"
   }
  }
 },
 "nbformat": 4,
 "nbformat_minor": 2
}
