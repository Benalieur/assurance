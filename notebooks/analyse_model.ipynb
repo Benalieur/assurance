{
 "cells": [
  {
   "attachments": {},
   "cell_type": "markdown",
   "metadata": {},
   "source": [
    "### Imports"
   ]
  },
  {
   "cell_type": "code",
   "execution_count": 424,
   "metadata": {},
   "outputs": [],
   "source": [
    "from joblib import load\n",
    "import numpy as np\n",
    "import pandas as pd\n",
    "import math"
   ]
  },
  {
   "cell_type": "code",
   "execution_count": 425,
   "metadata": {},
   "outputs": [],
   "source": [
    "models = []\n",
    "\n",
    "# models.append(load('../models/Lasso.pkl'))\n",
    "# models.append(load('../models/StackingRegressor.pkl'))\n",
    "# models.append(load('../models/PassiveAggressiveRegressor.pkl'))\n",
    "\n",
    "models.append(load('../models/StackingRegressor2.pkl'))\n",
    "models.append(load('../models/Ridge.pkl'))\n",
    "\n",
    "# models.append(load('../thomas/model/model.pkl'))"
   ]
  },
  {
   "attachments": {},
   "cell_type": "markdown",
   "metadata": {},
   "source": [
    "### Fonction de prédiction du modèle"
   ]
  },
  {
   "cell_type": "code",
   "execution_count": 426,
   "metadata": {},
   "outputs": [],
   "source": [
    "def prime_assurance(models, age, sex, bmi, children, smoker, region) :\n",
    "    if bmi < 18.5:\n",
    "        bmi = \"maigreur\"\n",
    "    elif bmi < 25:\n",
    "        bmi = \"normal\"\n",
    "    elif bmi < 30:\n",
    "        bmi = \"surpoids\"\n",
    "    elif bmi < 35:\n",
    "        bmi = \"obesite_moderee\"\n",
    "    elif bmi < 40:\n",
    "        bmi = \"obesite_severe\"\n",
    "    else:\n",
    "        bmi = \"obesite_morbide\"\n",
    "        \n",
    "    x = np.array([age, sex, bmi, children, smoker, region])\n",
    "\n",
    "    columns=['age', 'sex', 'bmi', 'children', 'smoker', 'region']\n",
    "\n",
    "    df = pd.DataFrame(x.reshape(-1, len(columns)), columns=columns)\n",
    "\n",
    "    predict = 0\n",
    "\n",
    "    for model in models:\n",
    "        predict += model.predict(df)[0]\n",
    "        print(model.predict(df)[0])\n",
    "\n",
    "    return predict / len(models)"
   ]
  },
  {
   "cell_type": "code",
   "execution_count": 427,
   "metadata": {},
   "outputs": [],
   "source": [
    "def score (a, b):\n",
    "    score = a / b\n",
    "    score = score * 100\n",
    "    score = round(score, 2)\n",
    "\n",
    "    if score > 100:\n",
    "        score = 100 -(score -100)\n",
    "\n",
    "    return f\"Score : {score}%\""
   ]
  },
  {
   "attachments": {},
   "cell_type": "markdown",
   "metadata": {},
   "source": [
    "### Tests de prédictions du modèle"
   ]
  },
  {
   "cell_type": "code",
   "execution_count": 428,
   "metadata": {},
   "outputs": [],
   "source": [
    "results = []\n",
    "targets = []"
   ]
  },
  {
   "cell_type": "code",
   "execution_count": 429,
   "metadata": {},
   "outputs": [
    {
     "name": "stdout",
     "output_type": "stream",
     "text": [
      "17806.808722244543\n",
      "17330.79579887254\n",
      "Moyenne des prédictions : 17568.8, Cible : 16884.924 Score : 96.11%\n"
     ]
    }
   ],
   "source": [
    "result = prime_assurance(models, 19, \"female\", 27.9, 0, \"Oui\", \"southwest\")\n",
    "\n",
    "target = 16884.92400\n",
    "\n",
    "results.append(result)\n",
    "targets.append(target)\n",
    "\n",
    "print(f\"Moyenne des prédictions : {round(result, 2)}, Cible : {target}\", score(target, result))"
   ]
  },
  {
   "cell_type": "code",
   "execution_count": 430,
   "metadata": {},
   "outputs": [
    {
     "name": "stdout",
     "output_type": "stream",
     "text": [
      "38917.464525901334\n",
      "38292.63001218552\n",
      "Moyenne des prédictions : 38605.05, Cible : 37165.16 Score : 96.27%\n"
     ]
    }
   ],
   "source": [
    "result = prime_assurance(models, 22,\"male\",37.6,1,\"Oui\",\"southeast\")\n",
    "\n",
    "target = 37165.16\n",
    "\n",
    "results.append(result)\n",
    "targets.append(target)\n",
    "\n",
    "print(f\"Moyenne des prédictions : {round(result, 2)}, Cible : {target}\", score(target, result))"
   ]
  },
  {
   "cell_type": "code",
   "execution_count": 431,
   "metadata": {},
   "outputs": [
    {
     "name": "stdout",
     "output_type": "stream",
     "text": [
      "3943.0684715093016\n",
      "3684.6289776201556\n",
      "Moyenne des prédictions : 3813.85, Cible : 1725.55 Score : 45.24%\n"
     ]
    }
   ],
   "source": [
    "result = prime_assurance(models, 18, \"male\", 33.77, 1, \"Non\", \"southeast\")\n",
    "\n",
    "target = 1725.55\n",
    "\n",
    "results.append(result)\n",
    "targets.append(target)\n",
    "\n",
    "print(f\"Moyenne des prédictions : {round(result, 2)}, Cible : {target}\", score(target, result))"
   ]
  },
  {
   "cell_type": "code",
   "execution_count": 432,
   "metadata": {},
   "outputs": [
    {
     "name": "stdout",
     "output_type": "stream",
     "text": [
      "6605.319984647644\n",
      "6344.569933912586\n",
      "Moyenne des prédictions : 6474.94, Cible : 4449.46 Score : 68.72%\n"
     ]
    }
   ],
   "source": [
    "result = prime_assurance(models, 28, \"male\", 33, 3, \"Non\", \"southeast\")\n",
    "\n",
    "target = 4449.46\n",
    "\n",
    "results.append(result)\n",
    "targets.append(target)\n",
    "\n",
    "print(f\"Moyenne des prédictions : {round(result, 2)}, Cible : {target}\", score(target, result))"
   ]
  },
  {
   "cell_type": "code",
   "execution_count": 433,
   "metadata": {},
   "outputs": [
    {
     "name": "stdout",
     "output_type": "stream",
     "text": [
      "15372.375803514771\n",
      "15267.971575865678\n",
      "Moyenne des prédictions : 15320.17, Cible : 13880.95 Score : 90.61%\n"
     ]
    }
   ],
   "source": [
    "result = prime_assurance(models, 63, \"female\", 31.8, 0, \"Non\", \"southwest\")\n",
    "\n",
    "target = 13880.95\n",
    "\n",
    "results.append(result)\n",
    "targets.append(target)\n",
    "\n",
    "print(f\"Moyenne des prédictions : {round(result, 2)}, Cible : {target}\", score(target, result))"
   ]
  },
  {
   "cell_type": "code",
   "execution_count": 434,
   "metadata": {},
   "outputs": [
    {
     "name": "stdout",
     "output_type": "stream",
     "text": [
      "34935.31331007129\n",
      "35062.32896334083\n",
      "Moyenne des prédictions : 34998.82, Cible : 33307.55 Score : 95.17%\n"
     ]
    }
   ],
   "source": [
    "result = prime_assurance(models, 19, \"female\", 30.0, 0, \"Oui\", \"northwest\")\n",
    "\n",
    "target = 33307.55\n",
    "\n",
    "results.append(result)\n",
    "targets.append(target)\n",
    "\n",
    "print(f\"Moyenne des prédictions : {round(result, 2)}, Cible : {target}\", score(target, result))"
   ]
  },
  {
   "cell_type": "code",
   "execution_count": 435,
   "metadata": {},
   "outputs": [
    {
     "name": "stdout",
     "output_type": "stream",
     "text": [
      "28819.661664094427\n",
      "28712.130683889227\n",
      "Moyenne des prédictions : 28765.9, Cible : 29141.36 Score : 98.69%\n"
     ]
    }
   ],
   "source": [
    "result = prime_assurance(models, 61, \"female\", 29.1, 0, \"Oui\", \"northwest\")\n",
    "\n",
    "target = 29141.36\n",
    "\n",
    "results.append(result)\n",
    "targets.append(target)\n",
    "\n",
    "print(f\"Moyenne des prédictions : {round(result, 2)}, Cible : {target}\", score(target, result))"
   ]
  }
 ],
 "metadata": {
  "kernelspec": {
   "display_name": "Python 3",
   "language": "python",
   "name": "python3"
  },
  "language_info": {
   "codemirror_mode": {
    "name": "ipython",
    "version": 3
   },
   "file_extension": ".py",
   "mimetype": "text/x-python",
   "name": "python",
   "nbconvert_exporter": "python",
   "pygments_lexer": "ipython3",
   "version": "3.10.6 (main, Nov 14 2022, 16:10:14) [GCC 11.3.0]"
  },
  "orig_nbformat": 4,
  "vscode": {
   "interpreter": {
    "hash": "916dbcbb3f70747c44a77c7bcd40155683ae19c65e1c03b4aa3499c5328201f1"
   }
  }
 },
 "nbformat": 4,
 "nbformat_minor": 2
}
