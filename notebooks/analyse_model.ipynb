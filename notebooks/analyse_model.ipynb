{
 "cells": [
  {
   "attachments": {},
   "cell_type": "markdown",
   "metadata": {},
   "source": [
    "### Imports"
   ]
  },
  {
   "cell_type": "code",
   "execution_count": 68,
   "metadata": {},
   "outputs": [],
   "source": [
    "from joblib import load\n",
    "import numpy as np\n",
    "import pandas as pd\n",
    "import math"
   ]
  },
  {
   "cell_type": "code",
   "execution_count": 69,
   "metadata": {},
   "outputs": [],
   "source": [
    "models = []\n",
    "\n",
    "models.append(load('../models/Lasso.pkl'))\n",
    "models.append(load('../models/StackingRegressor.pkl'))\n",
    "models.append(load('../models/StackingRegressor2.pkl'))\n",
    "models.append(load('../models/Ridge.pkl'))\n",
    "# models.append(load('../models/PassiveAggressiveRegressor.pkl'))"
   ]
  },
  {
   "attachments": {},
   "cell_type": "markdown",
   "metadata": {},
   "source": [
    "### Fonction de prédiction du modèle"
   ]
  },
  {
   "cell_type": "code",
   "execution_count": 70,
   "metadata": {},
   "outputs": [],
   "source": [
    "def prime_assurance(models, age, sex, bmi, children, smoker, region) :\n",
    "    if bmi < 18.5:\n",
    "        bmi = \"maigreur\"\n",
    "    elif bmi < 25:\n",
    "        bmi = \"normal\"\n",
    "    elif bmi < 30:\n",
    "        bmi = \"surpoids\"\n",
    "    elif bmi < 35:\n",
    "        bmi = \"obesite_moderee\"\n",
    "    elif bmi < 40:\n",
    "        bmi = \"obesite_severe\"\n",
    "    else:\n",
    "        bmi = \"obesite_morbide\"\n",
    "        \n",
    "    x = np.array([age, sex, bmi, children, smoker, region])\n",
    "\n",
    "    df = pd.DataFrame(x.reshape(-1, 6), columns=['age', 'sex', 'bmi', 'children', 'smoker', 'region'])\n",
    "\n",
    "    predict = 0\n",
    "\n",
    "    for model in models:\n",
    "        predict += model.predict(df)[0]\n",
    "        print(model.predict(df)[0])\n",
    "\n",
    "    return predict / len(models)"
   ]
  },
  {
   "cell_type": "code",
   "execution_count": 71,
   "metadata": {},
   "outputs": [],
   "source": [
    "def score (a, b):\n",
    "    score = a / b\n",
    "    score = score * 100\n",
    "    score = round(score, 2)\n",
    "\n",
    "    return f\"Score : {score}%\""
   ]
  },
  {
   "attachments": {},
   "cell_type": "markdown",
   "metadata": {},
   "source": [
    "### Tests de prédictions du modèle"
   ]
  },
  {
   "cell_type": "code",
   "execution_count": 72,
   "metadata": {},
   "outputs": [],
   "source": [
    "results = []\n",
    "targets = []"
   ]
  },
  {
   "cell_type": "code",
   "execution_count": 73,
   "metadata": {},
   "outputs": [
    {
     "name": "stdout",
     "output_type": "stream",
     "text": [
      "17315.361743401532\n",
      "17304.61343943372\n",
      "17704.774202719836\n",
      "17330.79579887254\n",
      "Moyenne des prédictions : 17413.89, Cible : 16884.924 Score : 96.96%\n"
     ]
    }
   ],
   "source": [
    "result = prime_assurance(models, 19, \"female\", 27.9, 0, \"Oui\", \"southwest\")\n",
    "\n",
    "target = 16884.92400\n",
    "\n",
    "results.append(result)\n",
    "targets.append(target)\n",
    "\n",
    "print(f\"Moyenne des prédictions : {round(result, 2)}, Cible : {target}\", score(target, result))"
   ]
  },
  {
   "cell_type": "code",
   "execution_count": 74,
   "metadata": {},
   "outputs": [
    {
     "name": "stdout",
     "output_type": "stream",
     "text": [
      "38017.66495310749\n",
      "37988.35912119647\n",
      "38307.314017456316\n",
      "38292.63001218552\n",
      "Moyenne des prédictions : 38151.49, Cible : 37165.16 Score : 97.41%\n"
     ]
    }
   ],
   "source": [
    "result = prime_assurance(models, 22,\"male\",37.6,1,\"Oui\",\"southeast\")\n",
    "\n",
    "target = 37165.16\n",
    "\n",
    "results.append(result)\n",
    "targets.append(target)\n",
    "\n",
    "print(f\"Moyenne des prédictions : {round(result, 2)}, Cible : {target}\", score(target, result))"
   ]
  },
  {
   "cell_type": "code",
   "execution_count": 75,
   "metadata": {},
   "outputs": [
    {
     "name": "stdout",
     "output_type": "stream",
     "text": [
      "3818.760117010462\n",
      "3822.908585574829\n",
      "3670.4147300555496\n",
      "3684.6289776201556\n",
      "Moyenne des prédictions : 3749.18, Cible : 1725.55 Score : 46.02%\n"
     ]
    }
   ],
   "source": [
    "result = prime_assurance(models, 18, \"male\", 33.77, 1, \"Non\", \"southeast\")\n",
    "\n",
    "target = 1725.55\n",
    "\n",
    "results.append(result)\n",
    "targets.append(target)\n",
    "\n",
    "print(f\"Moyenne des prédictions : {round(result, 2)}, Cible : {target}\", score(target, result))"
   ]
  },
  {
   "cell_type": "code",
   "execution_count": 76,
   "metadata": {},
   "outputs": [
    {
     "name": "stdout",
     "output_type": "stream",
     "text": [
      "6642.875337989777\n",
      "6616.044565669323\n",
      "6456.809237026191\n",
      "6344.569933912586\n",
      "Moyenne des prédictions : 6515.07, Cible : 4449.46 Score : 68.29%\n"
     ]
    }
   ],
   "source": [
    "result = prime_assurance(models, 28, \"male\", 33, 3, \"Non\", \"southeast\")\n",
    "\n",
    "target = 4449.46\n",
    "\n",
    "results.append(result)\n",
    "targets.append(target)\n",
    "\n",
    "print(f\"Moyenne des prédictions : {round(result, 2)}, Cible : {target}\", score(target, result))"
   ]
  },
  {
   "cell_type": "code",
   "execution_count": 77,
   "metadata": {},
   "outputs": [
    {
     "name": "stdout",
     "output_type": "stream",
     "text": [
      "14921.45884692452\n",
      "14964.325785805557\n",
      "15301.94918597785\n",
      "15267.971575865678\n",
      "Moyenne des prédictions : 15113.93, Cible : 13880.95 Score : 91.84%\n"
     ]
    }
   ],
   "source": [
    "result = prime_assurance(models, 63, \"female\", 31.8, 0, \"Non\", \"southwest\")\n",
    "\n",
    "target = 13880.95\n",
    "\n",
    "results.append(result)\n",
    "targets.append(target)\n",
    "\n",
    "print(f\"Moyenne des prédictions : {round(result, 2)}, Cible : {target}\", score(target, result))"
   ]
  },
  {
   "cell_type": "code",
   "execution_count": 78,
   "metadata": {},
   "outputs": [
    {
     "name": "stdout",
     "output_type": "stream",
     "text": [
      "34571.60976392181\n",
      "34582.30418181328\n",
      "34750.336453586424\n",
      "35062.32896334083\n",
      "Moyenne des prédictions : 34741.64, Cible : 33307.55 Score : 95.87%\n"
     ]
    }
   ],
   "source": [
    "result = prime_assurance(models, 19, \"female\", 30.0, 0, \"Oui\", \"northwest\")\n",
    "\n",
    "target = 33307.55\n",
    "\n",
    "results.append(result)\n",
    "targets.append(target)\n",
    "\n",
    "print(f\"Moyenne des prédictions : {round(result, 2)}, Cible : {target}\", score(target, result))"
   ]
  },
  {
   "cell_type": "code",
   "execution_count": 79,
   "metadata": {},
   "outputs": [
    {
     "name": "stdout",
     "output_type": "stream",
     "text": [
      "28590.42066681796\n",
      "28564.56628601925\n",
      "28830.197897992624\n",
      "28712.130683889227\n",
      "Moyenne des prédictions : 28674.33, Cible : 29141.36 Score : 101.63%\n"
     ]
    }
   ],
   "source": [
    "result = prime_assurance(models, 61, \"female\", 29.1, 0, \"Oui\", \"northwest\")\n",
    "\n",
    "target = 29141.36\n",
    "\n",
    "results.append(result)\n",
    "targets.append(target)\n",
    "\n",
    "print(f\"Moyenne des prédictions : {round(result, 2)}, Cible : {target}\", score(target, result))"
   ]
  },
  {
   "cell_type": "code",
   "execution_count": 80,
   "metadata": {},
   "outputs": [
    {
     "name": "stdout",
     "output_type": "stream",
     "text": [
      "71.92%\n"
     ]
    }
   ],
   "source": [
    "resultat = 0\n",
    "cible = 0\n",
    "\n",
    "for result in results:\n",
    "    resultat += result\n",
    "\n",
    "for target in targets:\n",
    "    cible += result\n",
    "\n",
    "resultat = resultat / len(results)\n",
    "cible = cible / len(targets)\n",
    "\n",
    "print(f\"{round(resultat / cible * 100, 2)}%\")"
   ]
  },
  {
   "cell_type": "code",
   "execution_count": null,
   "metadata": {},
   "outputs": [],
   "source": []
  }
 ],
 "metadata": {
  "kernelspec": {
   "display_name": "Python 3",
   "language": "python",
   "name": "python3"
  },
  "language_info": {
   "codemirror_mode": {
    "name": "ipython",
    "version": 3
   },
   "file_extension": ".py",
   "mimetype": "text/x-python",
   "name": "python",
   "nbconvert_exporter": "python",
   "pygments_lexer": "ipython3",
   "version": "3.10.6"
  },
  "orig_nbformat": 4,
  "vscode": {
   "interpreter": {
    "hash": "916dbcbb3f70747c44a77c7bcd40155683ae19c65e1c03b4aa3499c5328201f1"
   }
  }
 },
 "nbformat": 4,
 "nbformat_minor": 2
}
