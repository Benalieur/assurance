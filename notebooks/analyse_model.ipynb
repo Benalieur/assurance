{
 "cells": [
  {
   "attachments": {},
   "cell_type": "markdown",
   "metadata": {},
   "source": [
    "## Imports"
   ]
  },
  {
   "cell_type": "code",
   "execution_count": 834,
   "metadata": {},
   "outputs": [],
   "source": [
    "from joblib import load\n",
    "import numpy as np\n",
    "import pandas as pd\n",
    "import datetime as dt\n",
    "import math"
   ]
  },
  {
   "cell_type": "code",
   "execution_count": 835,
   "metadata": {},
   "outputs": [],
   "source": [
    "df = pd.read_csv('../csv/donnees_clean.csv')\n",
    "\n",
    "X = df.drop('charges', axis=1)\n",
    "y= df['charges']"
   ]
  },
  {
   "cell_type": "code",
   "execution_count": 836,
   "metadata": {},
   "outputs": [],
   "source": [
    "models = []\n",
    "\n",
    "# models.append(load('../models/Ridge.pkl'))\n",
    "models.append(load('../models/Ridge_residus.pkl'))\n",
    "\n",
    "# models.append(load('../models/Lasso.pkl'))\n",
    "# models.append(load('../models/StackingRegressor.pkl'))\n",
    "# models.append(load('../models/PassiveAggressiveRegressor.pkl'))\n",
    "# models.append(load('../models/StackingRegressor2.pkl'))\n",
    "\n",
    "# models.append(load('../thomas/model/model.pkl'))"
   ]
  },
  {
   "attachments": {},
   "cell_type": "markdown",
   "metadata": {},
   "source": [
    "## Fonction de prédiction du modèle"
   ]
  },
  {
   "cell_type": "code",
   "execution_count": 837,
   "metadata": {},
   "outputs": [],
   "source": [
    "def calcul_bmi(bmi):\n",
    "    if bmi < 18.5:\n",
    "        bmi = \"maigreur\"\n",
    "    elif bmi < 25:\n",
    "        bmi = \"normal\"\n",
    "    elif bmi < 30:\n",
    "        bmi = \"surpoids\"\n",
    "    elif bmi < 35:\n",
    "        bmi = \"obesite_moderee\"\n",
    "    elif bmi < 40:\n",
    "        bmi = \"obesite_severe\"\n",
    "    else:\n",
    "        bmi = \"obesite_morbide\"\n",
    "\n",
    "    return bmi"
   ]
  },
  {
   "cell_type": "code",
   "execution_count": 838,
   "metadata": {},
   "outputs": [],
   "source": [
    "def prime_assurance(models, age, sex, bmi, children, smoker, region) :\n",
    "    bmi = calcul_bmi(bmi)\n",
    "        \n",
    "    x = np.array([age, sex, bmi, children, smoker, region])\n",
    "\n",
    "    columns=['age', 'sex', 'bmi', 'children', 'smoker', 'region']\n",
    "\n",
    "    df = pd.DataFrame(x.reshape(-1, len(columns)), columns=columns)\n",
    "\n",
    "    predict = 0\n",
    "\n",
    "    for model in models:\n",
    "        predict += model.predict(df)[0]\n",
    "        print(model.predict(df)[0])\n",
    "\n",
    "    return predict / len(models)"
   ]
  },
  {
   "cell_type": "code",
   "execution_count": 839,
   "metadata": {},
   "outputs": [],
   "source": [
    "def score (a, b):\n",
    "    score = a / b\n",
    "    score = score * 100\n",
    "    score = round(score, 2)\n",
    "\n",
    "    if score > 100:\n",
    "        score = 100 -(score -100)\n",
    "    \n",
    "    if score < 0:\n",
    "        score=0\n",
    "\n",
    "    return score"
   ]
  },
  {
   "attachments": {},
   "cell_type": "markdown",
   "metadata": {},
   "source": [
    "## Tests de prédictions du modèle"
   ]
  },
  {
   "cell_type": "code",
   "execution_count": 840,
   "metadata": {},
   "outputs": [],
   "source": [
    "results = []\n",
    "targets = []\n",
    "scores = []"
   ]
  },
  {
   "cell_type": "code",
   "execution_count": 841,
   "metadata": {},
   "outputs": [
    {
     "name": "stdout",
     "output_type": "stream",
     "text": [
      "16974.80646367137\n",
      "Moyenne des prédictions : 16974.81, Cible : 16884.924, Score : 99.47%\n"
     ]
    }
   ],
   "source": [
    "result = prime_assurance(models, 19, \"female\", 27.9, 0, \"Oui\", \"southwest\")\n",
    "\n",
    "target = 16884.92400\n",
    "\n",
    "results.append(result)\n",
    "targets.append(target)\n",
    "\n",
    "scores.append(score(target, result))\n",
    "\n",
    "print(f\"Moyenne des prédictions : {round(result, 2)}, Cible : {target}, Score : {score(target, result)}%\")"
   ]
  },
  {
   "cell_type": "code",
   "execution_count": 842,
   "metadata": {},
   "outputs": [
    {
     "name": "stdout",
     "output_type": "stream",
     "text": [
      "37016.311941374835\n",
      "Moyenne des prédictions : 37016.31, Cible : 37165.16, Score : 99.6%\n"
     ]
    }
   ],
   "source": [
    "result = prime_assurance(models, 22,\"male\",37.6,1,\"Oui\",\"southeast\")\n",
    "\n",
    "target = 37165.16\n",
    "\n",
    "results.append(result)\n",
    "targets.append(target)\n",
    "\n",
    "scores.append(score(target, result))\n",
    "\n",
    "print(f\"Moyenne des prédictions : {round(result, 2)}, Cible : {target}, Score : {score(target, result)}%\")"
   ]
  },
  {
   "cell_type": "code",
   "execution_count": 843,
   "metadata": {},
   "outputs": [
    {
     "name": "stdout",
     "output_type": "stream",
     "text": [
      "1889.5142751337908\n",
      "Moyenne des prédictions : 1889.51, Cible : 1725.55, Score : 91.32%\n"
     ]
    }
   ],
   "source": [
    "result = prime_assurance(models, 18, \"male\", 33.77, 1, \"Non\", \"southeast\")\n",
    "\n",
    "target = 1725.55\n",
    "\n",
    "results.append(result)\n",
    "targets.append(target)\n",
    "\n",
    "scores.append(score(target, result))\n",
    "\n",
    "print(f\"Moyenne des prédictions : {round(result, 2)}, Cible : {target}, Score : {score(target, result)}%\")"
   ]
  },
  {
   "cell_type": "code",
   "execution_count": 844,
   "metadata": {},
   "outputs": [
    {
     "name": "stdout",
     "output_type": "stream",
     "text": [
      "4689.717606501963\n",
      "Moyenne des prédictions : 4689.72, Cible : 4449.46, Score : 94.88%\n"
     ]
    }
   ],
   "source": [
    "result = prime_assurance(models, 28, \"male\", 33, 3, \"Non\", \"southeast\")\n",
    "\n",
    "target = 4449.46\n",
    "\n",
    "results.append(result)\n",
    "targets.append(target)\n",
    "\n",
    "scores.append(score(target, result))\n",
    "\n",
    "print(f\"Moyenne des prédictions : {round(result, 2)}, Cible : {target}, Score : {score(target, result)}%\")"
   ]
  },
  {
   "cell_type": "code",
   "execution_count": 845,
   "metadata": {},
   "outputs": [
    {
     "name": "stdout",
     "output_type": "stream",
     "text": [
      "14280.512156974537\n",
      "Moyenne des prédictions : 14280.51, Cible : 13880.95, Score : 97.2%\n"
     ]
    }
   ],
   "source": [
    "result = prime_assurance(models, 63, \"female\", 31.8, 0, \"Non\", \"southwest\")\n",
    "\n",
    "target = 13880.95\n",
    "\n",
    "results.append(result)\n",
    "targets.append(target)\n",
    "\n",
    "scores.append(score(target, result))\n",
    "\n",
    "print(f\"Moyenne des prédictions : {round(result, 2)}, Cible : {target}, Score : {score(target, result)}%\")"
   ]
  },
  {
   "cell_type": "code",
   "execution_count": 846,
   "metadata": {},
   "outputs": [
    {
     "name": "stdout",
     "output_type": "stream",
     "text": [
      "34233.49927768699\n",
      "Moyenne des prédictions : 34233.5, Cible : 33307.55, Score : 97.3%\n"
     ]
    }
   ],
   "source": [
    "result = prime_assurance(models, 19, \"female\", 30.0, 0, \"Oui\", \"northwest\")\n",
    "\n",
    "target = 33307.55\n",
    "\n",
    "results.append(result)\n",
    "targets.append(target)\n",
    "\n",
    "scores.append(score(target, result))\n",
    "\n",
    "print(f\"Moyenne des prédictions : {round(result, 2)}, Cible : {target}, Score : {score(target, result)}%\")"
   ]
  },
  {
   "cell_type": "code",
   "execution_count": 847,
   "metadata": {},
   "outputs": [
    {
     "name": "stdout",
     "output_type": "stream",
     "text": [
      "28034.52455512299\n",
      "Moyenne des prédictions : 28034.52, Cible : 29141.36, Score : 96.05%\n"
     ]
    }
   ],
   "source": [
    "result = prime_assurance(models, 61, \"female\", 29.1, 0, \"Oui\", \"northwest\")\n",
    "\n",
    "target = 29141.36\n",
    "\n",
    "results.append(result)\n",
    "targets.append(target)\n",
    "\n",
    "scores.append(score(target, result))\n",
    "\n",
    "print(f\"Moyenne des prédictions : {round(result, 2)}, Cible : {target}, Score : {score(target, result)}%\")"
   ]
  },
  {
   "attachments": {},
   "cell_type": "markdown",
   "metadata": {},
   "source": [
    "## Tests de prédictions du modèle sur les valeurs résiduelles"
   ]
  },
  {
   "cell_type": "code",
   "execution_count": 848,
   "metadata": {},
   "outputs": [
    {
     "name": "stdout",
     "output_type": "stream",
     "text": [
      "3896.85647401246\n",
      "Moyenne des prédictions : 3896.86, Cible : 21984.47, Score : 0%\n"
     ]
    }
   ],
   "source": [
    "result = prime_assurance(models, 33, \"male\", 22.7, 0, \"Non\", \"northwest\")\n",
    "\n",
    "target = 21984.47\n",
    "\n",
    "results.append(result)\n",
    "targets.append(target)\n",
    "\n",
    "scores.append(score(target, result))\n",
    "\n",
    "print(f\"Moyenne des prédictions : {round(result, 2)}, Cible : {target}, Score : {score(target, result)}%\")"
   ]
  },
  {
   "cell_type": "code",
   "execution_count": 849,
   "metadata": {},
   "outputs": [
    {
     "name": "stdout",
     "output_type": "stream",
     "text": [
      "12881.52627194449\n",
      "Moyenne des prédictions : 12881.53, Cible : 28923.14, Score : 0%\n"
     ]
    }
   ],
   "source": [
    "result = prime_assurance(models, 60, \"female\", 25.8, 0, \"Non\", \"northwest\")\n",
    "\n",
    "target = 28923.14\n",
    "\n",
    "results.append(result)\n",
    "targets.append(target)\n",
    "\n",
    "scores.append(score(target, result))\n",
    "\n",
    "print(f\"Moyenne des prédictions : {round(result, 2)}, Cible : {target}, Score : {score(target, result)}%\")"
   ]
  },
  {
   "cell_type": "code",
   "execution_count": 850,
   "metadata": {},
   "outputs": [
    {
     "name": "stdout",
     "output_type": "stream",
     "text": [
      "37991.16304008155\n",
      "Moyenne des prédictions : 37991.16, Cible : 51194.56, Score : 65.25%\n"
     ]
    }
   ],
   "source": [
    "result = prime_assurance(models, 28, \"male\", 36.4, 1, \"Oui\", \"northwest\")\n",
    "\n",
    "target = 51194.56\n",
    "\n",
    "results.append(result)\n",
    "targets.append(target)\n",
    "\n",
    "scores.append(score(target, result))\n",
    "\n",
    "print(f\"Moyenne des prédictions : {round(result, 2)}, Cible : {target}, Score : {score(target, result)}%\")"
   ]
  },
  {
   "attachments": {},
   "cell_type": "markdown",
   "metadata": {},
   "source": [
    "## Moyenne des tests"
   ]
  },
  {
   "cell_type": "code",
   "execution_count": 851,
   "metadata": {},
   "outputs": [
    {
     "data": {
      "text/plain": [
       "'Moyenne prédictions : 73.8%'"
      ]
     },
     "execution_count": 851,
     "metadata": {},
     "output_type": "execute_result"
    }
   ],
   "source": [
    "le_score = 0\n",
    "for score in scores:\n",
    "    le_score += int(score)\n",
    "\n",
    "le_score = le_score / len(scores)\n",
    "le_score = f\"Moyenne prédictions : {round(le_score, 2)}%\"\n",
    "\n",
    "le_score"
   ]
  }
 ],
 "metadata": {
  "kernelspec": {
   "display_name": "Python 3",
   "language": "python",
   "name": "python3"
  },
  "language_info": {
   "codemirror_mode": {
    "name": "ipython",
    "version": 3
   },
   "file_extension": ".py",
   "mimetype": "text/x-python",
   "name": "python",
   "nbconvert_exporter": "python",
   "pygments_lexer": "ipython3",
   "version": "3.10.6"
  },
  "orig_nbformat": 4,
  "vscode": {
   "interpreter": {
    "hash": "916dbcbb3f70747c44a77c7bcd40155683ae19c65e1c03b4aa3499c5328201f1"
   }
  }
 },
 "nbformat": 4,
 "nbformat_minor": 2
}
