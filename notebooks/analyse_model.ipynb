{
 "cells": [
  {
   "attachments": {},
   "cell_type": "markdown",
   "metadata": {},
   "source": [
    "### Imports"
   ]
  },
  {
   "cell_type": "code",
   "execution_count": 1,
   "metadata": {},
   "outputs": [],
   "source": [
    "from joblib import load\n",
    "import numpy as np\n",
    "import pandas as pd"
   ]
  },
  {
   "cell_type": "code",
   "execution_count": 2,
   "metadata": {},
   "outputs": [
    {
     "data": {
      "text/html": [
       "<style>#sk-container-id-1 {color: black;background-color: white;}#sk-container-id-1 pre{padding: 0;}#sk-container-id-1 div.sk-toggleable {background-color: white;}#sk-container-id-1 label.sk-toggleable__label {cursor: pointer;display: block;width: 100%;margin-bottom: 0;padding: 0.3em;box-sizing: border-box;text-align: center;}#sk-container-id-1 label.sk-toggleable__label-arrow:before {content: \"▸\";float: left;margin-right: 0.25em;color: #696969;}#sk-container-id-1 label.sk-toggleable__label-arrow:hover:before {color: black;}#sk-container-id-1 div.sk-estimator:hover label.sk-toggleable__label-arrow:before {color: black;}#sk-container-id-1 div.sk-toggleable__content {max-height: 0;max-width: 0;overflow: hidden;text-align: left;background-color: #f0f8ff;}#sk-container-id-1 div.sk-toggleable__content pre {margin: 0.2em;color: black;border-radius: 0.25em;background-color: #f0f8ff;}#sk-container-id-1 input.sk-toggleable__control:checked~div.sk-toggleable__content {max-height: 200px;max-width: 100%;overflow: auto;}#sk-container-id-1 input.sk-toggleable__control:checked~label.sk-toggleable__label-arrow:before {content: \"▾\";}#sk-container-id-1 div.sk-estimator input.sk-toggleable__control:checked~label.sk-toggleable__label {background-color: #d4ebff;}#sk-container-id-1 div.sk-label input.sk-toggleable__control:checked~label.sk-toggleable__label {background-color: #d4ebff;}#sk-container-id-1 input.sk-hidden--visually {border: 0;clip: rect(1px 1px 1px 1px);clip: rect(1px, 1px, 1px, 1px);height: 1px;margin: -1px;overflow: hidden;padding: 0;position: absolute;width: 1px;}#sk-container-id-1 div.sk-estimator {font-family: monospace;background-color: #f0f8ff;border: 1px dotted black;border-radius: 0.25em;box-sizing: border-box;margin-bottom: 0.5em;}#sk-container-id-1 div.sk-estimator:hover {background-color: #d4ebff;}#sk-container-id-1 div.sk-parallel-item::after {content: \"\";width: 100%;border-bottom: 1px solid gray;flex-grow: 1;}#sk-container-id-1 div.sk-label:hover label.sk-toggleable__label {background-color: #d4ebff;}#sk-container-id-1 div.sk-serial::before {content: \"\";position: absolute;border-left: 1px solid gray;box-sizing: border-box;top: 0;bottom: 0;left: 50%;z-index: 0;}#sk-container-id-1 div.sk-serial {display: flex;flex-direction: column;align-items: center;background-color: white;padding-right: 0.2em;padding-left: 0.2em;position: relative;}#sk-container-id-1 div.sk-item {position: relative;z-index: 1;}#sk-container-id-1 div.sk-parallel {display: flex;align-items: stretch;justify-content: center;background-color: white;position: relative;}#sk-container-id-1 div.sk-item::before, #sk-container-id-1 div.sk-parallel-item::before {content: \"\";position: absolute;border-left: 1px solid gray;box-sizing: border-box;top: 0;bottom: 0;left: 50%;z-index: -1;}#sk-container-id-1 div.sk-parallel-item {display: flex;flex-direction: column;z-index: 1;position: relative;background-color: white;}#sk-container-id-1 div.sk-parallel-item:first-child::after {align-self: flex-end;width: 50%;}#sk-container-id-1 div.sk-parallel-item:last-child::after {align-self: flex-start;width: 50%;}#sk-container-id-1 div.sk-parallel-item:only-child::after {width: 0;}#sk-container-id-1 div.sk-dashed-wrapped {border: 1px dashed gray;margin: 0 0.4em 0.5em 0.4em;box-sizing: border-box;padding-bottom: 0.4em;background-color: white;}#sk-container-id-1 div.sk-label label {font-family: monospace;font-weight: bold;display: inline-block;line-height: 1.2em;}#sk-container-id-1 div.sk-label-container {text-align: center;}#sk-container-id-1 div.sk-container {/* jupyter's `normalize.less` sets `[hidden] { display: none; }` but bootstrap.min.css set `[hidden] { display: none !important; }` so we also need the `!important` here to be able to override the default hidden behavior on the sphinx rendered scikit-learn.org. See: https://github.com/scikit-learn/scikit-learn/issues/21755 */display: inline-block !important;position: relative;}#sk-container-id-1 div.sk-text-repr-fallback {display: none;}</style><div id=\"sk-container-id-1\" class=\"sk-top-container\"><div class=\"sk-text-repr-fallback\"><pre>Pipeline(steps=[(&#x27;enc&#x27;,\n",
       "                 ColumnTransformer(remainder=&#x27;passthrough&#x27;,\n",
       "                                   transformers=[(&#x27;cat&#x27;,\n",
       "                                                  OneHotEncoder(drop=&#x27;if_binary&#x27;),\n",
       "                                                  [&#x27;smoker&#x27;, &#x27;sex&#x27;, &#x27;region&#x27;,\n",
       "                                                   &#x27;bmi&#x27;]),\n",
       "                                                 (&#x27;num&#x27;, RobustScaler(),\n",
       "                                                  [&#x27;age&#x27;, &#x27;children&#x27;])])),\n",
       "                (&#x27;poly&#x27;, PolynomialFeatures()),\n",
       "                (&#x27;model&#x27;,\n",
       "                 Lasso(alpha=0.9, positive=True, precompute=True,\n",
       "                       warm_start=True))])</pre><b>In a Jupyter environment, please rerun this cell to show the HTML representation or trust the notebook. <br />On GitHub, the HTML representation is unable to render, please try loading this page with nbviewer.org.</b></div><div class=\"sk-container\" hidden><div class=\"sk-item sk-dashed-wrapped\"><div class=\"sk-label-container\"><div class=\"sk-label sk-toggleable\"><input class=\"sk-toggleable__control sk-hidden--visually\" id=\"sk-estimator-id-1\" type=\"checkbox\" ><label for=\"sk-estimator-id-1\" class=\"sk-toggleable__label sk-toggleable__label-arrow\">Pipeline</label><div class=\"sk-toggleable__content\"><pre>Pipeline(steps=[(&#x27;enc&#x27;,\n",
       "                 ColumnTransformer(remainder=&#x27;passthrough&#x27;,\n",
       "                                   transformers=[(&#x27;cat&#x27;,\n",
       "                                                  OneHotEncoder(drop=&#x27;if_binary&#x27;),\n",
       "                                                  [&#x27;smoker&#x27;, &#x27;sex&#x27;, &#x27;region&#x27;,\n",
       "                                                   &#x27;bmi&#x27;]),\n",
       "                                                 (&#x27;num&#x27;, RobustScaler(),\n",
       "                                                  [&#x27;age&#x27;, &#x27;children&#x27;])])),\n",
       "                (&#x27;poly&#x27;, PolynomialFeatures()),\n",
       "                (&#x27;model&#x27;,\n",
       "                 Lasso(alpha=0.9, positive=True, precompute=True,\n",
       "                       warm_start=True))])</pre></div></div></div><div class=\"sk-serial\"><div class=\"sk-item sk-dashed-wrapped\"><div class=\"sk-label-container\"><div class=\"sk-label sk-toggleable\"><input class=\"sk-toggleable__control sk-hidden--visually\" id=\"sk-estimator-id-2\" type=\"checkbox\" ><label for=\"sk-estimator-id-2\" class=\"sk-toggleable__label sk-toggleable__label-arrow\">enc: ColumnTransformer</label><div class=\"sk-toggleable__content\"><pre>ColumnTransformer(remainder=&#x27;passthrough&#x27;,\n",
       "                  transformers=[(&#x27;cat&#x27;, OneHotEncoder(drop=&#x27;if_binary&#x27;),\n",
       "                                 [&#x27;smoker&#x27;, &#x27;sex&#x27;, &#x27;region&#x27;, &#x27;bmi&#x27;]),\n",
       "                                (&#x27;num&#x27;, RobustScaler(), [&#x27;age&#x27;, &#x27;children&#x27;])])</pre></div></div></div><div class=\"sk-parallel\"><div class=\"sk-parallel-item\"><div class=\"sk-item\"><div class=\"sk-label-container\"><div class=\"sk-label sk-toggleable\"><input class=\"sk-toggleable__control sk-hidden--visually\" id=\"sk-estimator-id-3\" type=\"checkbox\" ><label for=\"sk-estimator-id-3\" class=\"sk-toggleable__label sk-toggleable__label-arrow\">cat</label><div class=\"sk-toggleable__content\"><pre>[&#x27;smoker&#x27;, &#x27;sex&#x27;, &#x27;region&#x27;, &#x27;bmi&#x27;]</pre></div></div></div><div class=\"sk-serial\"><div class=\"sk-item\"><div class=\"sk-estimator sk-toggleable\"><input class=\"sk-toggleable__control sk-hidden--visually\" id=\"sk-estimator-id-4\" type=\"checkbox\" ><label for=\"sk-estimator-id-4\" class=\"sk-toggleable__label sk-toggleable__label-arrow\">OneHotEncoder</label><div class=\"sk-toggleable__content\"><pre>OneHotEncoder(drop=&#x27;if_binary&#x27;)</pre></div></div></div></div></div></div><div class=\"sk-parallel-item\"><div class=\"sk-item\"><div class=\"sk-label-container\"><div class=\"sk-label sk-toggleable\"><input class=\"sk-toggleable__control sk-hidden--visually\" id=\"sk-estimator-id-5\" type=\"checkbox\" ><label for=\"sk-estimator-id-5\" class=\"sk-toggleable__label sk-toggleable__label-arrow\">num</label><div class=\"sk-toggleable__content\"><pre>[&#x27;age&#x27;, &#x27;children&#x27;]</pre></div></div></div><div class=\"sk-serial\"><div class=\"sk-item\"><div class=\"sk-estimator sk-toggleable\"><input class=\"sk-toggleable__control sk-hidden--visually\" id=\"sk-estimator-id-6\" type=\"checkbox\" ><label for=\"sk-estimator-id-6\" class=\"sk-toggleable__label sk-toggleable__label-arrow\">RobustScaler</label><div class=\"sk-toggleable__content\"><pre>RobustScaler()</pre></div></div></div></div></div></div><div class=\"sk-parallel-item\"><div class=\"sk-item\"><div class=\"sk-label-container\"><div class=\"sk-label sk-toggleable\"><input class=\"sk-toggleable__control sk-hidden--visually\" id=\"sk-estimator-id-7\" type=\"checkbox\" ><label for=\"sk-estimator-id-7\" class=\"sk-toggleable__label sk-toggleable__label-arrow\">remainder</label><div class=\"sk-toggleable__content\"><pre>[]</pre></div></div></div><div class=\"sk-serial\"><div class=\"sk-item\"><div class=\"sk-estimator sk-toggleable\"><input class=\"sk-toggleable__control sk-hidden--visually\" id=\"sk-estimator-id-8\" type=\"checkbox\" ><label for=\"sk-estimator-id-8\" class=\"sk-toggleable__label sk-toggleable__label-arrow\">passthrough</label><div class=\"sk-toggleable__content\"><pre>passthrough</pre></div></div></div></div></div></div></div></div><div class=\"sk-item\"><div class=\"sk-estimator sk-toggleable\"><input class=\"sk-toggleable__control sk-hidden--visually\" id=\"sk-estimator-id-9\" type=\"checkbox\" ><label for=\"sk-estimator-id-9\" class=\"sk-toggleable__label sk-toggleable__label-arrow\">PolynomialFeatures</label><div class=\"sk-toggleable__content\"><pre>PolynomialFeatures()</pre></div></div></div><div class=\"sk-item\"><div class=\"sk-estimator sk-toggleable\"><input class=\"sk-toggleable__control sk-hidden--visually\" id=\"sk-estimator-id-10\" type=\"checkbox\" ><label for=\"sk-estimator-id-10\" class=\"sk-toggleable__label sk-toggleable__label-arrow\">Lasso</label><div class=\"sk-toggleable__content\"><pre>Lasso(alpha=0.9, positive=True, precompute=True, warm_start=True)</pre></div></div></div></div></div></div></div>"
      ],
      "text/plain": [
       "Pipeline(steps=[('enc',\n",
       "                 ColumnTransformer(remainder='passthrough',\n",
       "                                   transformers=[('cat',\n",
       "                                                  OneHotEncoder(drop='if_binary'),\n",
       "                                                  ['smoker', 'sex', 'region',\n",
       "                                                   'bmi']),\n",
       "                                                 ('num', RobustScaler(),\n",
       "                                                  ['age', 'children'])])),\n",
       "                ('poly', PolynomialFeatures()),\n",
       "                ('model',\n",
       "                 Lasso(alpha=0.9, positive=True, precompute=True,\n",
       "                       warm_start=True))])"
      ]
     },
     "execution_count": 2,
     "metadata": {},
     "output_type": "execute_result"
    }
   ],
   "source": [
    "model = load('../models/Lasso.pkl')\n",
    "model2 = load('../models/StackingRegressor.pkl')\n",
    "\n",
    "model"
   ]
  },
  {
   "attachments": {},
   "cell_type": "markdown",
   "metadata": {},
   "source": [
    "### Fonction de prédiction du modèle"
   ]
  },
  {
   "cell_type": "code",
   "execution_count": 3,
   "metadata": {},
   "outputs": [],
   "source": [
    "def prime_assurance(model, age, sex, bmi, children, smoker, region) :\n",
    "    if bmi < 18.5:\n",
    "        bmi = \"maigreur\"\n",
    "    elif bmi < 25:\n",
    "        bmi = \"normal\"\n",
    "    elif bmi < 30:\n",
    "        bmi = \"surpoids\"\n",
    "    elif bmi < 35:\n",
    "        bmi = \"obesite_moderee\"\n",
    "    elif bmi < 40:\n",
    "        bmi = \"obesite_severe\"\n",
    "    else:\n",
    "        bmi = \"obesite_morbide\"\n",
    "        \n",
    "    x = np.array([age, sex, bmi, children, smoker, region])\n",
    "\n",
    "    df = pd.DataFrame(x.reshape(-1, 6), columns=['age', 'sex', 'bmi', 'children', 'smoker', 'region'])\n",
    "\n",
    "    return model.predict(df)[0]"
   ]
  },
  {
   "cell_type": "code",
   "execution_count": 4,
   "metadata": {},
   "outputs": [],
   "source": [
    "def score (a, b):\n",
    "    score = a / b\n",
    "    score = score * 100\n",
    "    score = round(score, 2)\n",
    "\n",
    "    return f\"Score : {score}%\""
   ]
  },
  {
   "attachments": {},
   "cell_type": "markdown",
   "metadata": {},
   "source": [
    "### Tests de prédictions du modèle"
   ]
  },
  {
   "cell_type": "code",
   "execution_count": 5,
   "metadata": {},
   "outputs": [
    {
     "name": "stdout",
     "output_type": "stream",
     "text": [
      "Modèle : Lasso, Prédiction : 17937.37, Cible : 16884.924 Score : 94.13%\n",
      "Modèle : StackingRegressor, Prédiction : 18033.42, Cible : 16884.924 Score : 93.63%\n"
     ]
    }
   ],
   "source": [
    "result = prime_assurance(model, 19, \"female\", 27.9, 0, \"Oui\", \"southwest\")\n",
    "result2 = prime_assurance(model2, 19, \"female\", 27.9, 0, \"Oui\", \"southwest\")\n",
    "\n",
    "target = 16884.92400\n",
    "\n",
    "print(f\"Modèle : {model['model'].__class__.__name__}, Prédiction : {round(result, 2)}, Cible : {target}\", score(target, result))\n",
    "print(f\"Modèle : {model2['model'].__class__.__name__}, Prédiction : {round(result2, 2)}, Cible : {target}\", score(target, result2))"
   ]
  },
  {
   "cell_type": "code",
   "execution_count": 6,
   "metadata": {},
   "outputs": [
    {
     "name": "stdout",
     "output_type": "stream",
     "text": [
      "Modèle : Lasso, Prédiction : 3861.17, Cible : 1725.55 Score : 44.69%\n",
      "Modèle : StackingRegressor, Prédiction : 3804.46, Cible : 1725.55 Score : 45.36%\n"
     ]
    }
   ],
   "source": [
    "result = prime_assurance(model, 18, \"male\", 33.77, 1, \"Non\", \"southeast\")\n",
    "result2 = prime_assurance(model2, 18, \"male\", 33.77, 1, \"Non\", \"southeast\")\n",
    "\n",
    "target = 1725.55\n",
    "\n",
    "print(f\"Modèle : {model['model'].__class__.__name__}, Prédiction : {round(result, 2)}, Cible : {target}\", score(target, result))\n",
    "print(f\"Modèle : {model2['model'].__class__.__name__}, Prédiction : {round(result2, 2)}, Cible : {target}\", score(target, result2))"
   ]
  },
  {
   "cell_type": "code",
   "execution_count": 7,
   "metadata": {},
   "outputs": [
    {
     "name": "stdout",
     "output_type": "stream",
     "text": [
      "Modèle : Lasso, Prédiction : 6648.25, Cible : 4449.46 Score : 66.93%\n",
      "Modèle : StackingRegressor, Prédiction : 6700.1, Cible : 4449.46 Score : 66.41%\n"
     ]
    }
   ],
   "source": [
    "result = prime_assurance(model, 28, \"male\", 33, 3, \"Non\", \"southeast\")\n",
    "result2 = prime_assurance(model2, 28, \"male\", 33, 3, \"Non\", \"southeast\")\n",
    "\n",
    "target = 4449.46\n",
    "\n",
    "print(f\"Modèle : {model['model'].__class__.__name__}, Prédiction : {round(result, 2)}, Cible : {target}\", score(target, result))\n",
    "print(f\"Modèle : {model2['model'].__class__.__name__}, Prédiction : {round(result2, 2)}, Cible : {target}\", score(target, result2))"
   ]
  },
  {
   "cell_type": "code",
   "execution_count": 8,
   "metadata": {},
   "outputs": [
    {
     "name": "stdout",
     "output_type": "stream",
     "text": [
      "Modèle : Lasso, Prédiction : 37514.57, Cible : 37165.16 Score : 99.07%\n",
      "Modèle : StackingRegressor, Prédiction : 37214.55, Cible : 37165.16 Score : 99.87%\n"
     ]
    }
   ],
   "source": [
    "result = prime_assurance(model, 22,\"male\",37.6,1,\"Oui\",\"southeast\")\n",
    "result2 = prime_assurance(model2, 22,\"male\",37.6,1,\"Oui\",\"southeast\")\n",
    "\n",
    "target = 37165.16\n",
    "\n",
    "print(f\"Modèle : {model['model'].__class__.__name__}, Prédiction : {round(result, 2)}, Cible : {target}\", score(target, result))\n",
    "print(f\"Modèle : {model2['model'].__class__.__name__}, Prédiction : {round(result2, 2)}, Cible : {target}\", score(target, result2))"
   ]
  },
  {
   "cell_type": "code",
   "execution_count": 9,
   "metadata": {},
   "outputs": [
    {
     "name": "stdout",
     "output_type": "stream",
     "text": [
      "Modèle : Lasso, Prédiction : 14425.94, Cible : 13880.95 Score : 96.22%\n",
      "Modèle : StackingRegressor, Prédiction : 14511.5, Cible : 13880.95 Score : 95.65%\n"
     ]
    }
   ],
   "source": [
    "result = prime_assurance(model, 63, \"female\", 31.8, 0, \"Non\", \"southwest\")\n",
    "result2 = prime_assurance(model2, 63, \"female\", 31.8, 0, \"Non\", \"southwest\")\n",
    "\n",
    "target = 13880.95\n",
    "\n",
    "print(f\"Modèle : {model['model'].__class__.__name__}, Prédiction : {round(result, 2)}, Cible : {target}\", score(target, result))\n",
    "print(f\"Modèle : {model2['model'].__class__.__name__}, Prédiction : {round(result2, 2)}, Cible : {target}\", score(target, result2))"
   ]
  },
  {
   "cell_type": "code",
   "execution_count": null,
   "metadata": {},
   "outputs": [],
   "source": []
  },
  {
   "cell_type": "code",
   "execution_count": 10,
   "metadata": {},
   "outputs": [
    {
     "data": {
      "text/plain": [
       "49501.14151680071"
      ]
     },
     "execution_count": 10,
     "metadata": {},
     "output_type": "execute_result"
    }
   ],
   "source": [
    "prime_assurance(model, 58, \"male\", 43, 0, \"Oui\", \"southeast\")"
   ]
  }
 ],
 "metadata": {
  "kernelspec": {
   "display_name": "Python 3",
   "language": "python",
   "name": "python3"
  },
  "language_info": {
   "codemirror_mode": {
    "name": "ipython",
    "version": 3
   },
   "file_extension": ".py",
   "mimetype": "text/x-python",
   "name": "python",
   "nbconvert_exporter": "python",
   "pygments_lexer": "ipython3",
   "version": "3.10.6"
  },
  "orig_nbformat": 4,
  "vscode": {
   "interpreter": {
    "hash": "916dbcbb3f70747c44a77c7bcd40155683ae19c65e1c03b4aa3499c5328201f1"
   }
  }
 },
 "nbformat": 4,
 "nbformat_minor": 2
}
