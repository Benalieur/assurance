{
 "cells": [
  {
   "attachments": {},
   "cell_type": "markdown",
   "metadata": {},
   "source": [
    "## Imports"
   ]
  },
  {
   "cell_type": "code",
   "execution_count": 19,
   "metadata": {},
   "outputs": [],
   "source": [
    "from joblib import load\n",
    "import numpy as np\n",
    "import pandas as pd\n",
    "import datetime as dt\n",
    "import math"
   ]
  },
  {
   "cell_type": "code",
   "execution_count": 20,
   "metadata": {},
   "outputs": [],
   "source": [
    "df = pd.read_csv('../csv/donnees_clean.csv')\n",
    "\n",
    "X = df.drop('charges', axis=1)\n",
    "y= df['charges']"
   ]
  },
  {
   "cell_type": "code",
   "execution_count": 21,
   "metadata": {},
   "outputs": [],
   "source": [
    "models = []\n",
    "\n",
    "# models.append(load('../models/Ridge.pkl'))\n",
    "# models.append(load('../models/Ridge_residus.pkl'))\n",
    "models.append(load('../models/Pipeline.pkl'))\n",
    "\n",
    "# models.append(load('../thomas/model/model.pkl'))"
   ]
  },
  {
   "attachments": {},
   "cell_type": "markdown",
   "metadata": {},
   "source": [
    "## Fonction de prédiction du modèle"
   ]
  },
  {
   "cell_type": "code",
   "execution_count": 22,
   "metadata": {},
   "outputs": [],
   "source": [
    "def calcul_bmi(bmi):\n",
    "    if bmi < 18.5:\n",
    "        bmi = \"maigreur\"\n",
    "    elif bmi < 25:\n",
    "        bmi = \"normal\"\n",
    "    elif bmi < 30:\n",
    "        bmi = \"surpoids\"\n",
    "    elif bmi < 35:\n",
    "        bmi = \"obesite_moderee\"\n",
    "    elif bmi < 40:\n",
    "        bmi = \"obesite_severe\"\n",
    "    else:\n",
    "        bmi = \"obesite_morbide\"\n",
    "\n",
    "    return bmi"
   ]
  },
  {
   "cell_type": "code",
   "execution_count": 23,
   "metadata": {},
   "outputs": [],
   "source": [
    "def prime_assurance(models, age, sex, bmi, children, smoker, region) :\n",
    "    bmi = calcul_bmi(bmi)\n",
    "        \n",
    "    x = np.array([age, sex, bmi, children, smoker, region])\n",
    "\n",
    "    columns=['age', 'sex', 'bmi', 'children', 'smoker', 'region']\n",
    "\n",
    "    df = pd.DataFrame(x.reshape(-1, len(columns)), columns=columns)\n",
    "\n",
    "    predict = 0\n",
    "\n",
    "    for model in models:\n",
    "        predict += model.predict(df)[0]\n",
    "        print(model.predict(df)[0])\n",
    "\n",
    "    return predict / len(models)"
   ]
  },
  {
   "cell_type": "code",
   "execution_count": 24,
   "metadata": {},
   "outputs": [],
   "source": [
    "def score (a, b):\n",
    "    score = a / b\n",
    "    score = score * 100\n",
    "    score = round(score, 2)\n",
    "\n",
    "    if score > 100:\n",
    "        score = 100 -(score -100)\n",
    "    \n",
    "    if score < 0:\n",
    "        score=0\n",
    "\n",
    "    return score"
   ]
  },
  {
   "attachments": {},
   "cell_type": "markdown",
   "metadata": {},
   "source": [
    "## Tests de prédictions du modèle"
   ]
  },
  {
   "cell_type": "code",
   "execution_count": 25,
   "metadata": {},
   "outputs": [],
   "source": [
    "results = []\n",
    "targets = []\n",
    "scores = []"
   ]
  },
  {
   "cell_type": "code",
   "execution_count": 26,
   "metadata": {},
   "outputs": [
    {
     "name": "stdout",
     "output_type": "stream",
     "text": [
      "17272.64354833921\n",
      "Moyenne des prédictions : 17272.64, Cible : 16884.924, Score : 97.76%\n"
     ]
    }
   ],
   "source": [
    "result = prime_assurance(models, 19, \"female\", 27.9, 0, \"Oui\", \"southwest\")\n",
    "\n",
    "target = 16884.92400\n",
    "\n",
    "results.append(result)\n",
    "targets.append(target)\n",
    "\n",
    "scores.append(score(target, result))\n",
    "\n",
    "print(f\"Moyenne des prédictions : {round(result, 2)}, Cible : {target}, Score : {score(target, result)}%\")"
   ]
  },
  {
   "cell_type": "code",
   "execution_count": 27,
   "metadata": {},
   "outputs": [
    {
     "name": "stdout",
     "output_type": "stream",
     "text": [
      "38325.55461090382\n",
      "Moyenne des prédictions : 38325.55, Cible : 37165.16, Score : 96.97%\n"
     ]
    }
   ],
   "source": [
    "result = prime_assurance(models, 22,\"male\",37.6,1,\"Oui\",\"southeast\")\n",
    "\n",
    "target = 37165.16\n",
    "\n",
    "results.append(result)\n",
    "targets.append(target)\n",
    "\n",
    "scores.append(score(target, result))\n",
    "\n",
    "print(f\"Moyenne des prédictions : {round(result, 2)}, Cible : {target}, Score : {score(target, result)}%\")"
   ]
  },
  {
   "cell_type": "code",
   "execution_count": 28,
   "metadata": {},
   "outputs": [
    {
     "name": "stdout",
     "output_type": "stream",
     "text": [
      "2662.007807138587\n",
      "Moyenne des prédictions : 2662.01, Cible : 1725.55, Score : 64.82%\n"
     ]
    }
   ],
   "source": [
    "result = prime_assurance(models, 18, \"male\", 33.77, 1, \"Non\", \"southeast\")\n",
    "\n",
    "target = 1725.55\n",
    "\n",
    "results.append(result)\n",
    "targets.append(target)\n",
    "\n",
    "scores.append(score(target, result))\n",
    "\n",
    "print(f\"Moyenne des prédictions : {round(result, 2)}, Cible : {target}, Score : {score(target, result)}%\")"
   ]
  },
  {
   "cell_type": "code",
   "execution_count": 29,
   "metadata": {},
   "outputs": [
    {
     "name": "stdout",
     "output_type": "stream",
     "text": [
      "5772.162124312204\n",
      "Moyenne des prédictions : 5772.16, Cible : 4449.46, Score : 77.08%\n"
     ]
    }
   ],
   "source": [
    "result = prime_assurance(models, 28, \"male\", 33, 3, \"Non\", \"southeast\")\n",
    "\n",
    "target = 4449.46\n",
    "\n",
    "results.append(result)\n",
    "targets.append(target)\n",
    "\n",
    "scores.append(score(target, result))\n",
    "\n",
    "print(f\"Moyenne des prédictions : {round(result, 2)}, Cible : {target}, Score : {score(target, result)}%\")"
   ]
  },
  {
   "cell_type": "code",
   "execution_count": 30,
   "metadata": {},
   "outputs": [
    {
     "name": "stdout",
     "output_type": "stream",
     "text": [
      "15607.991486251445\n",
      "Moyenne des prédictions : 15607.99, Cible : 13880.95, Score : 88.93%\n"
     ]
    }
   ],
   "source": [
    "result = prime_assurance(models, 63, \"female\", 31.8, 0, \"Non\", \"southwest\")\n",
    "\n",
    "target = 13880.95\n",
    "\n",
    "results.append(result)\n",
    "targets.append(target)\n",
    "\n",
    "scores.append(score(target, result))\n",
    "\n",
    "print(f\"Moyenne des prédictions : {round(result, 2)}, Cible : {target}, Score : {score(target, result)}%\")"
   ]
  },
  {
   "cell_type": "code",
   "execution_count": 31,
   "metadata": {},
   "outputs": [
    {
     "name": "stdout",
     "output_type": "stream",
     "text": [
      "34582.63857231601\n",
      "Moyenne des prédictions : 34582.64, Cible : 33307.55, Score : 96.31%\n"
     ]
    }
   ],
   "source": [
    "result = prime_assurance(models, 19, \"female\", 30.0, 0, \"Oui\", \"northwest\")\n",
    "\n",
    "target = 33307.55\n",
    "\n",
    "results.append(result)\n",
    "targets.append(target)\n",
    "\n",
    "scores.append(score(target, result))\n",
    "\n",
    "print(f\"Moyenne des prédictions : {round(result, 2)}, Cible : {target}, Score : {score(target, result)}%\")"
   ]
  },
  {
   "cell_type": "code",
   "execution_count": 32,
   "metadata": {},
   "outputs": [
    {
     "name": "stdout",
     "output_type": "stream",
     "text": [
      "28293.370662934372\n",
      "Moyenne des prédictions : 28293.37, Cible : 29141.36, Score : 97.0%\n"
     ]
    }
   ],
   "source": [
    "result = prime_assurance(models, 61, \"female\", 29.1, 0, \"Oui\", \"northwest\")\n",
    "\n",
    "target = 29141.36\n",
    "\n",
    "results.append(result)\n",
    "targets.append(target)\n",
    "\n",
    "scores.append(score(target, result))\n",
    "\n",
    "print(f\"Moyenne des prédictions : {round(result, 2)}, Cible : {target}, Score : {score(target, result)}%\")"
   ]
  },
  {
   "attachments": {},
   "cell_type": "markdown",
   "metadata": {},
   "source": [
    "## Tests de prédictions du modèle sur les valeurs résiduelles"
   ]
  },
  {
   "cell_type": "code",
   "execution_count": 33,
   "metadata": {},
   "outputs": [
    {
     "name": "stdout",
     "output_type": "stream",
     "text": [
      "4285.359958563202\n",
      "Moyenne des prédictions : 4285.36, Cible : 21984.47, Score : 0%\n"
     ]
    }
   ],
   "source": [
    "result = prime_assurance(models, 33, \"male\", 22.7, 0, \"Non\", \"northwest\")\n",
    "\n",
    "target = 21984.47\n",
    "\n",
    "results.append(result)\n",
    "targets.append(target)\n",
    "\n",
    "scores.append(score(target, result))\n",
    "\n",
    "print(f\"Moyenne des prédictions : {round(result, 2)}, Cible : {target}, Score : {score(target, result)}%\")"
   ]
  },
  {
   "cell_type": "code",
   "execution_count": 34,
   "metadata": {},
   "outputs": [
    {
     "name": "stdout",
     "output_type": "stream",
     "text": [
      "13555.277261707271\n",
      "Moyenne des prédictions : 13555.28, Cible : 28923.14, Score : 0%\n"
     ]
    }
   ],
   "source": [
    "result = prime_assurance(models, 60, \"female\", 25.8, 0, \"Non\", \"northwest\")\n",
    "\n",
    "target = 28923.14\n",
    "\n",
    "results.append(result)\n",
    "targets.append(target)\n",
    "\n",
    "scores.append(score(target, result))\n",
    "\n",
    "print(f\"Moyenne des prédictions : {round(result, 2)}, Cible : {target}, Score : {score(target, result)}%\")"
   ]
  },
  {
   "cell_type": "code",
   "execution_count": 35,
   "metadata": {},
   "outputs": [
    {
     "name": "stdout",
     "output_type": "stream",
     "text": [
      "39182.04756941592\n",
      "Moyenne des prédictions : 39182.05, Cible : 51194.56, Score : 69.34%\n"
     ]
    }
   ],
   "source": [
    "result = prime_assurance(models, 28, \"male\", 36.4, 1, \"Oui\", \"northwest\")\n",
    "\n",
    "target = 51194.56\n",
    "\n",
    "results.append(result)\n",
    "targets.append(target)\n",
    "\n",
    "scores.append(score(target, result))\n",
    "\n",
    "print(f\"Moyenne des prédictions : {round(result, 2)}, Cible : {target}, Score : {score(target, result)}%\")"
   ]
  },
  {
   "attachments": {},
   "cell_type": "markdown",
   "metadata": {},
   "source": [
    "## Moyenne des tests"
   ]
  },
  {
   "cell_type": "code",
   "execution_count": 36,
   "metadata": {},
   "outputs": [
    {
     "data": {
      "text/plain": [
       "'Moyenne prédictions : 68.4%'"
      ]
     },
     "execution_count": 36,
     "metadata": {},
     "output_type": "execute_result"
    }
   ],
   "source": [
    "le_score = 0\n",
    "for score in scores:\n",
    "    le_score += int(score)\n",
    "\n",
    "le_score = le_score / len(scores)\n",
    "le_score = f\"Moyenne prédictions : {round(le_score, 2)}%\"\n",
    "\n",
    "le_score"
   ]
  }
 ],
 "metadata": {
  "kernelspec": {
   "display_name": "Python 3",
   "language": "python",
   "name": "python3"
  },
  "language_info": {
   "codemirror_mode": {
    "name": "ipython",
    "version": 3
   },
   "file_extension": ".py",
   "mimetype": "text/x-python",
   "name": "python",
   "nbconvert_exporter": "python",
   "pygments_lexer": "ipython3",
   "version": "3.10.6 (main, Nov 14 2022, 16:10:14) [GCC 11.3.0]"
  },
  "orig_nbformat": 4,
  "vscode": {
   "interpreter": {
    "hash": "916dbcbb3f70747c44a77c7bcd40155683ae19c65e1c03b4aa3499c5328201f1"
   }
  }
 },
 "nbformat": 4,
 "nbformat_minor": 2
}
