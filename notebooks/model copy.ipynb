{
 "cells": [
  {
   "attachments": {},
   "cell_type": "markdown",
   "metadata": {},
   "source": [
    "# Machine Learning"
   ]
  },
  {
   "attachments": {},
   "cell_type": "markdown",
   "metadata": {},
   "source": [
    "## Imports"
   ]
  },
  {
   "cell_type": "code",
   "execution_count": 76,
   "metadata": {},
   "outputs": [],
   "source": [
    "import numpy as np\n",
    "import pandas as pd\n",
    "import matplotlib.pyplot as plt\n",
    "\n",
    "from sklearn.dummy import DummyRegressor\n",
    "from sklearn.model_selection import train_test_split, cross_val_score, GridSearchCV, RandomizedSearchCV, learning_curve\n",
    "from sklearn.linear_model import LinearRegression, Lasso, Ridge, ElasticNet, LassoCV, RidgeCV, ElasticNetCV, LassoLars, OrthogonalMatchingPursuit, BayesianRidge, ARDRegression, PassiveAggressiveRegressor, RANSACRegressor, TheilSenRegressor, HuberRegressor\n",
    "from sklearn.pipeline import make_pipeline, Pipeline\n",
    "from sklearn.compose import make_column_transformer, ColumnTransformer\n",
    "from sklearn.metrics import mean_squared_error, r2_score, mean_absolute_error\n",
    "from sklearn.feature_selection import SelectKBest, chi2, f_classif, SelectFromModel\n",
    "from sklearn.preprocessing import LabelEncoder, LabelBinarizer, OneHotEncoder, StandardScaler, RobustScaler, PolynomialFeatures\n",
    "from sklearn.tree import DecisionTreeRegressor, ExtraTreeRegressor\n",
    "from sklearn.neural_network import MLPRegressor\n",
    "from sklearn.ensemble import RandomForestRegressor, ExtraTreesRegressor, GradientBoostingRegressor, AdaBoostRegressor, GradientBoostingRegressor, BaggingRegressor, StackingRegressor\n",
    "from sklearn import tree\n",
    "\n",
    "from joblib import dump\n",
    "\n",
    "import math"
   ]
  },
  {
   "attachments": {},
   "cell_type": "markdown",
   "metadata": {},
   "source": [
    "## Découpage du dataset"
   ]
  },
  {
   "cell_type": "code",
   "execution_count": 77,
   "metadata": {},
   "outputs": [],
   "source": [
    "df = pd.read_csv('../csv/donnees_clean.csv')"
   ]
  },
  {
   "cell_type": "code",
   "execution_count": 78,
   "metadata": {},
   "outputs": [],
   "source": [
    "X = df.drop('charges', axis=1)\n",
    "y = df['charges']"
   ]
  },
  {
   "cell_type": "code",
   "execution_count": 79,
   "metadata": {},
   "outputs": [
    {
     "data": {
      "text/html": [
       "<div>\n",
       "<style scoped>\n",
       "    .dataframe tbody tr th:only-of-type {\n",
       "        vertical-align: middle;\n",
       "    }\n",
       "\n",
       "    .dataframe tbody tr th {\n",
       "        vertical-align: top;\n",
       "    }\n",
       "\n",
       "    .dataframe thead th {\n",
       "        text-align: right;\n",
       "    }\n",
       "</style>\n",
       "<table border=\"1\" class=\"dataframe\">\n",
       "  <thead>\n",
       "    <tr style=\"text-align: right;\">\n",
       "      <th></th>\n",
       "      <th>age</th>\n",
       "      <th>sex</th>\n",
       "      <th>bmi</th>\n",
       "      <th>children</th>\n",
       "      <th>smoker</th>\n",
       "      <th>region</th>\n",
       "      <th>charges</th>\n",
       "    </tr>\n",
       "  </thead>\n",
       "  <tbody>\n",
       "    <tr>\n",
       "      <th>0</th>\n",
       "      <td>19</td>\n",
       "      <td>female</td>\n",
       "      <td>27.9</td>\n",
       "      <td>0</td>\n",
       "      <td>Oui</td>\n",
       "      <td>southwest</td>\n",
       "      <td>16884.92</td>\n",
       "    </tr>\n",
       "    <tr>\n",
       "      <th>1</th>\n",
       "      <td>18</td>\n",
       "      <td>male</td>\n",
       "      <td>33.8</td>\n",
       "      <td>1</td>\n",
       "      <td>Non</td>\n",
       "      <td>southeast</td>\n",
       "      <td>1725.55</td>\n",
       "    </tr>\n",
       "    <tr>\n",
       "      <th>2</th>\n",
       "      <td>28</td>\n",
       "      <td>male</td>\n",
       "      <td>33.0</td>\n",
       "      <td>3</td>\n",
       "      <td>Non</td>\n",
       "      <td>southeast</td>\n",
       "      <td>4449.46</td>\n",
       "    </tr>\n",
       "    <tr>\n",
       "      <th>3</th>\n",
       "      <td>33</td>\n",
       "      <td>male</td>\n",
       "      <td>22.7</td>\n",
       "      <td>0</td>\n",
       "      <td>Non</td>\n",
       "      <td>northwest</td>\n",
       "      <td>21984.47</td>\n",
       "    </tr>\n",
       "    <tr>\n",
       "      <th>4</th>\n",
       "      <td>32</td>\n",
       "      <td>male</td>\n",
       "      <td>28.9</td>\n",
       "      <td>0</td>\n",
       "      <td>Non</td>\n",
       "      <td>northwest</td>\n",
       "      <td>3866.86</td>\n",
       "    </tr>\n",
       "    <tr>\n",
       "      <th>...</th>\n",
       "      <td>...</td>\n",
       "      <td>...</td>\n",
       "      <td>...</td>\n",
       "      <td>...</td>\n",
       "      <td>...</td>\n",
       "      <td>...</td>\n",
       "      <td>...</td>\n",
       "    </tr>\n",
       "    <tr>\n",
       "      <th>1332</th>\n",
       "      <td>50</td>\n",
       "      <td>male</td>\n",
       "      <td>31.0</td>\n",
       "      <td>3</td>\n",
       "      <td>Non</td>\n",
       "      <td>northwest</td>\n",
       "      <td>10600.55</td>\n",
       "    </tr>\n",
       "    <tr>\n",
       "      <th>1333</th>\n",
       "      <td>18</td>\n",
       "      <td>female</td>\n",
       "      <td>31.9</td>\n",
       "      <td>0</td>\n",
       "      <td>Non</td>\n",
       "      <td>northeast</td>\n",
       "      <td>2205.98</td>\n",
       "    </tr>\n",
       "    <tr>\n",
       "      <th>1334</th>\n",
       "      <td>18</td>\n",
       "      <td>female</td>\n",
       "      <td>36.9</td>\n",
       "      <td>0</td>\n",
       "      <td>Non</td>\n",
       "      <td>southeast</td>\n",
       "      <td>1629.83</td>\n",
       "    </tr>\n",
       "    <tr>\n",
       "      <th>1335</th>\n",
       "      <td>21</td>\n",
       "      <td>female</td>\n",
       "      <td>25.8</td>\n",
       "      <td>0</td>\n",
       "      <td>Non</td>\n",
       "      <td>southwest</td>\n",
       "      <td>2007.94</td>\n",
       "    </tr>\n",
       "    <tr>\n",
       "      <th>1336</th>\n",
       "      <td>61</td>\n",
       "      <td>female</td>\n",
       "      <td>29.1</td>\n",
       "      <td>0</td>\n",
       "      <td>Oui</td>\n",
       "      <td>northwest</td>\n",
       "      <td>29141.36</td>\n",
       "    </tr>\n",
       "  </tbody>\n",
       "</table>\n",
       "<p>1337 rows × 7 columns</p>\n",
       "</div>"
      ],
      "text/plain": [
       "      age     sex   bmi  children smoker     region   charges\n",
       "0      19  female  27.9         0    Oui  southwest  16884.92\n",
       "1      18    male  33.8         1    Non  southeast   1725.55\n",
       "2      28    male  33.0         3    Non  southeast   4449.46\n",
       "3      33    male  22.7         0    Non  northwest  21984.47\n",
       "4      32    male  28.9         0    Non  northwest   3866.86\n",
       "...   ...     ...   ...       ...    ...        ...       ...\n",
       "1332   50    male  31.0         3    Non  northwest  10600.55\n",
       "1333   18  female  31.9         0    Non  northeast   2205.98\n",
       "1334   18  female  36.9         0    Non  southeast   1629.83\n",
       "1335   21  female  25.8         0    Non  southwest   2007.94\n",
       "1336   61  female  29.1         0    Oui  northwest  29141.36\n",
       "\n",
       "[1337 rows x 7 columns]"
      ]
     },
     "execution_count": 79,
     "metadata": {},
     "output_type": "execute_result"
    }
   ],
   "source": [
    "df"
   ]
  },
  {
   "attachments": {},
   "cell_type": "markdown",
   "metadata": {},
   "source": [
    "## Nettoyage des données"
   ]
  },
  {
   "cell_type": "code",
   "execution_count": 80,
   "metadata": {},
   "outputs": [],
   "source": [
    "def bmi(bmi):\n",
    "    if bmi < 18.5:\n",
    "        return \"maigreur\"\n",
    "    elif bmi < 25:\n",
    "        return \"normal\"\n",
    "    elif bmi < 30:\n",
    "        return \"surpoids\"\n",
    "    elif bmi < 35:\n",
    "        return \"obesite_moderee\"\n",
    "    elif bmi < 40:\n",
    "        return \"obesite_severe\"\n",
    "    else:\n",
    "        return \"obesite_morbide\""
   ]
  },
  {
   "cell_type": "code",
   "execution_count": 81,
   "metadata": {},
   "outputs": [],
   "source": [
    "# for i in df.index:\n",
    "#     if df['smoker'][i] == 'Non':\n",
    "#         df['bmi'][i] = df['bmi'][i] / 0.293656"
   ]
  },
  {
   "cell_type": "code",
   "execution_count": 82,
   "metadata": {},
   "outputs": [
    {
     "data": {
      "text/html": [
       "<div>\n",
       "<style scoped>\n",
       "    .dataframe tbody tr th:only-of-type {\n",
       "        vertical-align: middle;\n",
       "    }\n",
       "\n",
       "    .dataframe tbody tr th {\n",
       "        vertical-align: top;\n",
       "    }\n",
       "\n",
       "    .dataframe thead th {\n",
       "        text-align: right;\n",
       "    }\n",
       "</style>\n",
       "<table border=\"1\" class=\"dataframe\">\n",
       "  <thead>\n",
       "    <tr style=\"text-align: right;\">\n",
       "      <th></th>\n",
       "      <th>age</th>\n",
       "      <th>sex</th>\n",
       "      <th>bmi</th>\n",
       "      <th>children</th>\n",
       "      <th>smoker</th>\n",
       "    </tr>\n",
       "  </thead>\n",
       "  <tbody>\n",
       "    <tr>\n",
       "      <th>0</th>\n",
       "      <td>19</td>\n",
       "      <td>female</td>\n",
       "      <td>surpoids</td>\n",
       "      <td>0</td>\n",
       "      <td>Oui</td>\n",
       "    </tr>\n",
       "    <tr>\n",
       "      <th>1</th>\n",
       "      <td>18</td>\n",
       "      <td>male</td>\n",
       "      <td>obesite_moderee</td>\n",
       "      <td>1</td>\n",
       "      <td>Non</td>\n",
       "    </tr>\n",
       "    <tr>\n",
       "      <th>2</th>\n",
       "      <td>28</td>\n",
       "      <td>male</td>\n",
       "      <td>obesite_moderee</td>\n",
       "      <td>3</td>\n",
       "      <td>Non</td>\n",
       "    </tr>\n",
       "    <tr>\n",
       "      <th>3</th>\n",
       "      <td>33</td>\n",
       "      <td>male</td>\n",
       "      <td>normal</td>\n",
       "      <td>0</td>\n",
       "      <td>Non</td>\n",
       "    </tr>\n",
       "    <tr>\n",
       "      <th>4</th>\n",
       "      <td>32</td>\n",
       "      <td>male</td>\n",
       "      <td>surpoids</td>\n",
       "      <td>0</td>\n",
       "      <td>Non</td>\n",
       "    </tr>\n",
       "    <tr>\n",
       "      <th>...</th>\n",
       "      <td>...</td>\n",
       "      <td>...</td>\n",
       "      <td>...</td>\n",
       "      <td>...</td>\n",
       "      <td>...</td>\n",
       "    </tr>\n",
       "    <tr>\n",
       "      <th>1332</th>\n",
       "      <td>50</td>\n",
       "      <td>male</td>\n",
       "      <td>obesite_moderee</td>\n",
       "      <td>3</td>\n",
       "      <td>Non</td>\n",
       "    </tr>\n",
       "    <tr>\n",
       "      <th>1333</th>\n",
       "      <td>18</td>\n",
       "      <td>female</td>\n",
       "      <td>obesite_moderee</td>\n",
       "      <td>0</td>\n",
       "      <td>Non</td>\n",
       "    </tr>\n",
       "    <tr>\n",
       "      <th>1334</th>\n",
       "      <td>18</td>\n",
       "      <td>female</td>\n",
       "      <td>obesite_severe</td>\n",
       "      <td>0</td>\n",
       "      <td>Non</td>\n",
       "    </tr>\n",
       "    <tr>\n",
       "      <th>1335</th>\n",
       "      <td>21</td>\n",
       "      <td>female</td>\n",
       "      <td>surpoids</td>\n",
       "      <td>0</td>\n",
       "      <td>Non</td>\n",
       "    </tr>\n",
       "    <tr>\n",
       "      <th>1336</th>\n",
       "      <td>61</td>\n",
       "      <td>female</td>\n",
       "      <td>surpoids</td>\n",
       "      <td>0</td>\n",
       "      <td>Oui</td>\n",
       "    </tr>\n",
       "  </tbody>\n",
       "</table>\n",
       "<p>1337 rows × 5 columns</p>\n",
       "</div>"
      ],
      "text/plain": [
       "      age     sex              bmi  children smoker\n",
       "0      19  female         surpoids         0    Oui\n",
       "1      18    male  obesite_moderee         1    Non\n",
       "2      28    male  obesite_moderee         3    Non\n",
       "3      33    male           normal         0    Non\n",
       "4      32    male         surpoids         0    Non\n",
       "...   ...     ...              ...       ...    ...\n",
       "1332   50    male  obesite_moderee         3    Non\n",
       "1333   18  female  obesite_moderee         0    Non\n",
       "1334   18  female   obesite_severe         0    Non\n",
       "1335   21  female         surpoids         0    Non\n",
       "1336   61  female         surpoids         0    Oui\n",
       "\n",
       "[1337 rows x 5 columns]"
      ]
     },
     "execution_count": 82,
     "metadata": {},
     "output_type": "execute_result"
    }
   ],
   "source": [
    "X['bmi'] = X['bmi'].apply(lambda x : bmi(x))\n",
    "del X['region']\n",
    "\n",
    "X"
   ]
  },
  {
   "attachments": {},
   "cell_type": "markdown",
   "metadata": {},
   "source": [
    "## Train_set & Test_set"
   ]
  },
  {
   "cell_type": "code",
   "execution_count": 83,
   "metadata": {},
   "outputs": [
    {
     "data": {
      "text/html": [
       "<div>\n",
       "<style scoped>\n",
       "    .dataframe tbody tr th:only-of-type {\n",
       "        vertical-align: middle;\n",
       "    }\n",
       "\n",
       "    .dataframe tbody tr th {\n",
       "        vertical-align: top;\n",
       "    }\n",
       "\n",
       "    .dataframe thead th {\n",
       "        text-align: right;\n",
       "    }\n",
       "</style>\n",
       "<table border=\"1\" class=\"dataframe\">\n",
       "  <thead>\n",
       "    <tr style=\"text-align: right;\">\n",
       "      <th></th>\n",
       "      <th>age</th>\n",
       "      <th>sex</th>\n",
       "      <th>bmi</th>\n",
       "      <th>children</th>\n",
       "      <th>smoker</th>\n",
       "    </tr>\n",
       "  </thead>\n",
       "  <tbody>\n",
       "    <tr>\n",
       "      <th>1302</th>\n",
       "      <td>43</td>\n",
       "      <td>male</td>\n",
       "      <td>surpoids</td>\n",
       "      <td>0</td>\n",
       "      <td>Oui</td>\n",
       "    </tr>\n",
       "    <tr>\n",
       "      <th>296</th>\n",
       "      <td>19</td>\n",
       "      <td>male</td>\n",
       "      <td>surpoids</td>\n",
       "      <td>0</td>\n",
       "      <td>Oui</td>\n",
       "    </tr>\n",
       "    <tr>\n",
       "      <th>573</th>\n",
       "      <td>62</td>\n",
       "      <td>female</td>\n",
       "      <td>obesite_severe</td>\n",
       "      <td>1</td>\n",
       "      <td>Non</td>\n",
       "    </tr>\n",
       "    <tr>\n",
       "      <th>1132</th>\n",
       "      <td>52</td>\n",
       "      <td>female</td>\n",
       "      <td>maigreur</td>\n",
       "      <td>0</td>\n",
       "      <td>Non</td>\n",
       "    </tr>\n",
       "    <tr>\n",
       "      <th>471</th>\n",
       "      <td>18</td>\n",
       "      <td>female</td>\n",
       "      <td>obesite_moderee</td>\n",
       "      <td>0</td>\n",
       "      <td>Non</td>\n",
       "    </tr>\n",
       "  </tbody>\n",
       "</table>\n",
       "</div>"
      ],
      "text/plain": [
       "      age     sex              bmi  children smoker\n",
       "1302   43    male         surpoids         0    Oui\n",
       "296    19    male         surpoids         0    Oui\n",
       "573    62  female   obesite_severe         1    Non\n",
       "1132   52  female         maigreur         0    Non\n",
       "471    18  female  obesite_moderee         0    Non"
      ]
     },
     "execution_count": 83,
     "metadata": {},
     "output_type": "execute_result"
    }
   ],
   "source": [
    "X_train, X_test, y_train, y_test = train_test_split(X, y, shuffle=True, train_size=0.95, random_state=42)\n",
    "X_train.head()"
   ]
  },
  {
   "attachments": {},
   "cell_type": "markdown",
   "metadata": {},
   "source": [
    "## Dummy Modèle"
   ]
  },
  {
   "cell_type": "code",
   "execution_count": 84,
   "metadata": {},
   "outputs": [],
   "source": [
    "dummy = DummyRegressor()"
   ]
  },
  {
   "cell_type": "code",
   "execution_count": 85,
   "metadata": {},
   "outputs": [
    {
     "data": {
      "text/plain": [
       "-0.004178723670794193"
      ]
     },
     "execution_count": 85,
     "metadata": {},
     "output_type": "execute_result"
    }
   ],
   "source": [
    "dummy.fit(X_train, y_train)\n",
    "dummy.score(X_test, y_test)"
   ]
  },
  {
   "attachments": {},
   "cell_type": "markdown",
   "metadata": {},
   "source": [
    "## Création des Modèles"
   ]
  },
  {
   "cell_type": "code",
   "execution_count": 86,
   "metadata": {},
   "outputs": [],
   "source": [
    "cat_var = ['smoker', 'sex', 'bmi']\n",
    "num_var = ['age', 'children']\n",
    "\n",
    "cat_transformer = OneHotEncoder(drop='if_binary')\n",
    "num_transformer = RobustScaler()\n",
    "\n",
    "encoder = ColumnTransformer(\n",
    "    transformers=[\n",
    "        ('cat', cat_transformer, cat_var),\n",
    "        ('num', num_transformer, num_var)\n",
    "    ], \n",
    "    remainder='passthrough'\n",
    ")"
   ]
  },
  {
   "cell_type": "code",
   "execution_count": 87,
   "metadata": {},
   "outputs": [
    {
     "data": {
      "text/plain": [
       "(1337, 10)"
      ]
     },
     "execution_count": 87,
     "metadata": {},
     "output_type": "execute_result"
    }
   ],
   "source": [
    "encoder.fit_transform(X).shape"
   ]
  },
  {
   "attachments": {},
   "cell_type": "markdown",
   "metadata": {},
   "source": [
    "### Résultats avec hyperparamètres sélectionnés"
   ]
  },
  {
   "cell_type": "code",
   "execution_count": 88,
   "metadata": {},
   "outputs": [
    {
     "name": "stdout",
     "output_type": "stream",
     "text": [
      "###### Modèle : DecisionTreeRegressor(), Meilleur score : 82.93%, Meilleurs paramètres : {'model__splitter': 'best', 'model__min_samples_split': 12, 'model__min_samples_leaf': 32, 'model__min_impurity_decrease': 0.7000000000000001, 'model__max_depth': 6, 'model__criterion': 'poisson'}\n"
     ]
    }
   ],
   "source": [
    "model = DecisionTreeRegressor()\n",
    "\n",
    "pipe = Pipeline([\n",
    "    ('enc', encoder),\n",
    "    ('model', model)\n",
    "])\n",
    "    \n",
    "string = str(model)\n",
    "\n",
    "param_grid = {\n",
    "    'model__criterion': [\"squared_error\", \"friedman_mse\", \"absolute_error\", \\\n",
    "            \"poisson\"],\n",
    "    'model__splitter': [\"best\", \"random\"],\n",
    "    'model__max_depth': np.arange(1, 50, 1),\n",
    "    'model__min_samples_split': np.arange(1, 50, 1),\n",
    "    'model__min_samples_leaf': np.arange(1, 50, 1),\n",
    "    'model__min_impurity_decrease': np.arange(0.1, 10, 0.1),\n",
    "}\n",
    "\n",
    "grid = RandomizedSearchCV(pipe, param_grid, cv=5)\n",
    "\n",
    "grid.fit(X_train, y_train)\n",
    "\n",
    "score = grid.best_score_\n",
    "score = round(score,4)\n",
    "\n",
    "params = grid.best_params_\n",
    "\n",
    "# score_rmse = math.sqrt(mean_squared_error(y_test, prediction))\n",
    "\n",
    "print(f\"###### Modèle : {model}, Meilleur score : {round(score *100, 2)}%, Meilleurs paramètres : {params}\")"
   ]
  },
  {
   "attachments": {},
   "cell_type": "markdown",
   "metadata": {},
   "source": [
    "Modèle : DecisionTreeRegressor(), Meilleur score : 67.94%, Meilleurs paramètres : {'model__splitter': 'best', 'model__min_weight_fraction_leaf': 0.14, 'model__min_samples_split': 25, 'model__min_samples_leaf': 4, 'model__min_impurity_decrease': 5.7, 'model__max_depth': 17, 'model__criterion': 'squared_error'}\n",
    "\n",
    "\n",
    "Modèle : DecisionTreeRegressor(), Meilleur score : 77.85%, Meilleurs paramètres : {'model__splitter': 'best', 'model__min_weight_fraction_leaf': 0.04, 'model__min_samples_split': 41, 'model__min_samples_leaf': 14, 'model__min_impurity_decrease': 5.6, 'model__max_depth': 7, 'model__criterion': 'poisson'}\n",
    "\n",
    "\n",
    "Modèle : DecisionTreeRegressor(), Meilleur score : 80.77%, Meilleurs paramètres : {'model__splitter': 'random', 'model__min_weight_fraction_leaf': 0.02, 'model__min_samples_split': 21, 'model__min_samples_leaf': 35, 'model__min_impurity_decrease': 1.1, 'model__max_depth': 42, 'model__criterion': 'absolute_error'}\n",
    "\n",
    "\n",
    "Modèle : DecisionTreeRegressor(), Meilleur score : 82.89%, Meilleurs paramètres : {'model__splitter': 'best', 'model__min_weight_fraction_leaf': 0.03, 'model__min_samples_split': 28, 'model__min_samples_leaf': 20, 'model__min_impurity_decrease': 4.0, 'model__max_depth': 14, 'model__criterion': 'poisson'}\n",
    "\n",
    "Modèle : DecisionTreeRegressor(), Meilleur score : 83.05%, Meilleurs paramètres : {'model__splitter': 'best', 'model__min_weight_fraction_leaf': 0.01, 'model__min_samples_split': 41, 'model__min_samples_leaf': 20, 'model__min_impurity_decrease': 4.1, 'model__max_depth': 23, 'model__criterion': 'absolute_error'}"
   ]
  },
  {
   "cell_type": "code",
   "execution_count": 89,
   "metadata": {},
   "outputs": [],
   "source": [
    "# model = DecisionTreeRegressor()\n",
    "\n",
    "# pipe = Pipeline([\n",
    "#     ('enc', encoder),\n",
    "#     ('model', model)\n",
    "# ])\n",
    "    \n",
    "# string = str(model)\n",
    "\n",
    "# param_grid = {\n",
    "#     'model__min_samples_split': np.arange(30, 40, 1),\n",
    "#     'model__max_depth': np.arange(10, 15, 1),\n",
    "#     'model__min_samples_leaf': np.arange(5, 10, 1),\n",
    "#     'model__min_impurity_decrease': np.arange(0, 8, 0.5),\n",
    "# }\n",
    "\n",
    "# grid = GridSearchCV(pipe, param_grid, verbose=3, cv=5)\n",
    "\n",
    "# grid.fit(X_train, y_train)\n",
    "\n",
    "# score = grid.best_score_\n",
    "# score = round(score,4)\n",
    "\n",
    "# params = grid.best_params_\n",
    "\n",
    "# # score_rmse = math.sqrt(mean_squared_error(y_test, prediction))\n",
    "\n",
    "# print(f\"###### Modèle : {model}, Meilleur score : {round(score *100, 2)}%, Meilleurs paramètres : {params}\")"
   ]
  },
  {
   "attachments": {},
   "cell_type": "markdown",
   "metadata": {},
   "source": [
    "Pour chaque hyper-paramètre du décision Tree, indiquez si en l’augmentant ou le baissant on joue: sur le biais, la variance et/ou le temps de calcul :\n",
    "\n",
    "    - Max_depth correspond à la profondeur de notre arbre. Plus il est élevé => le biais réduit, la variance augmente, les calculs augmentent.\n",
    "\n",
    "    - min_samples_split est le nombre minimum d'échantillons requis pour diviser un nœud interne. Plus il est élevé => le biais augmente, la variance réduit, les calculs augmentent.\n",
    "\n",
    "    - min_samples_leaf est le nombre minimum d'échantillons requis pour être à un nœud feuille. Plus il est élevé => le biais augmente, la variance réduit, les calculs augmentent.\n",
    "\n",
    "    - min_impurity_decrease représente la pureté d'une feuille. Plus il est élevé => le biais augmente, la variance réduit, les calculs augmentent.\n",
    "\n",
    "Pour la régression, faut-il standardiser y ?\n",
    "\n",
    "    - Standardiser y pour la régression ne changera rien, cela deviendra utile pour la classification afin d'éviter les minimums locaux lors de la descente de gradients.\n",
    "\n",
    "Qu’est ce qu’une Shap-Value ?\n",
    "\n",
    "    - La shap-value va permettre d'expliquer notre modèle. Ainsi en calculant l'importance de chacunes de nos variables dans notre modèle, on va pouvoir déterminer la shap-value de chacune de celles-ci. Nous pourrons donc pouvoir expliquer à n'importe qui comment nos prédictions sont contruites.\n",
    "\n",
    "Qu’est ce que le bagging? le boosting? et les modèles correspondant? Qu’est ce que le voting? le stacking?\n",
    "\n",
    "    - Il s'agit \"d'Ensemble Learning\", ils permettent d'entraîner plusieurs modèles forts afin de considérer l'ensemble de leurs prédictions. Il s'agit là de la loi des grands nombres (plusieurs avis valent mieux qu'un). Voyons différents types d'ensemble learning :\n",
    "        - Le bagging : Il créé plusieurs copies d'un meme modèle et l'entraîne sur une partie aléatoire du dataset => RandomForest. Modèles entrainés en parallèles (tous les modèles se trouvent en overfitting). Cela va permettre de réduire la variance.\n",
    "        - Le boosting : Entraîne des modèles faibles qui chacun pour objectif de corriger les erreurs du modèle précédent => AdaBoost, GradientBoosting. Modèles entrainés en séries (tous les modèles se trouvent en underfitting). Cela va permettre de réduire le biais.\n",
    "        - Le stacking : Va permettre d'entrainer un nouveau modèle au dessus de notre foule de modèle déjà entrainé. Grâce aux prédictions de tous nos modèles, le modèle choisi va apprendre à prédire le résultat final par lui-même.\n",
    "        - Le voting : Ce modèle va prendre en compte les décisions de tous les modèles qui lui sont attribués pour prendre sa décision en fonction de la majorité des \"votes\".\n",
    "\n",
    "\n"
   ]
  },
  {
   "cell_type": "code",
   "execution_count": 90,
   "metadata": {},
   "outputs": [
    {
     "name": "stdout",
     "output_type": "stream",
     "text": [
      "Nom du modèle : Pipeline, R2 score : 90.61%, MSE score : 19465783.74, MSE score : 2598.79\n"
     ]
    }
   ],
   "source": [
    "model = DecisionTreeRegressor(splitter='best', criterion=\"squared_error\", max_depth=13, min_samples_split=35, min_impurity_decrease=0, min_samples_leaf=5)\n",
    "\n",
    "pipe = Pipeline([\n",
    "    ('enc', encoder),\n",
    "    ('model', model),\n",
    "])\n",
    "\n",
    "model = pipe.fit(X_train, y_train)\n",
    "\n",
    "prediction = model.predict(X_test)\n",
    "score_r2 = r2_score(y_test, prediction)\n",
    "score_mse = mean_squared_error(y_test, prediction)\n",
    "score_mae = mean_absolute_error(y_test, prediction)\n",
    "\n",
    "print(f\"Nom du modèle : {model.__class__.__name__}, R2 score : {round(score_r2 *100, 2)}%, MSE score : {round(score_mse,2)}, MSE score : {round(score_mae,2)}\")"
   ]
  },
  {
   "cell_type": "code",
   "execution_count": 96,
   "metadata": {},
   "outputs": [
    {
     "data": {
      "text/html": [
       "<style>#sk-container-id-2 {color: black;background-color: white;}#sk-container-id-2 pre{padding: 0;}#sk-container-id-2 div.sk-toggleable {background-color: white;}#sk-container-id-2 label.sk-toggleable__label {cursor: pointer;display: block;width: 100%;margin-bottom: 0;padding: 0.3em;box-sizing: border-box;text-align: center;}#sk-container-id-2 label.sk-toggleable__label-arrow:before {content: \"▸\";float: left;margin-right: 0.25em;color: #696969;}#sk-container-id-2 label.sk-toggleable__label-arrow:hover:before {color: black;}#sk-container-id-2 div.sk-estimator:hover label.sk-toggleable__label-arrow:before {color: black;}#sk-container-id-2 div.sk-toggleable__content {max-height: 0;max-width: 0;overflow: hidden;text-align: left;background-color: #f0f8ff;}#sk-container-id-2 div.sk-toggleable__content pre {margin: 0.2em;color: black;border-radius: 0.25em;background-color: #f0f8ff;}#sk-container-id-2 input.sk-toggleable__control:checked~div.sk-toggleable__content {max-height: 200px;max-width: 100%;overflow: auto;}#sk-container-id-2 input.sk-toggleable__control:checked~label.sk-toggleable__label-arrow:before {content: \"▾\";}#sk-container-id-2 div.sk-estimator input.sk-toggleable__control:checked~label.sk-toggleable__label {background-color: #d4ebff;}#sk-container-id-2 div.sk-label input.sk-toggleable__control:checked~label.sk-toggleable__label {background-color: #d4ebff;}#sk-container-id-2 input.sk-hidden--visually {border: 0;clip: rect(1px 1px 1px 1px);clip: rect(1px, 1px, 1px, 1px);height: 1px;margin: -1px;overflow: hidden;padding: 0;position: absolute;width: 1px;}#sk-container-id-2 div.sk-estimator {font-family: monospace;background-color: #f0f8ff;border: 1px dotted black;border-radius: 0.25em;box-sizing: border-box;margin-bottom: 0.5em;}#sk-container-id-2 div.sk-estimator:hover {background-color: #d4ebff;}#sk-container-id-2 div.sk-parallel-item::after {content: \"\";width: 100%;border-bottom: 1px solid gray;flex-grow: 1;}#sk-container-id-2 div.sk-label:hover label.sk-toggleable__label {background-color: #d4ebff;}#sk-container-id-2 div.sk-serial::before {content: \"\";position: absolute;border-left: 1px solid gray;box-sizing: border-box;top: 0;bottom: 0;left: 50%;z-index: 0;}#sk-container-id-2 div.sk-serial {display: flex;flex-direction: column;align-items: center;background-color: white;padding-right: 0.2em;padding-left: 0.2em;position: relative;}#sk-container-id-2 div.sk-item {position: relative;z-index: 1;}#sk-container-id-2 div.sk-parallel {display: flex;align-items: stretch;justify-content: center;background-color: white;position: relative;}#sk-container-id-2 div.sk-item::before, #sk-container-id-2 div.sk-parallel-item::before {content: \"\";position: absolute;border-left: 1px solid gray;box-sizing: border-box;top: 0;bottom: 0;left: 50%;z-index: -1;}#sk-container-id-2 div.sk-parallel-item {display: flex;flex-direction: column;z-index: 1;position: relative;background-color: white;}#sk-container-id-2 div.sk-parallel-item:first-child::after {align-self: flex-end;width: 50%;}#sk-container-id-2 div.sk-parallel-item:last-child::after {align-self: flex-start;width: 50%;}#sk-container-id-2 div.sk-parallel-item:only-child::after {width: 0;}#sk-container-id-2 div.sk-dashed-wrapped {border: 1px dashed gray;margin: 0 0.4em 0.5em 0.4em;box-sizing: border-box;padding-bottom: 0.4em;background-color: white;}#sk-container-id-2 div.sk-label label {font-family: monospace;font-weight: bold;display: inline-block;line-height: 1.2em;}#sk-container-id-2 div.sk-label-container {text-align: center;}#sk-container-id-2 div.sk-container {/* jupyter's `normalize.less` sets `[hidden] { display: none; }` but bootstrap.min.css set `[hidden] { display: none !important; }` so we also need the `!important` here to be able to override the default hidden behavior on the sphinx rendered scikit-learn.org. See: https://github.com/scikit-learn/scikit-learn/issues/21755 */display: inline-block !important;position: relative;}#sk-container-id-2 div.sk-text-repr-fallback {display: none;}</style><div id=\"sk-container-id-2\" class=\"sk-top-container\"><div class=\"sk-text-repr-fallback\"><pre>Pipeline(steps=[(&#x27;enc&#x27;,\n",
       "                 ColumnTransformer(remainder=&#x27;passthrough&#x27;,\n",
       "                                   transformers=[(&#x27;cat&#x27;,\n",
       "                                                  OneHotEncoder(drop=&#x27;if_binary&#x27;),\n",
       "                                                  [&#x27;smoker&#x27;, &#x27;sex&#x27;, &#x27;bmi&#x27;]),\n",
       "                                                 (&#x27;num&#x27;, RobustScaler(),\n",
       "                                                  [&#x27;age&#x27;, &#x27;children&#x27;])])),\n",
       "                (&#x27;model&#x27;,\n",
       "                 DecisionTreeRegressor(max_depth=13, min_impurity_decrease=0,\n",
       "                                       min_samples_leaf=5,\n",
       "                                       min_samples_split=35))])</pre><b>In a Jupyter environment, please rerun this cell to show the HTML representation or trust the notebook. <br />On GitHub, the HTML representation is unable to render, please try loading this page with nbviewer.org.</b></div><div class=\"sk-container\" hidden><div class=\"sk-item sk-dashed-wrapped\"><div class=\"sk-label-container\"><div class=\"sk-label sk-toggleable\"><input class=\"sk-toggleable__control sk-hidden--visually\" id=\"sk-estimator-id-10\" type=\"checkbox\" ><label for=\"sk-estimator-id-10\" class=\"sk-toggleable__label sk-toggleable__label-arrow\">Pipeline</label><div class=\"sk-toggleable__content\"><pre>Pipeline(steps=[(&#x27;enc&#x27;,\n",
       "                 ColumnTransformer(remainder=&#x27;passthrough&#x27;,\n",
       "                                   transformers=[(&#x27;cat&#x27;,\n",
       "                                                  OneHotEncoder(drop=&#x27;if_binary&#x27;),\n",
       "                                                  [&#x27;smoker&#x27;, &#x27;sex&#x27;, &#x27;bmi&#x27;]),\n",
       "                                                 (&#x27;num&#x27;, RobustScaler(),\n",
       "                                                  [&#x27;age&#x27;, &#x27;children&#x27;])])),\n",
       "                (&#x27;model&#x27;,\n",
       "                 DecisionTreeRegressor(max_depth=13, min_impurity_decrease=0,\n",
       "                                       min_samples_leaf=5,\n",
       "                                       min_samples_split=35))])</pre></div></div></div><div class=\"sk-serial\"><div class=\"sk-item sk-dashed-wrapped\"><div class=\"sk-label-container\"><div class=\"sk-label sk-toggleable\"><input class=\"sk-toggleable__control sk-hidden--visually\" id=\"sk-estimator-id-11\" type=\"checkbox\" ><label for=\"sk-estimator-id-11\" class=\"sk-toggleable__label sk-toggleable__label-arrow\">enc: ColumnTransformer</label><div class=\"sk-toggleable__content\"><pre>ColumnTransformer(remainder=&#x27;passthrough&#x27;,\n",
       "                  transformers=[(&#x27;cat&#x27;, OneHotEncoder(drop=&#x27;if_binary&#x27;),\n",
       "                                 [&#x27;smoker&#x27;, &#x27;sex&#x27;, &#x27;bmi&#x27;]),\n",
       "                                (&#x27;num&#x27;, RobustScaler(), [&#x27;age&#x27;, &#x27;children&#x27;])])</pre></div></div></div><div class=\"sk-parallel\"><div class=\"sk-parallel-item\"><div class=\"sk-item\"><div class=\"sk-label-container\"><div class=\"sk-label sk-toggleable\"><input class=\"sk-toggleable__control sk-hidden--visually\" id=\"sk-estimator-id-12\" type=\"checkbox\" ><label for=\"sk-estimator-id-12\" class=\"sk-toggleable__label sk-toggleable__label-arrow\">cat</label><div class=\"sk-toggleable__content\"><pre>[&#x27;smoker&#x27;, &#x27;sex&#x27;, &#x27;bmi&#x27;]</pre></div></div></div><div class=\"sk-serial\"><div class=\"sk-item\"><div class=\"sk-estimator sk-toggleable\"><input class=\"sk-toggleable__control sk-hidden--visually\" id=\"sk-estimator-id-13\" type=\"checkbox\" ><label for=\"sk-estimator-id-13\" class=\"sk-toggleable__label sk-toggleable__label-arrow\">OneHotEncoder</label><div class=\"sk-toggleable__content\"><pre>OneHotEncoder(drop=&#x27;if_binary&#x27;)</pre></div></div></div></div></div></div><div class=\"sk-parallel-item\"><div class=\"sk-item\"><div class=\"sk-label-container\"><div class=\"sk-label sk-toggleable\"><input class=\"sk-toggleable__control sk-hidden--visually\" id=\"sk-estimator-id-14\" type=\"checkbox\" ><label for=\"sk-estimator-id-14\" class=\"sk-toggleable__label sk-toggleable__label-arrow\">num</label><div class=\"sk-toggleable__content\"><pre>[&#x27;age&#x27;, &#x27;children&#x27;]</pre></div></div></div><div class=\"sk-serial\"><div class=\"sk-item\"><div class=\"sk-estimator sk-toggleable\"><input class=\"sk-toggleable__control sk-hidden--visually\" id=\"sk-estimator-id-15\" type=\"checkbox\" ><label for=\"sk-estimator-id-15\" class=\"sk-toggleable__label sk-toggleable__label-arrow\">RobustScaler</label><div class=\"sk-toggleable__content\"><pre>RobustScaler()</pre></div></div></div></div></div></div><div class=\"sk-parallel-item\"><div class=\"sk-item\"><div class=\"sk-label-container\"><div class=\"sk-label sk-toggleable\"><input class=\"sk-toggleable__control sk-hidden--visually\" id=\"sk-estimator-id-16\" type=\"checkbox\" ><label for=\"sk-estimator-id-16\" class=\"sk-toggleable__label sk-toggleable__label-arrow\">remainder</label><div class=\"sk-toggleable__content\"><pre>[]</pre></div></div></div><div class=\"sk-serial\"><div class=\"sk-item\"><div class=\"sk-estimator sk-toggleable\"><input class=\"sk-toggleable__control sk-hidden--visually\" id=\"sk-estimator-id-17\" type=\"checkbox\" ><label for=\"sk-estimator-id-17\" class=\"sk-toggleable__label sk-toggleable__label-arrow\">passthrough</label><div class=\"sk-toggleable__content\"><pre>passthrough</pre></div></div></div></div></div></div></div></div><div class=\"sk-item\"><div class=\"sk-estimator sk-toggleable\"><input class=\"sk-toggleable__control sk-hidden--visually\" id=\"sk-estimator-id-18\" type=\"checkbox\" ><label for=\"sk-estimator-id-18\" class=\"sk-toggleable__label sk-toggleable__label-arrow\">DecisionTreeRegressor</label><div class=\"sk-toggleable__content\"><pre>DecisionTreeRegressor(max_depth=13, min_impurity_decrease=0, min_samples_leaf=5,\n",
       "                      min_samples_split=35)</pre></div></div></div></div></div></div></div>"
      ],
      "text/plain": [
       "Pipeline(steps=[('enc',\n",
       "                 ColumnTransformer(remainder='passthrough',\n",
       "                                   transformers=[('cat',\n",
       "                                                  OneHotEncoder(drop='if_binary'),\n",
       "                                                  ['smoker', 'sex', 'bmi']),\n",
       "                                                 ('num', RobustScaler(),\n",
       "                                                  ['age', 'children'])])),\n",
       "                ('model',\n",
       "                 DecisionTreeRegressor(max_depth=13, min_impurity_decrease=0,\n",
       "                                       min_samples_leaf=5,\n",
       "                                       min_samples_split=35))])"
      ]
     },
     "execution_count": 96,
     "metadata": {},
     "output_type": "execute_result"
    }
   ],
   "source": [
    "model"
   ]
  },
  {
   "cell_type": "code",
   "execution_count": 94,
   "metadata": {},
   "outputs": [
    {
     "data": {
      "text/plain": [
       "{'memory': None,\n",
       " 'steps': [('enc', ColumnTransformer(remainder='passthrough',\n",
       "                     transformers=[('cat', OneHotEncoder(drop='if_binary'),\n",
       "                                    ['smoker', 'sex', 'bmi']),\n",
       "                                   ('num', RobustScaler(), ['age', 'children'])])),\n",
       "  ('model',\n",
       "   DecisionTreeRegressor(max_depth=13, min_impurity_decrease=0, min_samples_leaf=5,\n",
       "                         min_samples_split=35))],\n",
       " 'verbose': False,\n",
       " 'enc': ColumnTransformer(remainder='passthrough',\n",
       "                   transformers=[('cat', OneHotEncoder(drop='if_binary'),\n",
       "                                  ['smoker', 'sex', 'bmi']),\n",
       "                                 ('num', RobustScaler(), ['age', 'children'])]),\n",
       " 'model': DecisionTreeRegressor(max_depth=13, min_impurity_decrease=0, min_samples_leaf=5,\n",
       "                       min_samples_split=35),\n",
       " 'enc__n_jobs': None,\n",
       " 'enc__remainder': 'passthrough',\n",
       " 'enc__sparse_threshold': 0.3,\n",
       " 'enc__transformer_weights': None,\n",
       " 'enc__transformers': [('cat',\n",
       "   OneHotEncoder(drop='if_binary'),\n",
       "   ['smoker', 'sex', 'bmi']),\n",
       "  ('num', RobustScaler(), ['age', 'children'])],\n",
       " 'enc__verbose': False,\n",
       " 'enc__verbose_feature_names_out': True,\n",
       " 'enc__cat': OneHotEncoder(drop='if_binary'),\n",
       " 'enc__num': RobustScaler(),\n",
       " 'enc__cat__categories': 'auto',\n",
       " 'enc__cat__drop': 'if_binary',\n",
       " 'enc__cat__dtype': numpy.float64,\n",
       " 'enc__cat__handle_unknown': 'error',\n",
       " 'enc__cat__max_categories': None,\n",
       " 'enc__cat__min_frequency': None,\n",
       " 'enc__cat__sparse': 'deprecated',\n",
       " 'enc__cat__sparse_output': True,\n",
       " 'enc__num__copy': True,\n",
       " 'enc__num__quantile_range': (25.0, 75.0),\n",
       " 'enc__num__unit_variance': False,\n",
       " 'enc__num__with_centering': True,\n",
       " 'enc__num__with_scaling': True,\n",
       " 'model__ccp_alpha': 0.0,\n",
       " 'model__criterion': 'squared_error',\n",
       " 'model__max_depth': 13,\n",
       " 'model__max_features': None,\n",
       " 'model__max_leaf_nodes': None,\n",
       " 'model__min_impurity_decrease': 0,\n",
       " 'model__min_samples_leaf': 5,\n",
       " 'model__min_samples_split': 35,\n",
       " 'model__min_weight_fraction_leaf': 0.0,\n",
       " 'model__random_state': None,\n",
       " 'model__splitter': 'best'}"
      ]
     },
     "execution_count": 94,
     "metadata": {},
     "output_type": "execute_result"
    }
   ],
   "source": [
    "model.get_params()"
   ]
  },
  {
   "cell_type": "code",
   "execution_count": 97,
   "metadata": {},
   "outputs": [
    {
     "ename": "AttributeError",
     "evalue": "'Pipeline' object has no attribute 'best_estimator_'",
     "output_type": "error",
     "traceback": [
      "\u001b[0;31m---------------------------------------------------------------------------\u001b[0m",
      "\u001b[0;31mAttributeError\u001b[0m                            Traceback (most recent call last)",
      "Cell \u001b[0;32mIn[97], line 1\u001b[0m\n\u001b[0;32m----> 1\u001b[0m model\u001b[39m.\u001b[39;49mbest_estimator_\u001b[39m.\u001b[39mnamed_steps[\u001b[39m'\u001b[39m\u001b[39mmodel\u001b[39m\u001b[39m'\u001b[39m]\n",
      "\u001b[0;31mAttributeError\u001b[0m: 'Pipeline' object has no attribute 'best_estimator_'"
     ]
    }
   ],
   "source": [
    "model.best_estimator_.named_steps['model']"
   ]
  },
  {
   "cell_type": "code",
   "execution_count": null,
   "metadata": {},
   "outputs": [
    {
     "data": {
      "text/plain": [
       "[Text(0.6821120689655172, 0.9545454545454546, 'x[0] <= 0.5\\nsquared_error = 146551117.865\\nsamples = 1337\\nvalue = 13279.122'),\n",
       " Text(0.430316091954023, 0.8636363636363636, 'x[8] <= 0.14\\nsquared_error = 35881947.08\\nsamples = 1063\\nvalue = 8440.66'),\n",
       " Text(0.25, 0.7727272727272727, 'x[9] <= -0.25\\nsquared_error = 22158635.105\\nsamples = 595\\nvalue = 5405.168'),\n",
       " Text(0.14367816091954022, 0.6818181818181818, 'x[8] <= -0.26\\nsquared_error = 16984715.424\\nsamples = 252\\nvalue = 3859.616'),\n",
       " Text(0.10344827586206896, 0.5909090909090909, 'x[8] <= -0.66\\nsquared_error = 15464536.125\\nsamples = 206\\nvalue = 3277.46'),\n",
       " Text(0.05747126436781609, 0.5, 'x[4] <= 0.5\\nsquared_error = 11625538.721\\nsamples = 120\\nvalue = 2593.582'),\n",
       " Text(0.034482758620689655, 0.4090909090909091, 'x[6] <= 0.5\\nsquared_error = 3643206.511\\nsamples = 84\\nvalue = 2162.0'),\n",
       " Text(0.022988505747126436, 0.3181818181818182, 'x[1] <= 0.5\\nsquared_error = 617876.75\\nsamples = 62\\nvalue = 1898.909'),\n",
       " Text(0.011494252873563218, 0.22727272727272727, 'squared_error = 1053108.592\\nsamples = 28\\nvalue = 2234.395'),\n",
       " Text(0.034482758620689655, 0.22727272727272727, 'squared_error = 90429.586\\nsamples = 34\\nvalue = 1622.626'),\n",
       " Text(0.04597701149425287, 0.3181818181818182, 'squared_error = 11424337.071\\nsamples = 22\\nvalue = 2903.44'),\n",
       " Text(0.08045977011494253, 0.4090909090909091, 'x[8] <= -0.78\\nsquared_error = 28802267.825\\nsamples = 36\\nvalue = 3600.607'),\n",
       " Text(0.06896551724137931, 0.3181818181818182, 'squared_error = 39348361.488\\nsamples = 21\\nvalue = 4051.465'),\n",
       " Text(0.09195402298850575, 0.3181818181818182, 'squared_error = 13354738.741\\nsamples = 15\\nvalue = 2969.405'),\n",
       " Text(0.14942528735632185, 0.5, 'x[1] <= 0.5\\nsquared_error = 19258099.58\\nsamples = 86\\nvalue = 4231.707'),\n",
       " Text(0.12643678160919541, 0.4090909090909091, 'x[8] <= -0.54\\nsquared_error = 20624318.452\\nsamples = 48\\nvalue = 4798.875'),\n",
       " Text(0.11494252873563218, 0.3181818181818182, 'squared_error = 44854219.054\\nsamples = 20\\nvalue = 6400.93'),\n",
       " Text(0.13793103448275862, 0.3181818181818182, 'squared_error = 174495.3\\nsamples = 28\\nvalue = 3654.55'),\n",
       " Text(0.1724137931034483, 0.4090909090909091, 'x[8] <= -0.46\\nsquared_error = 16612756.892\\nsamples = 38\\nvalue = 3515.285'),\n",
       " Text(0.16091954022988506, 0.3181818181818182, 'squared_error = 12899470.875\\nsamples = 28\\nvalue = 3018.697'),\n",
       " Text(0.1839080459770115, 0.3181818181818182, 'squared_error = 24386135.288\\nsamples = 10\\nvalue = 4905.732'),\n",
       " Text(0.1839080459770115, 0.5909090909090909, 'x[1] <= 0.5\\nsquared_error = 15478060.909\\nsamples = 46\\nvalue = 6466.665'),\n",
       " Text(0.1724137931034483, 0.5, 'squared_error = 453270.954\\nsamples = 24\\nvalue = 5487.084'),\n",
       " Text(0.19540229885057472, 0.5, 'squared_error = 29679948.122\\nsamples = 22\\nvalue = 7535.299'),\n",
       " Text(0.3563218390804598, 0.6818181818181818, 'x[8] <= -0.22\\nsquared_error = 22915520.573\\nsamples = 343\\nvalue = 6540.675'),\n",
       " Text(0.28735632183908044, 0.5909090909090909, 'x[9] <= 0.25\\nsquared_error = 28623481.741\\nsamples = 200\\nvalue = 5910.286'),\n",
       " Text(0.2413793103448276, 0.5, 'x[8] <= -0.5\\nsquared_error = 26380565.457\\nsamples = 90\\nvalue = 5123.383'),\n",
       " Text(0.21839080459770116, 0.4090909090909091, 'x[6] <= 0.5\\nsquared_error = 20635184.903\\nsamples = 48\\nvalue = 3846.352'),\n",
       " Text(0.20689655172413793, 0.3181818181818182, 'x[8] <= -0.62\\nsquared_error = 9365461.752\\nsamples = 43\\nvalue = 3437.362'),\n",
       " Text(0.19540229885057472, 0.22727272727272727, 'squared_error = 3035092.734\\nsamples = 27\\nvalue = 2641.055'),\n",
       " Text(0.21839080459770116, 0.22727272727272727, 'squared_error = 17172194.62\\nsamples = 16\\nvalue = 4781.13'),\n",
       " Text(0.22988505747126436, 0.3181818181818182, 'squared_error = 103744744.92\\nsamples = 5\\nvalue = 7363.668'),\n",
       " Text(0.26436781609195403, 0.4090909090909091, 'x[8] <= -0.38\\nsquared_error = 28952902.024\\nsamples = 42\\nvalue = 6582.846'),\n",
       " Text(0.25287356321839083, 0.3181818181818182, 'squared_error = 53965895.669\\nsamples = 14\\nvalue = 8381.243'),\n",
       " Text(0.27586206896551724, 0.3181818181818182, 'squared_error = 14020731.631\\nsamples = 28\\nvalue = 5683.648'),\n",
       " Text(0.3333333333333333, 0.5, 'x[7] <= 0.5\\nsquared_error = 29537446.464\\nsamples = 110\\nvalue = 6554.116'),\n",
       " Text(0.3218390804597701, 0.4090909090909091, 'x[1] <= 0.5\\nsquared_error = 21606933.546\\nsamples = 83\\nvalue = 5974.802'),\n",
       " Text(0.2988505747126437, 0.3181818181818182, 'x[8] <= -0.46\\nsquared_error = 32594104.358\\nsamples = 40\\nvalue = 6745.703'),\n",
       " Text(0.28735632183908044, 0.22727272727272727, 'squared_error = 58515553.618\\nsamples = 21\\nvalue = 7973.513'),\n",
       " Text(0.3103448275862069, 0.22727272727272727, 'squared_error = 436281.447\\nsamples = 19\\nvalue = 5388.649'),\n",
       " Text(0.3448275862068966, 0.3181818181818182, 'x[9] <= 1.25\\nsquared_error = 10319227.561\\nsamples = 43\\nvalue = 5257.686'),\n",
       " Text(0.3333333333333333, 0.22727272727272727, 'x[8] <= -0.42\\nsquared_error = 8132663.905\\nsamples = 36\\nvalue = 4875.468'),\n",
       " Text(0.3218390804597701, 0.13636363636363635, 'squared_error = 3442290.916\\nsamples = 20\\nvalue = 4204.366'),\n",
       " Text(0.3448275862068966, 0.13636363636363635, 'squared_error = 12728942.312\\nsamples = 16\\nvalue = 5714.345'),\n",
       " Text(0.3563218390804598, 0.22727272727272727, 'squared_error = 16949139.747\\nsamples = 7\\nvalue = 7223.379'),\n",
       " Text(0.3448275862068966, 0.4090909090909091, 'squared_error = 49713326.175\\nsamples = 27\\nvalue = 8334.967'),\n",
       " Text(0.42528735632183906, 0.5909090909090909, 'x[9] <= 1.25\\nsquared_error = 13599236.864\\nsamples = 143\\nvalue = 7422.338'),\n",
       " Text(0.41379310344827586, 0.5, 'x[8] <= -0.02\\nsquared_error = 12790533.035\\nsamples = 134\\nvalue = 7222.259'),\n",
       " Text(0.3793103448275862, 0.4090909090909091, 'x[9] <= 0.25\\nsquared_error = 12364427.628\\nsamples = 74\\nvalue = 6737.172'),\n",
       " Text(0.367816091954023, 0.3181818181818182, 'squared_error = 2675931.215\\nsamples = 32\\nvalue = 5689.644'),\n",
       " Text(0.39080459770114945, 0.3181818181818182, 'x[8] <= -0.14\\nsquared_error = 18273098.623\\nsamples = 42\\nvalue = 7535.289'),\n",
       " Text(0.3793103448275862, 0.22727272727272727, 'squared_error = 47078758.414\\nsamples = 15\\nvalue = 9091.097'),\n",
       " Text(0.40229885057471265, 0.22727272727272727, 'squared_error = 178132.535\\nsamples = 27\\nvalue = 6670.952'),\n",
       " Text(0.4482758620689655, 0.4090909090909091, 'x[7] <= 0.5\\nsquared_error = 12667917.648\\nsamples = 60\\nvalue = 7820.532'),\n",
       " Text(0.4367816091954023, 0.3181818181818182, 'x[8] <= 0.06\\nsquared_error = 18692341.779\\nsamples = 39\\nvalue = 8293.702'),\n",
       " Text(0.42528735632183906, 0.22727272727272727, 'squared_error = 36576655.748\\nsamples = 18\\nvalue = 9161.254'),\n",
       " Text(0.4482758620689655, 0.22727272727272727, 'squared_error = 2164837.708\\nsamples = 21\\nvalue = 7550.085'),\n",
       " Text(0.45977011494252873, 0.3181818181818182, 'squared_error = 291717.155\\nsamples = 21\\nvalue = 6941.789'),\n",
       " Text(0.4367816091954023, 0.5, 'squared_error = 16169717.181\\nsamples = 9\\nvalue = 10401.297'),\n",
       " Text(0.610632183908046, 0.7727272727272727, 'x[8] <= 0.5\\nsquared_error = 26721035.435\\nsamples = 468\\nvalue = 12299.887'),\n",
       " Text(0.5229885057471264, 0.6818181818181818, 'x[8] <= 0.3\\nsquared_error = 20456561.801\\nsamples = 199\\nvalue = 10193.097'),\n",
       " Text(0.4942528735632184, 0.5909090909090909, 'x[7] <= 0.5\\nsquared_error = 18615139.996\\nsamples = 84\\nvalue = 9378.791'),\n",
       " Text(0.4827586206896552, 0.5, 'x[9] <= 0.25\\nsquared_error = 6548412.028\\nsamples = 55\\nvalue = 8812.228'),\n",
       " Text(0.47126436781609193, 0.4090909090909091, 'squared_error = 5111335.692\\nsamples = 26\\nvalue = 8172.059'),\n",
       " Text(0.4942528735632184, 0.4090909090909091, 'squared_error = 7139991.023\\nsamples = 29\\nvalue = 9386.173'),\n",
       " Text(0.5057471264367817, 0.5, 'squared_error = 39736949.069\\nsamples = 29\\nvalue = 10453.307'),\n",
       " Text(0.5517241379310345, 0.5909090909090909, 'x[7] <= 0.5\\nsquared_error = 20963470.289\\nsamples = 115\\nvalue = 10787.894'),\n",
       " Text(0.5287356321839081, 0.5, 'x[9] <= -0.25\\nsquared_error = 16214185.825\\nsamples = 80\\nvalue = 10443.619'),\n",
       " Text(0.5172413793103449, 0.4090909090909091, 'squared_error = 6677657.214\\nsamples = 22\\nvalue = 9358.241'),\n",
       " Text(0.5402298850574713, 0.4090909090909091, 'x[6] <= 0.5\\nsquared_error = 19215151.869\\nsamples = 58\\nvalue = 10855.314'),\n",
       " Text(0.5287356321839081, 0.3181818181818182, 'x[9] <= 0.25\\nsquared_error = 12240460.036\\nsamples = 43\\nvalue = 10438.433'),\n",
       " Text(0.5172413793103449, 0.22727272727272727, 'squared_error = 12529676.749\\nsamples = 23\\nvalue = 9856.096'),\n",
       " Text(0.5402298850574713, 0.22727272727272727, 'squared_error = 11069394.493\\nsamples = 20\\nvalue = 11108.121'),\n",
       " Text(0.5517241379310345, 0.3181818181818182, 'squared_error = 37282902.776\\nsamples = 15\\nvalue = 12050.374'),\n",
       " Text(0.5747126436781609, 0.5, 'x[8] <= 0.38\\nsquared_error = 30928830.624\\nsamples = 35\\nvalue = 11574.807'),\n",
       " Text(0.5632183908045977, 0.4090909090909091, 'squared_error = 10754822.244\\nsamples = 13\\nvalue = 10223.522'),\n",
       " Text(0.5862068965517241, 0.4090909090909091, 'squared_error = 41133270.251\\nsamples = 22\\nvalue = 12373.294'),\n",
       " Text(0.6982758620689655, 0.6818181818181818, 'x[8] <= 0.78\\nsquared_error = 25642706.754\\nsamples = 269\\nvalue = 13858.442'),\n",
       " Text(0.6494252873563219, 0.5909090909090909, 'x[9] <= 0.25\\nsquared_error = 23507743.415\\nsamples = 161\\nvalue = 12937.945'),\n",
       " Text(0.6206896551724138, 0.5, 'x[6] <= 0.5\\nsquared_error = 18340055.67\\nsamples = 114\\nvalue = 12348.432'),\n",
       " Text(0.6091954022988506, 0.4090909090909091, 'x[1] <= 0.5\\nsquared_error = 20535997.274\\nsamples = 96\\nvalue = 12524.495'),\n",
       " Text(0.5862068965517241, 0.3181818181818182, 'x[9] <= -0.25\\nsquared_error = 25481958.467\\nsamples = 44\\nvalue = 13100.278'),\n",
       " Text(0.5747126436781609, 0.22727272727272727, 'squared_error = 15703804.315\\nsamples = 33\\nvalue = 12563.578'),\n",
       " Text(0.5977011494252874, 0.22727272727272727, 'squared_error = 51359858.244\\nsamples = 11\\nvalue = 14710.378'),\n",
       " Text(0.632183908045977, 0.3181818181818182, 'x[3] <= 0.5\\nsquared_error = 15833066.179\\nsamples = 52\\nvalue = 12037.294'),\n",
       " Text(0.6206896551724138, 0.22727272727272727, 'x[8] <= 0.58\\nsquared_error = 17876616.285\\nsamples = 45\\nvalue = 12264.746'),\n",
       " Text(0.6091954022988506, 0.13636363636363635, 'squared_error = 27984502.181\\nsamples = 10\\nvalue = 11507.9'),\n",
       " Text(0.632183908045977, 0.13636363636363635, 'x[8] <= 0.62\\nsquared_error = 14778226.483\\nsamples = 35\\nvalue = 12480.988'),\n",
       " Text(0.6206896551724138, 0.045454545454545456, 'squared_error = 43896803.082\\nsamples = 7\\nvalue = 14538.849'),\n",
       " Text(0.6436781609195402, 0.045454545454545456, 'squared_error = 6175210.785\\nsamples = 28\\nvalue = 11966.523'),\n",
       " Text(0.6436781609195402, 0.22727272727272727, 'squared_error = 225367.399\\nsamples = 7\\nvalue = 10575.1'),\n",
       " Text(0.632183908045977, 0.4090909090909091, 'squared_error = 5581311.238\\nsamples = 18\\nvalue = 11409.426'),\n",
       " Text(0.6781609195402298, 0.5, 'x[6] <= 0.5\\nsquared_error = 33154630.095\\nsamples = 47\\nvalue = 14367.829'),\n",
       " Text(0.6666666666666666, 0.4090909090909091, 'x[4] <= 0.5\\nsquared_error = 19263383.113\\nsamples = 35\\nvalue = 13454.33'),\n",
       " Text(0.6551724137931034, 0.3181818181818182, 'squared_error = 10282951.706\\nsamples = 19\\nvalue = 12802.811'),\n",
       " Text(0.6781609195402298, 0.3181818181818182, 'squared_error = 28824998.455\\nsamples = 16\\nvalue = 14228.009'),\n",
       " Text(0.6896551724137931, 0.4090909090909091, 'squared_error = 64137979.743\\nsamples = 12\\nvalue = 17032.202'),\n",
       " Text(0.7471264367816092, 0.5909090909090909, 'x[9] <= -0.25\\nsquared_error = 25679264.685\\nsamples = 108\\nvalue = 15230.664'),\n",
       " Text(0.7241379310344828, 0.5, 'x[7] <= 0.5\\nsquared_error = 10073605.268\\nsamples = 72\\nvalue = 14039.329'),\n",
       " Text(0.7126436781609196, 0.4090909090909091, 'x[8] <= 0.94\\nsquared_error = 1706083.007\\nsamples = 53\\nvalue = 13570.268'),\n",
       " Text(0.7011494252873564, 0.3181818181818182, 'x[6] <= 0.5\\nsquared_error = 2299197.565\\nsamples = 35\\nvalue = 13314.797'),\n",
       " Text(0.6896551724137931, 0.22727272727272727, 'squared_error = 206082.644\\nsamples = 22\\nvalue = 13101.914'),\n",
       " Text(0.7126436781609196, 0.22727272727272727, 'squared_error = 5634908.145\\nsamples = 13\\nvalue = 13675.061'),\n",
       " Text(0.7241379310344828, 0.3181818181818182, 'squared_error = 179141.149\\nsamples = 18\\nvalue = 14067.016'),\n",
       " Text(0.735632183908046, 0.4090909090909091, 'squared_error = 31088852.743\\nsamples = 19\\nvalue = 15347.763'),\n",
       " Text(0.7701149425287356, 0.5, 'x[7] <= 0.5\\nsquared_error = 48374911.009\\nsamples = 36\\nvalue = 17613.334'),\n",
       " Text(0.7586206896551724, 0.4090909090909091, 'squared_error = 57254792.738\\nsamples = 27\\nvalue = 18939.644'),\n",
       " Text(0.7816091954022989, 0.4090909090909091, 'squared_error = 626084.284\\nsamples = 9\\nvalue = 13634.403'),\n",
       " Text(0.9339080459770115, 0.8636363636363636, 'x[7] <= 0.5\\nsquared_error = 132721157.631\\nsamples = 274\\nvalue = 32050.232'),\n",
       " Text(0.8908045977011494, 0.7727272727272727, 'x[3] <= 0.5\\nsquared_error = 125909978.91\\nsamples = 200\\nvalue = 35585.344'),\n",
       " Text(0.8620689655172413, 0.6818181818181818, 'x[8] <= 0.14\\nsquared_error = 53351994.775\\nsamples = 150\\nvalue = 40799.718'),\n",
       " Text(0.8390804597701149, 0.5909090909090909, 'x[2] <= 0.5\\nsquared_error = 45405738.251\\nsamples = 85\\nvalue = 37079.11'),\n",
       " Text(0.8275862068965517, 0.5, 'x[4] <= 0.5\\nsquared_error = 22790375.06\\nsamples = 80\\nvalue = 38220.941'),\n",
       " Text(0.8045977011494253, 0.4090909090909091, 'x[8] <= -0.46\\nsquared_error = 24908373.219\\nsamples = 37\\nvalue = 40795.801'),\n",
       " Text(0.7931034482758621, 0.3181818181818182, 'squared_error = 5152580.174\\nsamples = 17\\nvalue = 38478.742'),\n",
       " Text(0.8160919540229885, 0.3181818181818182, 'squared_error = 33258416.113\\nsamples = 20\\nvalue = 42765.302'),\n",
       " Text(0.8505747126436781, 0.4090909090909091, 'x[9] <= -0.25\\nsquared_error = 10354325.295\\nsamples = 43\\nvalue = 36005.363'),\n",
       " Text(0.8390804597701149, 0.3181818181818182, 'squared_error = 8465775.543\\nsamples = 23\\nvalue = 34283.358'),\n",
       " Text(0.8620689655172413, 0.3181818181818182, 'squared_error = 5194446.583\\nsamples = 20\\nvalue = 37985.67'),\n",
       " Text(0.8505747126436781, 0.5, 'squared_error = 52624372.046\\nsamples = 5\\nvalue = 18809.826'),\n",
       " Text(0.8850574712643678, 0.5909090909090909, 'x[8] <= 0.46\\nsquared_error = 21968758.331\\nsamples = 65\\nvalue = 45665.128'),\n",
       " Text(0.8735632183908046, 0.5, 'squared_error = 19673997.284\\nsamples = 27\\nvalue = 43266.99'),\n",
       " Text(0.896551724137931, 0.5, 'x[5] <= 0.5\\nsquared_error = 16609550.739\\nsamples = 38\\nvalue = 47369.068'),\n",
       " Text(0.8850574712643678, 0.4090909090909091, 'squared_error = 10950352.044\\nsamples = 31\\nvalue = 46666.223'),\n",
       " Text(0.9080459770114943, 0.4090909090909091, 'squared_error = 29795758.621\\nsamples = 7\\nvalue = 50481.669'),\n",
       " Text(0.9195402298850575, 0.6818181818181818, 'x[8] <= 0.22\\nsquared_error = 17307612.231\\nsamples = 50\\nvalue = 19942.223'),\n",
       " Text(0.9080459770114943, 0.5909090909090909, 'squared_error = 6800823.919\\nsamples = 34\\nvalue = 17871.251'),\n",
       " Text(0.9310344827586207, 0.5909090909090909, 'squared_error = 11153394.005\\nsamples = 16\\nvalue = 24343.039'),\n",
       " Text(0.9770114942528736, 0.7727272727272727, 'x[8] <= 0.08\\nsquared_error = 26068262.517\\nsamples = 74\\nvalue = 22495.874'),\n",
       " Text(0.9655172413793104, 0.6818181818181818, 'x[8] <= -0.62\\nsquared_error = 9164607.177\\nsamples = 41\\nvalue = 19212.512'),\n",
       " Text(0.9540229885057471, 0.5909090909090909, 'squared_error = 584798.125\\nsamples = 16\\nvalue = 17211.753'),\n",
       " Text(0.9770114942528736, 0.5909090909090909, 'squared_error = 10454093.836\\nsamples = 25\\nvalue = 20492.999'),\n",
       " Text(0.9885057471264368, 0.6818181818181818, 'squared_error = 17034949.499\\nsamples = 33\\nvalue = 26575.202')]"
      ]
     },
     "execution_count": 70,
     "metadata": {},
     "output_type": "execute_result"
    },
    {
     "data": {
      "image/png": "[encoded data removed]",
      "text/plain": [
       "<Figure size 640x480 with 1 Axes>"
      ]
     },
     "metadata": {},
     "output_type": "display_data"
    }
   ],
   "source": [
    "clf = tree.DecisionTreeRegressor(splitter='best', criterion=\"squared_error\", max_depth=13, min_samples_split=35, min_impurity_decrease=0, min_samples_leaf=5)\n",
    "clf = clf.fit(encoder.transform(X), y)\n",
    "\n",
    "tree.plot_tree(clf)"
   ]
  },
  {
   "cell_type": "code",
   "execution_count": null,
   "metadata": {},
   "outputs": [
    {
     "data": {
      "image/png": "[encoded data removed]",
      "text/plain": [
       "<Figure size 640x480 with 1 Axes>"
      ]
     },
     "metadata": {},
     "output_type": "display_data"
    }
   ],
   "source": [
    "N, train_score, val_score = learning_curve(model, X_train, y_train, train_sizes=np.linspace(0.1,1,10), cv=5)\n",
    "\n",
    "\n",
    "plt.plot(N, train_score.mean(axis=1), label='Entraînement')\n",
    "plt.plot(N, val_score.mean(axis=1), label='Validation')\n",
    "plt.title(f\"Modèle : {model.__class__.__name__}\")\n",
    "plt.xlabel('Courbes d\\'apprentissage')\n",
    "plt.legend()\n",
    "plt.show()"
   ]
  },
  {
   "attachments": {},
   "cell_type": "markdown",
   "metadata": {},
   "source": [
    "## Sélection et enregistrement du Modèle"
   ]
  },
  {
   "cell_type": "code",
   "execution_count": null,
   "metadata": {},
   "outputs": [
    {
     "name": "stdout",
     "output_type": "stream",
     "text": [
      "Nom du modèle : Pipeline, R2 score : 95.19%, MSE score : 4412.0, MSE score : 50.98\n"
     ]
    }
   ],
   "source": [
    "prediction = model.predict(X_test)\n",
    "\n",
    "prediction = model.predict(X_test)\n",
    "score_r2 = math.sqrt(r2_score(y_test, prediction))\n",
    "score_mse = math.sqrt(mean_squared_error(y_test, prediction))\n",
    "score_mae = math.sqrt(mean_absolute_error(y_test, prediction))\n",
    "    \n",
    "print(f\"Nom du modèle : {model.__class__.__name__}, R2 score : {round(score_r2 *100, 2)}%, MSE score : {round(score_mse,2)}, MSE score : {round(score_mae,2)}\")"
   ]
  },
  {
   "cell_type": "code",
   "execution_count": null,
   "metadata": {},
   "outputs": [],
   "source": []
  }
 ],
 "metadata": {
  "kernelspec": {
   "display_name": "Python 3",
   "language": "python",
   "name": "python3"
  },
  "language_info": {
   "codemirror_mode": {
    "name": "ipython",
    "version": 3
   },
   "file_extension": ".py",
   "mimetype": "text/x-python",
   "name": "python",
   "nbconvert_exporter": "python",
   "pygments_lexer": "ipython3",
   "version": "3.10.6"
  },
  "orig_nbformat": 4,
  "vscode": {
   "interpreter": {
    "hash": "916dbcbb3f70747c44a77c7bcd40155683ae19c65e1c03b4aa3499c5328201f1"
   }
  }
 },
 "nbformat": 4,
 "nbformat_minor": 2
}
